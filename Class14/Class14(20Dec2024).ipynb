{
 "cells": [
  {
   "cell_type": "code",
   "execution_count": 39,
   "metadata": {},
   "outputs": [],
   "source": [
    "class Bank_Account_Openning():\n",
    "   def  __init__ (self,Name,Father_Name,CNIC,Income,religion = \"Islam\"):\n",
    "     self.Name = Name\n",
    "     self.Father_Name = Father_Name\n",
    "     self.CNIC = CNIC\n",
    "     self.income = Income\n",
    "     # self.religion = religion\n",
    "     self.religion = \"Islam\"\n",
    "     self.weight = 0\n",
    "\n",
    "   def get_name(self):\n",
    "      self.Name\n",
    "\n",
    "   def set_name(self,new_name):\n",
    "      self.Name = new_name"
   ]
  },
  {
   "cell_type": "code",
   "execution_count": 40,
   "metadata": {},
   "outputs": [],
   "source": [
    "A1 = Bank_Account_Openning(\"Zafir\",\"Ahmed\",\"42301_00000_0\",25000)"
   ]
  },
  {
   "cell_type": "code",
   "execution_count": 41,
   "metadata": {},
   "outputs": [
    {
     "data": {
      "text/plain": [
       "'Zafir'"
      ]
     },
     "execution_count": 41,
     "metadata": {},
     "output_type": "execute_result"
    }
   ],
   "source": [
    "A1.Name"
   ]
  },
  {
   "cell_type": "code",
   "execution_count": 42,
   "metadata": {},
   "outputs": [],
   "source": [
    "A1.income = 123456789"
   ]
  },
  {
   "cell_type": "code",
   "execution_count": 43,
   "metadata": {},
   "outputs": [],
   "source": [
    "A1.religion = \"Non Muslim\""
   ]
  },
  {
   "cell_type": "code",
   "execution_count": 44,
   "metadata": {},
   "outputs": [
    {
     "data": {
      "text/plain": [
       "0"
      ]
     },
     "execution_count": 44,
     "metadata": {},
     "output_type": "execute_result"
    }
   ],
   "source": [
    "A1.weight"
   ]
  },
  {
   "cell_type": "code",
   "execution_count": 45,
   "metadata": {},
   "outputs": [],
   "source": [
    "A1.get_name()"
   ]
  },
  {
   "cell_type": "markdown",
   "metadata": {},
   "source": [
    "### Sir Nasir came late after the teaching started. The explanation is provided below."
   ]
  },
  {
   "cell_type": "code",
   "execution_count": 127,
   "metadata": {},
   "outputs": [],
   "source": [
    "class Bank_Account_Openning():\n",
    "   def  __init__ (self,Name,Father_Name,CNIC,Income,religion = \"Islam\"):\n",
    "     self.__Name = Name\n",
    "     self.__Father_Name = Father_Name\n",
    "     self.__CNIC = CNIC\n",
    "     self.__income = Income\n",
    "     # self.religion = religion\n",
    "     self.__religion = \"Islam\"\n",
    "     self.__weight = 0\n",
    "\n",
    "   def get_name(self):\n",
    "      return self.__Name\n",
    "   \n",
    "   def set_name(self,new_name):\n",
    "      available_names = ['Nasir', 'Atif', 'Asad']\n",
    "      if new_name in available_names:\n",
    "        self.__Name = new_name\n",
    "      else:\n",
    "         return f\"{new_name} is not available\"\n",
    "      "
   ]
  },
  {
   "cell_type": "code",
   "execution_count": 128,
   "metadata": {},
   "outputs": [],
   "source": [
    "A1 = Bank_Account_Openning('NASIR','Asad',12345,1234)"
   ]
  },
  {
   "cell_type": "code",
   "execution_count": 131,
   "metadata": {},
   "outputs": [
    {
     "data": {
      "text/plain": [
       "'Furqan is not available'"
      ]
     },
     "execution_count": 131,
     "metadata": {},
     "output_type": "execute_result"
    }
   ],
   "source": [
    "A1.set_name(\"Furqan\")"
   ]
  },
  {
   "cell_type": "code",
   "execution_count": 126,
   "metadata": {},
   "outputs": [
    {
     "data": {
      "text/plain": [
       "'Atif'"
      ]
     },
     "execution_count": 126,
     "metadata": {},
     "output_type": "execute_result"
    }
   ],
   "source": [
    "A1.get_name()"
   ]
  },
  {
   "cell_type": "code",
   "execution_count": 116,
   "metadata": {},
   "outputs": [],
   "source": [
    "A1.set_name('Nawaz Sharif')\n",
    "# print(f\"{A1.Name} is not available\")"
   ]
  },
  {
   "cell_type": "code",
   "execution_count": 117,
   "metadata": {},
   "outputs": [],
   "source": [
    "A1.get_name()"
   ]
  },
  {
   "cell_type": "markdown",
   "metadata": {},
   "source": [
    "# Inheritance\n",
    "\n",
    "- When a class inherits the properties and behaviors of another class.\n",
    "- The class that inherits : child CLass / SUb CLass\n",
    "- The class inherited: Parent / Super\n",
    "\n",
    "Why???"
   ]
  },
  {
   "cell_type": "code",
   "execution_count": 99,
   "metadata": {},
   "outputs": [],
   "source": [
    "class Car():\n",
    "    def __init__(self, make, model, year, cc):\n",
    "        self.make = make\n",
    "        self.model = model\n",
    "        self.year = year\n",
    "        self.ccc = cc\n",
    "    def start_car(self):\n",
    "        print(\"hnnnnnnhnnnn\")\n",
    "    def fill_tank(self):\n",
    "        print(\"Car tank is being filled\")           "
   ]
  },
  {
   "cell_type": "code",
   "execution_count": 102,
   "metadata": {},
   "outputs": [],
   "source": [
    "class Honda(Car):\n",
    "    def __init__(self, make, model, year, cc,color,seats,price):\n",
    "        super().__init__(make,model,year,cc)\n",
    "        self.color = color\n",
    "        self.seats = seats\n",
    "        self.price = price\n",
    "    \n",
    "    def ac_on(self):\n",
    "        print(\"AC is on\")\n",
    "    def music(self):\n",
    "        print(\"Music playing in car\")    "
   ]
  },
  {
   "cell_type": "code",
   "execution_count": 103,
   "metadata": {},
   "outputs": [],
   "source": [
    "h1 = Honda('Honda',\"CIVIC\",2025,1600,'Black',6,\"10M\")"
   ]
  },
  {
   "cell_type": "code",
   "execution_count": 104,
   "metadata": {},
   "outputs": [
    {
     "name": "stdout",
     "output_type": "stream",
     "text": [
      "hnnnnnnhnnnn\n"
     ]
    }
   ],
   "source": [
    "h1.start_car()"
   ]
  },
  {
   "cell_type": "code",
   "execution_count": 105,
   "metadata": {},
   "outputs": [
    {
     "name": "stdout",
     "output_type": "stream",
     "text": [
      "Music playing in car\n"
     ]
    }
   ],
   "source": [
    "h1.music()"
   ]
  },
  {
   "cell_type": "code",
   "execution_count": null,
   "metadata": {},
   "outputs": [],
   "source": []
  }
 ],
 "metadata": {
  "kernelspec": {
   "display_name": "Python 3",
   "language": "python",
   "name": "python3"
  },
  "language_info": {
   "codemirror_mode": {
    "name": "ipython",
    "version": 3
   },
   "file_extension": ".py",
   "mimetype": "text/x-python",
   "name": "python",
   "nbconvert_exporter": "python",
   "pygments_lexer": "ipython3",
   "version": "3.10.11"
  }
 },
 "nbformat": 4,
 "nbformat_minor": 2
}
