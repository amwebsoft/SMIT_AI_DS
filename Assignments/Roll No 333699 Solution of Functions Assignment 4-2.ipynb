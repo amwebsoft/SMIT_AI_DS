{
 "cells": [
  {
   "cell_type": "markdown",
   "id": "0500e8f9-ab2f-4a3a-9359-aba78bf70fbb",
   "metadata": {},
   "source": [
    "### Task1:\n",
    "    You need to write a function in python that return all such numbers which are\n",
    "    divisible by 7 but are not a multiple of 5, between 2000 and 3200 (both included).\n",
    "    Return the obtained numbers in a comma-separated sequence on a single line."
   ]
  },
  {
   "cell_type": "code",
   "execution_count": 2,
   "id": "cdb690d1-753e-401f-bb8a-ba3a4abcaaad",
   "metadata": {},
   "outputs": [
    {
     "name": "stdout",
     "output_type": "stream",
     "text": [
      "2002,2009,2016,2023,2037,2044,2051,2058,2072,2079,2086,2093,2107,2114,2121,2128,2142,2149,2156,2163,2177,2184,2191,2198,2212,2219,2226,2233,2247,2254,2261,2268,2282,2289,2296,2303,2317,2324,2331,2338,2352,2359,2366,2373,2387,2394,2401,2408,2422,2429,2436,2443,2457,2464,2471,2478,2492,2499,2506,2513,2527,2534,2541,2548,2562,2569,2576,2583,2597,2604,2611,2618,2632,2639,2646,2653,2667,2674,2681,2688,2702,2709,2716,2723,2737,2744,2751,2758,2772,2779,2786,2793,2807,2814,2821,2828,2842,2849,2856,2863,2877,2884,2891,2898,2912,2919,2926,2933,2947,2954,2961,2968,2982,2989,2996,3003,3017,3024,3031,3038,3052,3059,3066,3073,3087,3094,3101,3108,3122,3129,3136,3143,3157,3164,3171,3178,3192,3199\n"
     ]
    }
   ],
   "source": [
    "def find_numbers():\n",
    "    \"\"\"\n",
    "    Find all numbers between 2000 and 3200 (inclusive) that are divisible by 7 \n",
    "    but not multiples of 5.\n",
    "\n",
    "    Returns:\n",
    "        str: A comma-separated string of the obtained numbers.\n",
    "    \"\"\"\n",
    "    result = [str(num) for num in range(2000, 3201) if num % 7 == 0 and num % 5 != 0]\n",
    "    return ','.join(result)\n",
    "\n",
    "# Example usage\n",
    "print(find_numbers())\n"
   ]
  },
  {
   "cell_type": "markdown",
   "id": "ed984c95-d871-4ae5-ae2c-61cdbbe6e239",
   "metadata": {},
   "source": [
    "### Task2:\n",
    "    You need code a function that calculates and returns the value according to the\n",
    "    given formula:\n",
    "    P = Square root of [(2 * A * B)/C]\n",
    "    Following are the fixed values of A and B:\n",
    "    A is 50. B is 30.\n",
    "    The values of the literal C should be taken as console input to your program in a\n",
    "    comma-separated sequence.\n",
    "    Example\n",
    "    Let us assume the following comma separated input sequence is given to the\n",
    "    program:\n",
    "    100,150,180\n",
    "    The output of the program should be:\n",
    "    18,22,24"
   ]
  },
  {
   "cell_type": "code",
   "execution_count": 7,
   "id": "3eaf07d7-a523-430b-bbad-f0628d30551e",
   "metadata": {},
   "outputs": [
    {
     "name": "stdin",
     "output_type": "stream",
     "text": [
      "Enter comma-separated C values:  6,9,21,16\n"
     ]
    },
    {
     "name": "stdout",
     "output_type": "stream",
     "text": [
      "22,18,12,14\n"
     ]
    }
   ],
   "source": [
    "import math\n",
    "\n",
    "def calculate_values(c_values):\n",
    "    \"\"\"\n",
    "    Calculate the values of P using the formula: P = √[(2 * A * B) / C]\n",
    "\n",
    "    Args:\n",
    "        c_values (list of int): The list of C values.\n",
    "\n",
    "    Returns:\n",
    "        list of int: The list of calculated P values rounded to the nearest integer.\n",
    "    \"\"\"\n",
    "    A = 50\n",
    "    B = 30\n",
    "    results = [round(math.sqrt((2 * A * B) / C)) for C in c_values]\n",
    "    return results\n",
    "\n",
    "# Example usage\n",
    "input_values = input(\"Enter comma-separated C values: \")\n",
    "c_values = list(map(int, input_values.split(',')))\n",
    "output = calculate_values(c_values)\n",
    "print(\",\".join(map(str, output)))\n"
   ]
  },
  {
   "cell_type": "markdown",
   "id": "cbf32c69-091e-4230-afb0-7e34fbbee054",
   "metadata": {},
   "source": [
    "### Task3:\n",
    "    You need to write a function that takes a comma separated sequence of words as\n",
    "    input and prints the words in a comma-separated sequence after sorting them\n",
    "    alphabetically.\n",
    "    Suppose the following input is supplied to the program:\n",
    "    without,hello,bag,world\n",
    "    Then, the output should be:\n",
    "    bag, hello, without, world"
   ]
  },
  {
   "cell_type": "code",
   "execution_count": 18,
   "id": "86899878-1ead-4b60-a1f4-e0fd3ed0a5a2",
   "metadata": {},
   "outputs": [
    {
     "name": "stdin",
     "output_type": "stream",
     "text": [
      "Enter a comma-separated sequence of words:   cat, apple, zoya, helo\n"
     ]
    },
    {
     "name": "stdout",
     "output_type": "stream",
     "text": [
      " apple, cat, helo, zoya\n"
     ]
    }
   ],
   "source": [
    "def sort_words(input_sequence):\n",
    "    \"\"\"\n",
    "    Sort a comma-separated sequence of words alphabetically.\n",
    "\n",
    "    Args:\n",
    "        input_sequence (str): A comma-separated string of words.\n",
    "\n",
    "    Returns:\n",
    "        str: The words sorted alphabetically in a comma-separated sequence.\n",
    "    \"\"\"\n",
    "    words = input_sequence.split(',')\n",
    "    sorted_words = sorted(words)\n",
    "    return ','.join(sorted_words)\n",
    "\n",
    "# Example usage\n",
    "input_sequence = input(\"Enter a comma-separated sequence of words: \")\n",
    "output = sort_words(input_sequence)\n",
    "print(output)\n"
   ]
  },
  {
   "cell_type": "markdown",
   "id": "b2fe85f3-d30d-4641-b672-79078c4ce04d",
   "metadata": {},
   "source": [
    "### Task4:\n",
    "    You need to write a program that takes sequence of lines as input and prints the\n",
    "    lines after making all characters in the sentence capitalized.\n",
    "    Suppose the following input is supplied to the program:\n",
    "    Hello world\n",
    "    Practice makes perfect\n",
    "    Then, the output should be:\n",
    "    HELLO WORLD\n",
    "    PRACTICE MAKES PERFECT"
   ]
  },
  {
   "cell_type": "code",
   "execution_count": 21,
   "id": "a0a91d4c-ccb6-40c2-8c40-4d376a60c0c3",
   "metadata": {},
   "outputs": [
    {
     "name": "stdout",
     "output_type": "stream",
     "text": [
      "Enter the lines (Press Enter to stop):\n"
     ]
    },
    {
     "name": "stdin",
     "output_type": "stream",
     "text": [
      " a quick brown fox jumps\n"
     ]
    },
    {
     "name": "stdout",
     "output_type": "stream",
     "text": [
      "A QUICK BROWN FOX JUMPS\n"
     ]
    },
    {
     "name": "stdin",
     "output_type": "stream",
     "text": [
      " i am a boy\n"
     ]
    },
    {
     "name": "stdout",
     "output_type": "stream",
     "text": [
      "I AM A BOY\n"
     ]
    },
    {
     "name": "stdin",
     "output_type": "stream",
     "text": [
      " We are cRazY\n"
     ]
    },
    {
     "name": "stdout",
     "output_type": "stream",
     "text": [
      "WE ARE CRAZY\n"
     ]
    },
    {
     "name": "stdin",
     "output_type": "stream",
     "text": [
      " \n"
     ]
    }
   ],
   "source": [
    "def capitalize_lines():\n",
    "    \"\"\"\n",
    "    Take a sequence of lines as input and print the lines with all characters capitalized.\n",
    "    \"\"\"\n",
    "    print(\"Enter the lines (Press Enter to stop):\")\n",
    "    \n",
    "    while True:\n",
    "        line = input()\n",
    "        if line == \"\":\n",
    "            break\n",
    "        print(line.upper())\n",
    "\n",
    "# Example usage\n",
    "capitalize_lines()\n"
   ]
  },
  {
   "cell_type": "markdown",
   "id": "da748022-8959-4054-bccd-299f8ab8c703",
   "metadata": {},
   "source": [
    "### Task5:\n",
    "    You need to write a function that counts the number of vowels in a given\n",
    "    sentence as input from console.\n",
    "    Suppose the following input is supplied to the program:\n",
    "    Hello world\n",
    "    Practice makes perfect\n",
    "    Then, the output should be:\n",
    "    a appeared 2 times\n",
    "    e appeared 5 times\n",
    "    i appeared 1 time\n",
    "    o appeared 2 times\n",
    "    u appeared 0 time\n",
    "    PRACTICE MAKES PERFECT"
   ]
  },
  {
   "cell_type": "code",
   "execution_count": 24,
   "id": "e0165f02-c11a-4b8c-95ab-d172827492be",
   "metadata": {},
   "outputs": [
    {
     "name": "stdin",
     "output_type": "stream",
     "text": [
      "Enter a sentence:  we are going on shopping\n"
     ]
    },
    {
     "name": "stdout",
     "output_type": "stream",
     "text": [
      "a appeared 1 time\n",
      "e appeared 2 times\n",
      "i appeared 2 times\n",
      "o appeared 3 times\n",
      "u appeared 0 times\n"
     ]
    }
   ],
   "source": [
    "def count_vowels():\n",
    "    \"\"\"\n",
    "    Count the number of occurrences of each vowel (a, e, i, o, u) in a given sentence.\n",
    "    \"\"\"\n",
    "    sentence = input(\"Enter a sentence: \")\n",
    "    \n",
    "    vowels = \"aeiou\"\n",
    "    count = {v: sentence.lower().count(v) for v in vowels}\n",
    "    \n",
    "    for vowel in vowels:\n",
    "        print(f\"{vowel} appeared {count[vowel]} time{'s' if count[vowel] != 1 else ''}\")\n",
    "\n",
    "# Example usage\n",
    "count_vowels()"
   ]
  },
  {
   "cell_type": "markdown",
   "id": "eb0a0655-bfeb-4c61-af2e-38b9653d03a1",
   "metadata": {},
   "source": [
    "### Task6:\n",
    "    You need write a function that traces and makes a list of all such numbers\n",
    "    from1000 to 3000 in which all the digits are even numbers."
   ]
  },
  {
   "cell_type": "code",
   "execution_count": 27,
   "id": "7889e3ab-0ca8-46e6-a380-aa092817ae16",
   "metadata": {},
   "outputs": [
    {
     "name": "stdout",
     "output_type": "stream",
     "text": [
      "[2000, 2002, 2004, 2006, 2008, 2020, 2022, 2024, 2026, 2028, 2040, 2042, 2044, 2046, 2048, 2060, 2062, 2064, 2066, 2068, 2080, 2082, 2084, 2086, 2088, 2200, 2202, 2204, 2206, 2208, 2220, 2222, 2224, 2226, 2228, 2240, 2242, 2244, 2246, 2248, 2260, 2262, 2264, 2266, 2268, 2280, 2282, 2284, 2286, 2288, 2400, 2402, 2404, 2406, 2408, 2420, 2422, 2424, 2426, 2428, 2440, 2442, 2444, 2446, 2448, 2460, 2462, 2464, 2466, 2468, 2480, 2482, 2484, 2486, 2488, 2600, 2602, 2604, 2606, 2608, 2620, 2622, 2624, 2626, 2628, 2640, 2642, 2644, 2646, 2648, 2660, 2662, 2664, 2666, 2668, 2680, 2682, 2684, 2686, 2688, 2800, 2802, 2804, 2806, 2808, 2820, 2822, 2824, 2826, 2828, 2840, 2842, 2844, 2846, 2848, 2860, 2862, 2864, 2866, 2868, 2880, 2882, 2884, 2886, 2888]\n"
     ]
    }
   ],
   "source": [
    "def find_even_digit_numbers():\n",
    "    \"\"\"\n",
    "    Find all numbers between 1000 and 3000 where all digits are even.\n",
    "    \"\"\"\n",
    "    even_numbers = []\n",
    "    \n",
    "    for num in range(1000, 3001):\n",
    "        # Convert the number to a string to check each digit\n",
    "        if all(int(digit) % 2 == 0 for digit in str(num)):\n",
    "            even_numbers.append(num)\n",
    "    \n",
    "    return even_numbers\n",
    "\n",
    "# Example usage\n",
    "even_digit_numbers = find_even_digit_numbers()\n",
    "print(even_digit_numbers)\n"
   ]
  },
  {
   "cell_type": "markdown",
   "id": "8b8639e0-6633-4619-ad74-a402b23c17b6",
   "metadata": {},
   "source": [
    "### Task 7:\n",
    "    You need to write a code which accepts a sequence of comma separated 4 digit\n",
    "    binary numbers as its input and then check whether they are divisible by 5 or not.\n",
    "    The numbers that are divisible by 5 are to be printed in a comma separated\n",
    "    sequence.\n",
    "    Example:\n",
    "    0100,0011,1010,1001\n",
    "    Then the output should be:\n",
    "    1010\n",
    "    Reference: https://www.datacamp.com/.../python-data-type-conversion"
   ]
  },
  {
   "cell_type": "code",
   "execution_count": 49,
   "id": "5d1fa9cb-dff4-4ad4-8368-ace89883ff6e",
   "metadata": {},
   "outputs": [
    {
     "name": "stdin",
     "output_type": "stream",
     "text": [
      "Enter comma-separated 4-digit binary numbers:  0110,1100,1010\n"
     ]
    },
    {
     "name": "stdout",
     "output_type": "stream",
     "text": [
      "1010\n"
     ]
    }
   ],
   "source": [
    "def check_divisible_by_five():\n",
    "    \"\"\"\n",
    "    Accept a sequence of 4-digit binary numbers and check if they are divisible by 5.\n",
    "    Print the numbers divisible by 5 in a comma-separated sequence.\n",
    "    \"\"\"\n",
    "    # Accepting input\n",
    "    binary_numbers = input(\"Enter comma-separated 4-digit binary numbers: \").split(',')\n",
    "    \n",
    "    # List to store binary numbers divisible by 5\n",
    "    divisible_by_five = []\n",
    "    \n",
    "    # Checking divisibility by 5\n",
    "    for binary in binary_numbers:\n",
    "        # Convert binary to decimal\n",
    "        decimal = int(binary, 2)\n",
    "        \n",
    "        # If divisible by 5, add it to the list\n",
    "        if decimal % 5 == 0:\n",
    "            divisible_by_five.append(binary)\n",
    "    \n",
    "    # Output the binary numbers divisible by 5\n",
    "    print(','.join(divisible_by_five))\n",
    "\n",
    "# Example usage\n",
    "check_divisible_by_five()\n"
   ]
  },
  {
   "cell_type": "markdown",
   "id": "4a47fbde-5885-4b1d-98b5-b03d80be9d68",
   "metadata": {},
   "source": [
    "### Task8:\n",
    "    Write a program that accepts a sentence and calculate the number of letters and digits.\n",
    "    Suppose the following input is supplied to the program:\n",
    "    hello world! 123\n",
    "    Then, the output should be:\n",
    "    LETTERS 10\n",
    "    DIGITS 3"
   ]
  },
  {
   "cell_type": "code",
   "execution_count": 54,
   "id": "2fdc1d08-1cd3-41f0-a252-761f96069b1a",
   "metadata": {},
   "outputs": [
    {
     "name": "stdin",
     "output_type": "stream",
     "text": [
      "Enter a sentence:  we are 50 km from 50 m east of north 10\n"
     ]
    },
    {
     "name": "stdout",
     "output_type": "stream",
     "text": [
      "LETTERS 23\n",
      "DIGITS 6\n"
     ]
    }
   ],
   "source": [
    "def count_letters_and_digits():\n",
    "    \"\"\"\n",
    "    Accept a sentence and calculate the number of letters and digits in it.\n",
    "    \"\"\"\n",
    "    sentence = input(\"Enter a sentence: \")\n",
    "    \n",
    "    letters = 0\n",
    "    digits = 0\n",
    "    \n",
    "    for char in sentence:\n",
    "        if char.isalpha():\n",
    "            letters += 1\n",
    "        elif char.isdigit():\n",
    "            digits += 1\n",
    "    \n",
    "    # Output the count of letters and digits\n",
    "    print(f\"LETTERS {letters}\")\n",
    "    print(f\"DIGITS {digits}\")\n",
    "\n",
    "# Example usage\n",
    "count_letters_and_digits()\n"
   ]
  },
  {
   "cell_type": "code",
   "execution_count": null,
   "id": "931e6b74-8dd9-44b0-8ce1-8f1749b0b50b",
   "metadata": {},
   "outputs": [],
   "source": []
  }
 ],
 "metadata": {
  "kernelspec": {
   "display_name": "Python 3 (ipykernel)",
   "language": "python",
   "name": "python3"
  },
  "language_info": {
   "codemirror_mode": {
    "name": "ipython",
    "version": 3
   },
   "file_extension": ".py",
   "mimetype": "text/x-python",
   "name": "python",
   "nbconvert_exporter": "python",
   "pygments_lexer": "ipython3",
   "version": "3.12.7"
  }
 },
 "nbformat": 4,
 "nbformat_minor": 5
}
