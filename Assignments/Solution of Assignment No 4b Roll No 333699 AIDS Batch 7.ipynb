{
 "cells": [
  {
   "cell_type": "markdown",
   "id": "e1af16c2-394f-476a-8a9c-0201f083f1bb",
   "metadata": {},
   "source": [
    "# Assignment No 4b\n",
    "## List Assignments"
   ]
  },
  {
   "cell_type": "markdown",
   "id": "888f55be-68eb-40e6-b721-6b1d08c99577",
   "metadata": {},
   "source": [
    "### 1. Write a program that accepts a list from user and print the alternate element of list."
   ]
  },
  {
   "cell_type": "code",
   "execution_count": 5,
   "id": "5bbe4337-cd0c-4cd7-853e-03ec1a8a1115",
   "metadata": {},
   "outputs": [
    {
     "name": "stdin",
     "output_type": "stream",
     "text": [
      "Enter the elements of the list separated by spaces:  56 l 85 14 lk 45 l4 \n"
     ]
    },
    {
     "name": "stdout",
     "output_type": "stream",
     "text": [
      "alternate elements of the list are ['56', '85', 'lk', 'l4']: \n"
     ]
    }
   ],
   "source": [
    "# prompt the user enter the elements of the list\n",
    "user_input = input(\"Enter the elements of the list separated by spaces: \")\n",
    "\n",
    "# convert the elements into a list\n",
    "user_list = user_input.split()\n",
    "\n",
    "#print the alternate elements\n",
    "alternate_elements = user_list[::2]\n",
    "print(f\"alternate elements of the list are {alternate_elements}: \")"
   ]
  },
  {
   "cell_type": "markdown",
   "id": "cd3cc732-7d27-4b5d-bd06-76bd8c74a12b",
   "metadata": {},
   "source": [
    "### 2. Write a program that accepts a list from user. Your program should reverse the content of list and display it. Do not use reverse() method."
   ]
  },
  {
   "cell_type": "code",
   "execution_count": 30,
   "id": "addaa005-93e0-4e54-beda-77e5231cf760",
   "metadata": {},
   "outputs": [
    {
     "name": "stdin",
     "output_type": "stream",
     "text": [
      "Enter the elements of the list separated by spaces 6 5 4 3 2 1\n"
     ]
    },
    {
     "name": "stdout",
     "output_type": "stream",
     "text": [
      "The reversed list is: ['1', '2', '3', '4', '5', '6']\n"
     ]
    }
   ],
   "source": [
    "# prompt the user to enter the elements of the list\n",
    "user_input = input(\"Enter the elements of the list separated by spaces\")\n",
    "\n",
    "# convert the elements into a list\n",
    "user_list = user_input.split()\n",
    "\n",
    "reversed_list = user_list [::-1]\n",
    "print(\"The reversed list is:\", reversed_list )"
   ]
  },
  {
   "cell_type": "markdown",
   "id": "5f63a08f-9dda-4286-ad2e-460e15b5b439",
   "metadata": {},
   "source": [
    "### 3. Find and display the largest number of a list without using built-in function max(). Your program should ask the user to input values in list from keyboard."
   ]
  },
  {
   "cell_type": "code",
   "execution_count": 33,
   "id": "defdccd7-511e-4d32-9ba6-870055ab49ee",
   "metadata": {},
   "outputs": [
    {
     "name": "stdin",
     "output_type": "stream",
     "text": [
      "Enter the elements of the list separated by spaces:  65 4 55 88 77 65\n"
     ]
    },
    {
     "name": "stdout",
     "output_type": "stream",
     "text": [
      "The largest number in the list is: 88\n"
     ]
    }
   ],
   "source": [
    "# Prompt the user to input values for the list\n",
    "user_input = input(\"Enter the elements of the list separated by spaces: \")\n",
    "\n",
    "# Convert the input string into a list of integers\n",
    "user_list = [int(x) for x in user_input.split()]\n",
    "\n",
    "# Initialize the largest number with the first element of the list\n",
    "largest = user_list[0]\n",
    "\n",
    "# Iterate through the list to find the largest number\n",
    "for num in user_list:\n",
    "    if num > largest:\n",
    "        largest = num\n",
    "\n",
    "# Display the largest number\n",
    "print(\"The largest number in the list is:\", largest)"
   ]
  },
  {
   "cell_type": "markdown",
   "id": "106a16e3-d6f8-4e01-a4bd-2e14d2585a1b",
   "metadata": {},
   "source": [
    "### 4. Write a program that rotates the element of a list so that the element at the first index moves to the second index, the element in the second index moves to the third index, etc., and the element in the last index moves to the first index."
   ]
  },
  {
   "cell_type": "code",
   "execution_count": 38,
   "id": "e3970c24-e846-4bb0-9508-88754daaa57c",
   "metadata": {},
   "outputs": [
    {
     "name": "stdin",
     "output_type": "stream",
     "text": [
      "Enter the elements of the list separated by spaces:  55 65 45 85 112 4 7\n"
     ]
    },
    {
     "name": "stdout",
     "output_type": "stream",
     "text": [
      "The rotated list is ['7', '55', '65', '45', '85', '112', '4']: \n"
     ]
    }
   ],
   "source": [
    "# prompt the user to input a list \n",
    "user_input = input(\"Enter the elements of the list separated by spaces: \")\n",
    "\n",
    "# convert the input strings into a list of elements (or make a list by split)\n",
    "user_list = user_input.split()\n",
    "\n",
    "\n",
    "# check the list for at least one element\n",
    "if len(user_list) > 0:\n",
    "    # rotate the list\n",
    "    rotated_list = user_list[-1:] + user_list [:-1] # last element moves to the front\n",
    "    print(f\"The rotated list is {rotated_list}: \")\n",
    "else:\n",
    "    print(\"The list is empty. No rotation possible\")"
   ]
  },
  {
   "cell_type": "markdown",
   "id": "b1db84cd-28e1-4597-bbe5-0a7eb9c95b84",
   "metadata": {},
   "source": [
    "### 5. Write a program that input a string and ask user to delete a given word from a string."
   ]
  },
  {
   "cell_type": "code",
   "execution_count": 58,
   "id": "6f0ab1aa-5b98-40e5-8db5-7b578243ca8f",
   "metadata": {},
   "outputs": [
    {
     "name": "stdin",
     "output_type": "stream",
     "text": [
      "Enter a string:  Asad is a smart boy\n",
      "Enter a word to be deleted from string:  smart\n"
     ]
    },
    {
     "name": "stdout",
     "output_type": "stream",
     "text": [
      "string after deleting the word: Asad is a boy \n"
     ]
    }
   ],
   "source": [
    "import re\n",
    "words = re.findall(r'\\b\\w+\\b', input_string)\n",
    "input_string = input(\"Enter a string: \")                            # take string or paragraph input from the user\n",
    "word_to_delete = input(\"Enter a word to be deleted from string: \")  # take a to be deleted word from the user\n",
    "words = input_string.split()                                        # convert the string into a list of words\n",
    "filtered_words = [word for word in words if word.lower() != word_to_delete.lower()] # filter out the words to be deleted\n",
    "result_string = ' '.join(filtered_words)                                            # join the remaining words back to a string\n",
    "print(f\"string after deleting the word: {result_string} \")          # Display the result"
   ]
  },
  {
   "cell_type": "markdown",
   "id": "493faded-7998-4143-821c-8a7a7b4c4864",
   "metadata": {},
   "source": [
    "### 6. Write a program that reads a string from the user containing a date in the form mm/dd/yyyy. It should print the date in the form March 12, 2021."
   ]
  },
  {
   "cell_type": "code",
   "execution_count": 6,
   "id": "44145acf-2265-4dca-a22b-cc49090a423a",
   "metadata": {},
   "outputs": [
    {
     "name": "stdin",
     "output_type": "stream",
     "text": [
      "Enter a date in the format mm/dd/yyyy:  12/10/2024\n"
     ]
    },
    {
     "name": "stdout",
     "output_type": "stream",
     "text": [
      "Formatted date: December 10, 2024\n"
     ]
    }
   ],
   "source": [
    "# Dictionary to map month numbers to month names\n",
    "month_names = {\n",
    "    \"01\": \"January\", \"02\": \"February\", \"03\": \"March\", \"04\": \"April\",\n",
    "    \"05\": \"May\", \"06\": \"June\", \"07\": \"July\", \"08\": \"August\",\n",
    "    \"09\": \"September\", \"10\": \"October\", \"11\": \"November\", \"12\": \"December\"\n",
    "}\n",
    "\n",
    "# Prompt the user to enter a date in mm/dd/yyyy format\n",
    "date_input = input(\"Enter a date in the format mm/dd/yyyy: \")\n",
    "\n",
    "try:\n",
    "    # Split the input into month, day, and year\n",
    "    month, day, year = date_input.split(\"/\")\n",
    "    \n",
    "    # Validate the input\n",
    "    if month not in month_names:\n",
    "        print(\"Invalid month entered.\")\n",
    "    elif not (1 <= int(day) <= 31):\n",
    "        print(\"Invalid day entered.\")\n",
    "    elif len(year) != 4:\n",
    "        print(\"Invalid year entered.\")\n",
    "    else:\n",
    "        # Convert the date to the desired format\n",
    "        formatted_date = f\"{month_names[month]} {int(day)}, {year}\"  # Use int(day) to remove leading zeros\n",
    "        print(\"Formatted date:\", formatted_date)\n",
    "except ValueError:\n",
    "    print(\"Invalid date format. Please enter the date in mm/dd/yyyy format.\")\n"
   ]
  },
  {
   "cell_type": "markdown",
   "id": "5d99d9a3-9b03-4379-ad56-262b5ee070f2",
   "metadata": {},
   "source": [
    "### 7. Write a program with a function that accepts a string from keyboard and create a new string after converting character of each word capitalized. For instance, if the sentence is \"stop and smell the roses.\" the output should be \"Stop And Smell The Roses\""
   ]
  },
  {
   "cell_type": "code",
   "execution_count": 12,
   "id": "77a2dc29-f422-4da5-9dab-9dce72309ae3",
   "metadata": {},
   "outputs": [
    {
     "name": "stdin",
     "output_type": "stream",
     "text": [
      "Enter a sentence:  ibrahim is a good boy\n"
     ]
    },
    {
     "name": "stdout",
     "output_type": "stream",
     "text": [
      "Capitalized Sentence: Ibrahim Is A Good Boy\n"
     ]
    }
   ],
   "source": [
    "def capitalize_words(sentence):\n",
    "    \n",
    "    \"\"\"\n",
    "    Capitalizes the first letter of each word in the input sentence.\n",
    "    \n",
    "    Args:\n",
    "    sentence (str): The input string.\n",
    "    \n",
    "    Returns:\n",
    "    str: The sentence with each word's first letter capitalized.\n",
    "    \"\"\"\n",
    "    \n",
    "    return ' '.join(word.capitalize() for word in sentence.split())\n",
    "\n",
    "# Input sentence from the keyboard\n",
    "input_sentence = input(\"Enter a sentence: \")\n",
    "\n",
    "# Process and output the capitalized sentence\n",
    "capitalized_sentence = capitalize_words(input_sentence)\n",
    "print(\"Capitalized Sentence:\", capitalized_sentence)\n"
   ]
  },
  {
   "cell_type": "markdown",
   "id": "a0f93fa1-f72a-4a9c-a3aa-fd19de1aa3b6",
   "metadata": {},
   "source": [
    "### 8. Find the sum of each row of matrix of size m x n. For example for the following matrix output will be like this :\n",
    "\n",
    "\n",
    "    2  11  7  12\n",
    "\n",
    "    5  2  9  15\n",
    "\n",
    "    8  3  10  42\n",
    "\n",
    "\n",
    "Sum of row 1 = 32\n",
    "\n",
    "Sum of row 2 = 31\n",
    "\n",
    "Sum of row 3 = 63\n",
    "\n",
    "\"\"\""
   ]
  },
  {
   "cell_type": "code",
   "execution_count": 19,
   "id": "9efddd8c-57e1-4eb7-8aaf-f10fb7079e35",
   "metadata": {},
   "outputs": [
    {
     "name": "stdout",
     "output_type": "stream",
     "text": [
      "Sum of row 1 = 32\n",
      "Sum of row 2 = 31\n",
      "Sum of row 3 = 63\n"
     ]
    }
   ],
   "source": [
    "def row_sums(matrix):\n",
    "    \"\"\"\n",
    "    Calculates the sum of each row in the matrix.\n",
    "\n",
    "    Args:\n",
    "    matrix (list of list of int): A 2D list representing the matrix.\n",
    "\n",
    "    Returns:\n",
    "    list of int: A list of sums, where each element is the sum of a row.\n",
    "    \"\"\"\n",
    "    return [sum(row) for row in matrix]\n",
    "\n",
    "# Input matrix\n",
    "matrix = [\n",
    "    [2, 11, 7, 12],\n",
    "    [5, 2, 9, 15],\n",
    "    [8, 3, 10, 42]\n",
    "]\n",
    "\n",
    "# Calculate row sums\n",
    "sums = row_sums(matrix)\n",
    "\n",
    "# Output results\n",
    "for i, row_sum in enumerate(sums, start=1):\n",
    "    print(f\"Sum of row {i} = {row_sum}\")\n"
   ]
  },
  {
   "cell_type": "markdown",
   "id": "77f4c935-4f8b-4f01-a455-10a924052645",
   "metadata": {},
   "source": [
    "### 9. Write a program to add two matrices of size n x m."
   ]
  },
  {
   "cell_type": "code",
   "execution_count": 22,
   "id": "e47e81a4-51df-4cca-a140-aa41215d6db3",
   "metadata": {},
   "outputs": [
    {
     "name": "stdout",
     "output_type": "stream",
     "text": [
      "Resultant Matrix:\n",
      "[10, 10, 10]\n",
      "[10, 10, 10]\n",
      "[10, 10, 10]\n"
     ]
    }
   ],
   "source": [
    "def add_matrices(matrix1, matrix2):\n",
    "    \"\"\"\n",
    "    Adds two matrices of the same size.\n",
    "\n",
    "    Args:\n",
    "    matrix1 (list of list of int): First matrix.\n",
    "    matrix2 (list of list of int): Second matrix.\n",
    "\n",
    "    Returns:\n",
    "    list of list of int: The resultant matrix after addition.\n",
    "    \"\"\"\n",
    "    # Ensure matrices have the same dimensions\n",
    "    if len(matrix1) != len(matrix2) or len(matrix1[0]) != len(matrix2[0]):\n",
    "        raise ValueError(\"Matrices must have the same dimensions\")\n",
    "    \n",
    "    # Perform element-wise addition\n",
    "    result = [\n",
    "        [matrix1[i][j] + matrix2[i][j] for j in range(len(matrix1[0]))]\n",
    "        for i in range(len(matrix1))\n",
    "    ]\n",
    "    return result\n",
    "\n",
    "# Input matrices\n",
    "matrix1 = [\n",
    "    [1, 2, 3],\n",
    "    [4, 5, 6],\n",
    "    [7, 8, 9]\n",
    "]\n",
    "\n",
    "matrix2 = [\n",
    "    [9, 8, 7],\n",
    "    [6, 5, 4],\n",
    "    [3, 2, 1]\n",
    "]\n",
    "\n",
    "# Add the matrices\n",
    "result = add_matrices(matrix1, matrix2)\n",
    "\n",
    "# Display the resultant matrix\n",
    "print(\"Resultant Matrix:\")\n",
    "for row in result:\n",
    "    print(row)"
   ]
  },
  {
   "cell_type": "markdown",
   "id": "08061a1a-56ba-443f-a6b9-3d87d038444b",
   "metadata": {},
   "source": [
    "### 10. Write a program to multiply two matrices"
   ]
  },
  {
   "cell_type": "code",
   "execution_count": 25,
   "id": "ce3287f3-eb0f-4102-ab69-cf1507a6430a",
   "metadata": {},
   "outputs": [
    {
     "name": "stdout",
     "output_type": "stream",
     "text": [
      "Resultant Matrix:\n",
      "[58, 64]\n",
      "[139, 154]\n"
     ]
    }
   ],
   "source": [
    "def multiply_matrices(matrix1, matrix2):\n",
    "    \"\"\"\n",
    "    Multiplies two matrices.\n",
    "\n",
    "    Args:\n",
    "    matrix1 (list of list of int): First matrix of size m x n.\n",
    "    matrix2 (list of list of int): Second matrix of size n x p.\n",
    "\n",
    "    Returns:\n",
    "    list of list of int: The resultant matrix of size m x p after multiplication.\n",
    "    \"\"\"\n",
    "    # Ensure the number of columns in matrix1 equals the number of rows in matrix2\n",
    "    if len(matrix1[0]) != len(matrix2):\n",
    "        raise ValueError(\"Number of columns in Matrix 1 must equal the number of rows in Matrix 2.\")\n",
    "    \n",
    "    # Dimensions of the resultant matrix\n",
    "    m, n, p = len(matrix1), len(matrix1[0]), len(matrix2[0])\n",
    "    \n",
    "    # Initialize the result matrix with zeros\n",
    "    result = [[0 for _ in range(p)] for _ in range(m)]\n",
    "    \n",
    "    # Matrix multiplication\n",
    "    for i in range(m):\n",
    "        for j in range(p):\n",
    "            for k in range(n):\n",
    "                result[i][j] += matrix1[i][k] * matrix2[k][j]\n",
    "    \n",
    "    return result\n",
    "\n",
    "# Input matrices\n",
    "matrix1 = [\n",
    "    [1, 2, 3],\n",
    "    [4, 5, 6]\n",
    "]\n",
    "\n",
    "matrix2 = [\n",
    "    [7, 8],\n",
    "    [9, 10],\n",
    "    [11, 12]\n",
    "]\n",
    "\n",
    "# Multiply the matrices\n",
    "result = multiply_matrices(matrix1, matrix2)\n",
    "\n",
    "# Display the resultant matrix\n",
    "print(\"Resultant Matrix:\")\n",
    "for row in result:\n",
    "    print(row)\n"
   ]
  }
 ],
 "metadata": {
  "kernelspec": {
   "display_name": "Python 3 (ipykernel)",
   "language": "python",
   "name": "python3"
  },
  "language_info": {
   "codemirror_mode": {
    "name": "ipython",
    "version": 3
   },
   "file_extension": ".py",
   "mimetype": "text/x-python",
   "name": "python",
   "nbconvert_exporter": "python",
   "pygments_lexer": "ipython3",
   "version": "3.12.7"
  }
 },
 "nbformat": 4,
 "nbformat_minor": 5
}
