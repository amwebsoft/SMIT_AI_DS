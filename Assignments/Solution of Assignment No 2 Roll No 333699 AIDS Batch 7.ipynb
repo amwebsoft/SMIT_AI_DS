{
 "cells": [
  {
   "cell_type": "markdown",
   "id": "266f26cd-8f50-47ba-8572-40a5ab52b5c2",
   "metadata": {},
   "source": [
    "# Solution of Assignment No 2\n",
    "## SMIT AI&DS Batch No 2\n",
    "### Muhammad Mahmood"
   ]
  },
  {
   "cell_type": "markdown",
   "id": "db763414-955d-4dbc-b9b7-f2c833996110",
   "metadata": {},
   "source": [
    "#### Question No 1:  Area of a Rectangle\n",
    "#### Area of a Rectangle: \n",
    "Write a Python program to calculate the area of a rectangle. Use the formula: \n",
    "𝐴𝒓𝒆𝒂 = 𝒍𝒆𝒏𝒈𝒕𝒉 × 𝒘𝒊𝒅𝒕𝒉\n",
    "Take length and width as inputs from the user."
   ]
  },
  {
   "cell_type": "code",
   "execution_count": 62,
   "id": "6b8e7ba9-0781-4f79-b520-cd85e59d3f54",
   "metadata": {},
   "outputs": [
    {
     "name": "stdin",
     "output_type": "stream",
     "text": [
      "Enter the Length of Rectangle in cm:  6\n",
      "Enter the Width of Rectangle in cm:  7\n"
     ]
    },
    {
     "name": "stdout",
     "output_type": "stream",
     "text": [
      "Area of Rectangle having length 6.0 and width 7.0 is 42.0 sq cm\n"
     ]
    }
   ],
   "source": [
    "Length = float(input(\"Enter the Length of Rectangle in cm: \"))\n",
    "Width = float(input(\"Enter the Width of Rectangle in cm: \"))\n",
    "\n",
    "Area = Length * Width\n",
    "\n",
    "print(f\"Area of Rectangle having length {Length} and width {Width} is {Area} sq cm\")"
   ]
  },
  {
   "cell_type": "markdown",
   "id": "9c3603be-47a2-469f-bebf-37e13f4d58e3",
   "metadata": {},
   "source": [
    "### Question No 2: Circumference of a Circle: \n",
    "\n",
    "''' Write a Python program to calculate the circumference of a circle. Use the formula: \n",
    "𝑪𝒊𝒓𝒄𝒖𝒎𝒇𝒆𝒓𝒆𝒏𝒄𝒆 = 𝟐𝝅𝒓\n",
    "Take the radius r as input from the user.'''"
   ]
  },
  {
   "cell_type": "code",
   "execution_count": 64,
   "id": "971d3311-a698-4256-9b60-0020c0c72795",
   "metadata": {},
   "outputs": [
    {
     "name": "stdin",
     "output_type": "stream",
     "text": [
      "Enter the Radius of the Circle in cm:  6\n"
     ]
    },
    {
     "name": "stdout",
     "output_type": "stream",
     "text": [
      "The Circumference of the Circle having radius 6.0 is 37.68 sq cm\n"
     ]
    }
   ],
   "source": [
    "Radius = float(input(\"Enter the Radius of the Circle in cm: \"))\n",
    "pi = 3.14\n",
    "Circumference = 2*pi*Radius\n",
    "\n",
    "print(f\"The Circumference of the Circle having radius {Radius} is {Circumference} sq cm\")"
   ]
  },
  {
   "cell_type": "markdown",
   "id": "cf0a0e37-0882-40e9-80df-12a6012796db",
   "metadata": {},
   "source": [
    "### Question No 3: Simple Interest: \n",
    "'''Write a Python program to calculate the simple interest. Use the formula: \n",
    "𝑺𝒊𝒎𝒑𝒍𝒆 𝑰𝒏𝒕𝒆𝒓𝒆𝒔𝒕 = 𝑷𝒓𝒊𝒏𝒄𝒊𝒑𝒂𝒍 × 𝑹𝒂𝒕𝒆 × 𝑻𝒊𝒎𝒆 \n",
    "Take Principal, Rate, and Time as inputs from the user.'''\n"
   ]
  },
  {
   "cell_type": "code",
   "execution_count": 60,
   "id": "656d6bb0-d7ff-4b5e-aa18-8afe7e91e017",
   "metadata": {},
   "outputs": [
    {
     "name": "stdin",
     "output_type": "stream",
     "text": [
      "Enter your Principal amount in Rs:  500\n",
      "Enter your interest rate (%):  6\n",
      "Enter number of years:  8\n"
     ]
    },
    {
     "name": "stdout",
     "output_type": "stream",
     "text": [
      "The Simple Interest is found to be 24000.0\n"
     ]
    }
   ],
   "source": [
    "Principal = float(input(\"Enter your Principal amount in Rs: \"))\n",
    "Rate = float(input(\"Enter your interest rate (%): \"))\n",
    "Time = float(input(\"Enter number of years: \"))\n",
    "Simple_Interest = 𝑷𝒓𝒊𝒏𝒄𝒊𝒑𝒂𝒍 * 𝑹𝒂𝒕𝒆 * 𝑻𝒊𝒎𝒆\n",
    "\n",
    "print(f\"The Simple Interest is found to be {Simple_Interest}\")"
   ]
  },
  {
   "cell_type": "markdown",
   "id": "959a2bc2-3b4d-401f-81c2-246171aef069",
   "metadata": {},
   "source": [
    "### Question No 4: Speed of an Object \n",
    "'''Write a Python program to calculate the speed of an object. Use the formula: \n",
    "𝑆𝒑𝒆𝒆𝒅 = 𝑫𝒊𝒔𝒕𝒂𝒏𝒄𝒆 / 𝑻𝒊𝒎𝒆 \n",
    "\n",
    "Take Distance and Time as inputs from the user.'''"
   ]
  },
  {
   "cell_type": "code",
   "execution_count": 66,
   "id": "fba06a62-93e6-45d0-907e-4dd1616a3794",
   "metadata": {},
   "outputs": [
    {
     "name": "stdin",
     "output_type": "stream",
     "text": [
      "Enter Distance in KMs:  15\n",
      "Enter Time in Hours:  2\n"
     ]
    },
    {
     "name": "stdout",
     "output_type": "stream",
     "text": [
      "The Speed of the object is found to be 7.5 KM/Hour\n"
     ]
    }
   ],
   "source": [
    "Distance = float(input(\"Enter Distance in KMs: \"))\n",
    "Time = float(input(\"Enter Time in Hours: \"))\n",
    "𝑆𝒑𝒆𝒆𝒅 = 𝑫𝒊𝒔𝒕𝒂𝒏𝒄𝒆 / 𝑻𝒊𝒎𝒆\n",
    "print(f\"The Speed of the object is found to be {𝑆𝒑𝒆𝒆𝒅} KM/Hour\")"
   ]
  },
  {
   "cell_type": "markdown",
   "id": "a0ab6f52-729e-47ce-b2f9-3004666c7466",
   "metadata": {},
   "source": [
    "### Question No 5: BMI Calculator: \n",
    "'''Write a Python program to calculate the Body Mass Index (BMI). Use the formula: \n",
    "BMI = Weight(Kg)/(Height)\"2\"\n",
    "\n",
    "Take Weight (in kilograms) and Height (in meters) as inputs from the user. '''\n"
   ]
  },
  {
   "cell_type": "code",
   "execution_count": 94,
   "id": "37cbb176-1fa6-4f39-871d-b97ffe45c82c",
   "metadata": {},
   "outputs": [
    {
     "name": "stdin",
     "output_type": "stream",
     "text": [
      "Enter Weight in Kilograms:  82\n",
      "Enter Height in Meters:  1.78\n"
     ]
    },
    {
     "name": "stdout",
     "output_type": "stream",
     "text": [
      "The your BMI is found to be 25.88057063502083 KG per Square Meter\n"
     ]
    }
   ],
   "source": [
    "Weight = float(input(\"Enter Weight in Kilograms: \"))\n",
    "Height= float(input(\"Enter Height in Meters: \"))\n",
    "BMI = float(Weight/(Height*Height))\n",
    "print(f\"The your BMI is found to be {BMI} KG per Square Meter\")"
   ]
  },
  {
   "cell_type": "markdown",
   "id": "59d637b4-9ef3-4360-98f8-3a9ef1a8ba0f",
   "metadata": {},
   "source": [
    "### Question No 6: Force Using Newton's Second Law: \n",
    "''' Write a Python program to calculate the force on an object. \n",
    "\n",
    "Use the formula: F = ma\n",
    "\n",
    "Take m (mass in kilograms) and a (acceleration in meters/second²) as inputs from the user.'''"
   ]
  },
  {
   "cell_type": "code",
   "execution_count": 97,
   "id": "46c5e3a1-1f03-42c6-b724-cd77d04be6de",
   "metadata": {},
   "outputs": [
    {
     "name": "stdin",
     "output_type": "stream",
     "text": [
      "Enter Mass in Kilograms:  80\n",
      "Enter Acceleration in meters/second²:  3\n"
     ]
    },
    {
     "name": "stdout",
     "output_type": "stream",
     "text": [
      "The applied force is found to be 240.0 Newton\n"
     ]
    }
   ],
   "source": [
    "Mass = float(input(\"Enter Mass in Kilograms: \"))\n",
    "Acceleration = float(input(\"Enter Acceleration in meters/second²: \"))\n",
    "Force = Mass * Acceleration\n",
    "print(f\"The applied force is found to be {Force} Newton\")"
   ]
  },
  {
   "cell_type": "markdown",
   "id": "c4053098-14fd-4fce-a86f-597e3fe6f733",
   "metadata": {},
   "source": [
    "### Question No 8: Write a Python program to calculate compound interest. Use the formula: \n",
    "''' Amount = Principal * (pow((1 + Rate / Number), Number-Time))\n",
    "\n",
    "Where: \n",
    "\n",
    "Amount = total amount \n",
    "\n",
    "P = principal amount \n",
    "\n",
    "R = annual interest rate (decimal) \n",
    "\n",
    "N = number of times interest is compounded per year \n",
    "\n",
    "T = time in years \n",
    "\n",
    "Take P, R, N, and T as inputs from the user. '''\n"
   ]
  },
  {
   "cell_type": "markdown",
   "id": "22a3cdec-9de5-4788-8286-2dea6cce8dca",
   "metadata": {},
   "source": [
    "### Taking input from user.\n",
    "\n",
    "Principal = int(input(\"Enter the principal amount (Rs): \"))\n",
    "Rate = int(input(\"Enter rate of interest (%): \"))\n",
    "Time = int(input(\"Enter time in years: \"))\n",
    "Number = int(input(\"Enter a digit number: \"))\n",
    "Amount = Principal * (pow((1 + Rate / Number), Number-Time))\n",
    "\n",
    "print(f\"The compound interest is found to be {Amount} (Rs)\")"
   ]
  },
  {
   "cell_type": "code",
   "execution_count": 32,
   "id": "aa695179-96e8-4028-92eb-5901a4aad103",
   "metadata": {},
   "outputs": [
    {
     "name": "stdin",
     "output_type": "stream",
     "text": [
      "Enter Principal amount in Rs:  6000\n",
      "Enter rate of interest (%):  4\n",
      "Enter Time in years or months:  6\n",
      "Enter a digit number:  8\n"
     ]
    },
    {
     "ename": "TypeError",
     "evalue": "pow() missing required argument 'exp' (pos 2)",
     "output_type": "error",
     "traceback": [
      "\u001b[1;31m---------------------------------------------------------------------------\u001b[0m",
      "\u001b[1;31mTypeError\u001b[0m                                 Traceback (most recent call last)",
      "Cell \u001b[1;32mIn[32], line 5\u001b[0m\n\u001b[0;32m      3\u001b[0m Time \u001b[38;5;241m=\u001b[39m \u001b[38;5;28mint\u001b[39m(\u001b[38;5;28minput\u001b[39m(\u001b[38;5;124m\"\u001b[39m\u001b[38;5;124mEnter Time in years or months: \u001b[39m\u001b[38;5;124m\"\u001b[39m))\n\u001b[0;32m      4\u001b[0m Number \u001b[38;5;241m=\u001b[39m \u001b[38;5;28mint\u001b[39m(\u001b[38;5;28minput\u001b[39m(\u001b[38;5;124m\"\u001b[39m\u001b[38;5;124mEnter a digit number: \u001b[39m\u001b[38;5;124m\"\u001b[39m))\n\u001b[1;32m----> 5\u001b[0m Amount \u001b[38;5;241m=\u001b[39m Principal \u001b[38;5;241m*\u001b[39m (\u001b[38;5;28mpow\u001b[39m(\u001b[38;5;241m1\u001b[39m\u001b[38;5;241m+\u001b[39mRate\u001b[38;5;241m/\u001b[39mNumber), Number\u001b[38;5;241m-\u001b[39mTime)\n\u001b[0;32m      7\u001b[0m \u001b[38;5;28mprint\u001b[39m(\u001b[38;5;124mf\u001b[39m\u001b[38;5;124m\"\u001b[39m\u001b[38;5;124mThe compound interest is found to be \u001b[39m\u001b[38;5;132;01m{\u001b[39;00mAmount\u001b[38;5;132;01m}\u001b[39;00m\u001b[38;5;124m (Rs)\u001b[39m\u001b[38;5;124m\"\u001b[39m)\n",
      "\u001b[1;31mTypeError\u001b[0m: pow() missing required argument 'exp' (pos 2)"
     ]
    }
   ],
   "source": [
    "Principal = int(input(\"Enter Principal amount in Rs: \"))\n",
    "Rate = int(input(\"Enter rate of interest (%): \"))\n",
    "Time = int(input(\"Enter Time in years or months: \"))\n",
    "Number = int(input(\"Enter a digit number: \"))\n",
    "Amount = Principal * (pow (1+Rate/Number), Number-Time)\n",
    "\n",
    "print(f\"The compound interest is found to be {Amount} (Rs)\")"
   ]
  },
  {
   "cell_type": "markdown",
   "id": "d109081f-0886-47f7-899e-49d042d2598a",
   "metadata": {},
   "source": [
    "### Question No 8: Perimeter of a Triangle: \n",
    "\n",
    "'''Write a Python program to calculate the perimeter of a triangle. Use the formula: \n",
    "\n",
    "𝑷𝒆𝒓𝒊𝒎𝒆𝒕𝒆𝒓 = 𝒂 + 𝒃 + 𝒄\n",
    "\n",
    "\n",
    "Take a, b, and c (lengths of the three sides) as inputs from the user.'''"
   ]
  },
  {
   "cell_type": "code",
   "execution_count": 36,
   "id": "28fe192c-74aa-4991-b5f2-4e1d06b06a97",
   "metadata": {},
   "outputs": [
    {
     "name": "stdin",
     "output_type": "stream",
     "text": [
      "Enter the side a in cm:  6\n",
      "Enter the side b in cm:  8\n",
      "Enter the side c in cm:  4\n"
     ]
    },
    {
     "name": "stdout",
     "output_type": "stream",
     "text": [
      "The compound interest is found to be 18 (cm)\n"
     ]
    }
   ],
   "source": [
    "a = int(input(\"Enter the side a in cm: \"))\n",
    "b = int(input(\"Enter the side b in cm: \"))\n",
    "c = int(input(\"Enter the side c in cm: \"))\n",
    "\n",
    "Perimeter = a+b+c\n",
    "print(f\"The compound interest is found to be {Perimeter} (cm)\")"
   ]
  },
  {
   "cell_type": "markdown",
   "id": "ff7ad75b-be9c-4b21-9790-fcf89689517a",
   "metadata": {},
   "source": [
    "### Question No 9:\n",
    "\n",
    "'''Volume of a Sphere: \n",
    "\n",
    "Write a Python program to calculate the volume of a sphere. Use the formula: \n",
    "\n",
    "Volume = 4/3 pi*r^3\n",
    "\n",
    "Take r (radius) as input from the user.'''"
   ]
  },
  {
   "cell_type": "code",
   "execution_count": 53,
   "id": "8aa1600c-e175-436a-9f3b-f8af6b9c2777",
   "metadata": {},
   "outputs": [
    {
     "name": "stdin",
     "output_type": "stream",
     "text": [
      "Enter the spherical radius in cm:  5\n"
     ]
    },
    {
     "name": "stdout",
     "output_type": "stream",
     "text": [
      "The volume of the sphere with radius 5.0 cm is found to be 523.3333333333334 centimeter cube\n"
     ]
    }
   ],
   "source": [
    "r = float(input(\"Enter the spherical radius in cm: \"))\n",
    "pi = 3.14\n",
    "Volume = 4/3*pi*(pow(r,3))\n",
    "print(f\"The volume of the sphere with radius {r} cm is found to be {Volume} centimeter cube\")"
   ]
  },
  {
   "cell_type": "markdown",
   "id": "496bba2a-5512-4cba-9d2f-3b5a90ba0606",
   "metadata": {},
   "source": [
    "### Question No 10: ) \n",
    "'''Kinetic Energy: \n",
    "Write a Python program to calculate the kinetic energy of an object. \n",
    "\n",
    "Use the formula: 𝑲𝑬 = 𝟏/𝟐 𝒎*𝑽^2\n",
    "\n",
    "Take m (mass in kilograms) and v (velocity in meters/second) \n",
    "as inputs from the user.'''\n",
    "\n"
   ]
  },
  {
   "cell_type": "code",
   "execution_count": 55,
   "id": "28649462-036a-4934-bc6a-39e6f2240dd3",
   "metadata": {},
   "outputs": [
    {
     "name": "stdin",
     "output_type": "stream",
     "text": [
      "Enter the mass of the object in KG:  45\n",
      "Enter the velocity of the object in meter/second:  10\n"
     ]
    },
    {
     "name": "stdout",
     "output_type": "stream",
     "text": [
      "The Kinetic Energy of the object is found to be 2250.0 Kilogram meter square per second square\n"
     ]
    }
   ],
   "source": [
    "m = float(input(\"Enter the mass of the object in KG: \"))\n",
    "v = float(input(\"Enter the velocity of the object in meter/second: \"))\n",
    "KE = 1/2*m*(pow(v,2))\n",
    "print(f\"The Kinetic Energy of the object is found to be {KE} Kilogram meter square per second square\")"
   ]
  },
  {
   "cell_type": "markdown",
   "id": "76b86417-56f9-403d-91b8-3be5fcf9cc2f",
   "metadata": {},
   "source": [
    "### Question No 11: Write a Python program to find the roots of a quadratic equation. Use the quadratic formula: "
   ]
  },
  {
   "cell_type": "code",
   "execution_count": 62,
   "id": "bd436d2f-2a32-496a-8e9b-f2cb8ed15927",
   "metadata": {},
   "outputs": [
    {
     "name": "stdin",
     "output_type": "stream",
     "text": [
      "Enter a:  5\n",
      "Enter b:  4\n",
      "Enter c:  6\n"
     ]
    },
    {
     "name": "stdout",
     "output_type": "stream",
     "text": [
      "The solutions are (-0.4-1.0198039027185568j) and (-0.4+1.0198039027185568j)\n"
     ]
    }
   ],
   "source": [
    "import cmath  \n",
    "a = float(input(\"Enter a: \"))  \n",
    "b = float(input('Enter b: '))  \n",
    "c = float(input('Enter c: '))  \n",
    "  \n",
    "# calculate the discriminant  \n",
    "d = (b**2) - (4*a*c)  \n",
    "  \n",
    "# find two solutions  \n",
    "sol1 = (-b-cmath.sqrt(d))/(2*a)  \n",
    "sol2 = (-b+cmath.sqrt(d))/(2*a)  \n",
    "print('The solutions are {0} and {1}'.format(sol1,sol2))"
   ]
  },
  {
   "cell_type": "markdown",
   "id": "b264309e-e4bf-495a-9717-9473daf48355",
   "metadata": {},
   "source": [
    "### Question No 12:\n",
    "\n",
    "'''Write a Python program to convert a temperature from Celsius to Fahrenheit. \n",
    "\n",
    "Use the formula: F = (9/5)*C+32\n",
    "\n",
    "Take C (temperature in Celsius) as input from the user.'''"
   ]
  },
  {
   "cell_type": "code",
   "execution_count": 75,
   "id": "50f509bb-2fe2-442e-bdb4-60fcbc060d7d",
   "metadata": {},
   "outputs": [
    {
     "name": "stdin",
     "output_type": "stream",
     "text": [
      "Enter the temperature of the object in Celsius:  55\n"
     ]
    },
    {
     "name": "stdout",
     "output_type": "stream",
     "text": [
      "The temperature of the object in Fahrenheit is found to be 131.0 F\n"
     ]
    }
   ],
   "source": [
    "C = float(input(\"Enter the temperature of the object in Celsius: \"))\n",
    "F = (9/5)*C+32\n",
    "print(f'The temperature of the object in Fahrenheit is found to be {F} F')"
   ]
  },
  {
   "cell_type": "markdown",
   "id": "2ce7b411-cf2e-4ed9-9c56-acda0e93d8be",
   "metadata": {},
   "source": [
    "### Question No 13: Gravitational Force\n",
    "\n",
    "'''Write a Python program to calculate the gravitational force between two objects. Use \n",
    "\n",
    "the formula 𝑭 = 𝑮 (𝒎𝟏 ∗ 𝒎𝟐)/𝒓𝟐\n",
    "\n",
    "m1, m2 are the masses of the objects \n",
    "\n",
    "r = distance between the centers of the objects \n",
    "\n",
    "Take m1, m2 and r as inputs from the user.'''"
   ]
  },
  {
   "cell_type": "code",
   "execution_count": 89,
   "id": "f6d84f39-991b-4066-8599-19f96006cbcb",
   "metadata": {},
   "outputs": [
    {
     "name": "stdin",
     "output_type": "stream",
     "text": [
      "Enter mass in kg of the object 1:  50\n",
      "Enter mass in kg of the object 2:  300\n",
      "Enter the distance in meters between the centres of both objects:  400\n"
     ]
    },
    {
     "name": "stdout",
     "output_type": "stream",
     "text": [
      "The gravitational force between both objects is found to be 6.25715625e-12 Newtons\n"
     ]
    }
   ],
   "source": [
    "G = 6.6743*(pow(10,-11))\n",
    "m1 = float(input(\"Enter mass in kg of the object 1: \"))  \n",
    "m2 = float(input(\"Enter mass in kg of the object 2: \"))   \n",
    "r = float(input('Enter the distance in meters between the centres of both objects: '))\n",
    "𝑭 = 𝑮*(𝒎𝟏*𝒎𝟐)/(pow(𝒓,2))\n",
    "print(f'The gravitational force between both objects is found to be {F} Newtons')"
   ]
  },
  {
   "cell_type": "markdown",
   "id": "06dcfed0-a2a0-42e0-9849-fede7c736efc",
   "metadata": {},
   "source": [
    "### Question No 14: Volume of a Cylinder:\n",
    "\n",
    "'''Write a Python program to calculate the volume of a cylinder. \n",
    "\n",
    "Use the formula: 𝑽𝒐𝒍𝒖𝒎𝒆 = 𝝅𝒓𝟐𝒉\n",
    "\n",
    "Take radius(r) and height(h) as inputs from the user'''\n"
   ]
  },
  {
   "cell_type": "code",
   "execution_count": 102,
   "id": "b314b6c7-1048-4b8f-a67d-6990b207a75a",
   "metadata": {},
   "outputs": [
    {
     "name": "stdin",
     "output_type": "stream",
     "text": [
      "Enter Radius in cm of the cylinder:  5\n",
      "Enter Height in cm of the cylinder:  4\n"
     ]
    },
    {
     "name": "stdout",
     "output_type": "stream",
     "text": [
      "The Volume of the cylinder is found to be 314.0 centimeters cubes\n"
     ]
    }
   ],
   "source": [
    "𝝅=3.14\n",
    "r = float(input(\"Enter Radius in cm of the cylinder: \"))\n",
    "h = float(input(\"Enter Height in cm of the cylinder: \"))\n",
    "𝑽𝒐𝒍𝒖𝒎𝒆 = 𝝅*(pow(r,2))*h\n",
    "print(f'The Volume of the cylinder is found to be {Volume} centimeters cubes')"
   ]
  },
  {
   "cell_type": "markdown",
   "id": "11e1f7ad-94cc-46b0-af6f-f71da18a78e2",
   "metadata": {},
   "source": [
    "### Question No 15:\n",
    "'''Write a Python program to calculate the pressure exerted by a force on a surface. \n",
    "Use the formula:\n",
    "𝑷 = 𝑭*𝑨\n",
    "\n",
    "P = pressure \n",
    "F = force \n",
    "A = area \n",
    "Take F(force) and A(area) as inputs from the user.'''\n"
   ]
  },
  {
   "cell_type": "code",
   "execution_count": 113,
   "id": "b6d88aa3-1d69-44da-aac0-c576b882442d",
   "metadata": {},
   "outputs": [
    {
     "name": "stdin",
     "output_type": "stream",
     "text": [
      "Enter Force in Newtons:  4\n",
      "Enter Area in square meters:  5\n"
     ]
    },
    {
     "name": "stdout",
     "output_type": "stream",
     "text": [
      "The Pressure exerted by the force 4.0 Newtons on the surface area 5.0 Square Meters is 20.0 Newton Meter Squared\n"
     ]
    }
   ],
   "source": [
    "F = float(input(\"Enter Force in Newtons: \"))\n",
    "A = float(input(\"Enter Area in square meters: \"))\n",
    "𝑷 = 𝑭*𝑨\n",
    "print(f'The Pressure exerted by the force {F} Newtons on the surface area {A} Square Meters is {P} Newton Meter Squared')"
   ]
  },
  {
   "cell_type": "markdown",
   "id": "f2d50a4b-6a4b-4c38-add1-167d1fbd5170",
   "metadata": {},
   "source": [
    "### Question No 16:\n",
    "''' Write a Python program to calculate the electric power consumed. \n",
    "Use the formula: \n",
    "\n",
    "P = V/I\n",
    "where: \n",
    "\n",
    "P = power \n",
    "V = voltage \n",
    "I = current \n",
    "\n",
    "Take V(voltage) and I(current) as inputs from the user'''"
   ]
  },
  {
   "cell_type": "code",
   "execution_count": 117,
   "id": "ea4d4b74-d246-4834-8be5-80ff4123572f",
   "metadata": {},
   "outputs": [
    {
     "name": "stdin",
     "output_type": "stream",
     "text": [
      "Enter Voltage V:  50\n",
      "Enter Current I:  3\n"
     ]
    },
    {
     "name": "stdout",
     "output_type": "stream",
     "text": [
      "The Power is found to 16.666666666666668 watts\n"
     ]
    }
   ],
   "source": [
    "V = float(input(\"Enter Voltage V: \"))\n",
    "I = float(input(\"Enter Current I: \"))\n",
    "P = V/I\n",
    "print(f'The Power is found to {P} watts')"
   ]
  },
  {
   "cell_type": "markdown",
   "id": "e8571386-6ac3-48d9-b142-354ed1179839",
   "metadata": {},
   "source": [
    "### Question No 17:\n",
    "'''Perimeter of a Circle (Circumference):\n",
    "\n",
    "Write a Python program to calculate the perimeter (circumference) of a circle. \n",
    "\n",
    "Use the formula: \n",
    "\n",
    "Take r (radius) as input from the user. \n",
    "'''\n"
   ]
  },
  {
   "cell_type": "code",
   "execution_count": 125,
   "id": "fb2152bc-ee66-4cca-80ac-c8625da706d0",
   "metadata": {},
   "outputs": [
    {
     "name": "stdin",
     "output_type": "stream",
     "text": [
      "Enter Radius r in centimeter:  7\n"
     ]
    },
    {
     "name": "stdout",
     "output_type": "stream",
     "text": [
      "The Perimeter of the circle is found to be 43.96 centimeters\n"
     ]
    }
   ],
   "source": [
    "𝝅 = 3.14\n",
    "r = float(input(\"Enter Radius r in centimeter: \"))\n",
    "P = 2*𝝅*r\n",
    "print(f'The Perimeter of the circle is found to be {P} centimeters')"
   ]
  },
  {
   "cell_type": "markdown",
   "id": "786077cd-27e5-4342-b21e-645999db54ac",
   "metadata": {},
   "source": [
    "### Question No 18\n",
    "'''Write a Python program to calculate the future value of an investment. Use the formula: \n",
    "\n",
    "𝐹𝑉 = 𝑃𝑉(1 + 𝑟)^t\n",
    "\n",
    "where: \n",
    "FV= future value \n",
    "\n",
    "PV= present value \n",
    "\n",
    "r= annual interest rate (as a decimal) \n",
    "\n",
    "t= time in years \n",
    "\n",
    "Take PV, r, and t as inputs from the user.'''"
   ]
  },
  {
   "cell_type": "code",
   "execution_count": 133,
   "id": "b9e35c4c-65c3-401a-8a42-de9ecd8b3023",
   "metadata": {},
   "outputs": [
    {
     "name": "stdin",
     "output_type": "stream",
     "text": [
      "Enter Present Value (PV) of your Investment in (Rs):  3000\n",
      "Enter annual interest rate r in (%):  5\n",
      "Enter time t in years:  5\n"
     ]
    },
    {
     "name": "stdout",
     "output_type": "stream",
     "text": [
      "The Future value FV of your investment is found to be 23328000.0 Rupees\n"
     ]
    }
   ],
   "source": [
    "PV = float(input(\"Enter Present Value (PV) of your Investment in (Rs): \"))\n",
    "r = float(input(\"Enter annual interest rate r in (%): \"))\n",
    "t = float(input(\"Enter time t in years: \"))\n",
    "𝐹𝑉 = 𝑃𝑉*pow((1 + 𝑟),t)\n",
    "print(f'The Future value FV of your investment is found to be {FV} Rupees')"
   ]
  },
  {
   "cell_type": "markdown",
   "id": "bd7dc8d7-b7d9-414c-958c-fa462c50174e",
   "metadata": {},
   "source": [
    "### Question No 19 \n",
    "'''Work Done by a Force:\n",
    "\n",
    "Write a Python program to calculate the work done by a force. Use the formula: W = F.d Cosθ\n",
    "\n",
    "where: W = work done \n",
    "\n",
    "f= force \n",
    "\n",
    "d = distance \n",
    "\n",
    "theta = angle between force and direction of movement (in degrees) \n",
    "\n",
    "Take f, d, and θ as inputs from the user'''"
   ]
  },
  {
   "cell_type": "code",
   "execution_count": 150,
   "id": "a46b6c7d-3ae9-448e-9bb7-f1ae6457d7a1",
   "metadata": {},
   "outputs": [
    {
     "name": "stdin",
     "output_type": "stream",
     "text": [
      "Enter Force in Newtons:  6\n",
      "Enter distance d in Meters:  5\n",
      "Enter angle θ in degrees 30\n"
     ]
    },
    {
     "name": "stdout",
     "output_type": "stream",
     "text": [
      "The Work done by force F for distance d is found to be 4.6275434966275215 Jouls\n"
     ]
    }
   ],
   "source": [
    "import math\n",
    "F = float(input(\"Enter Force in Newtons: \"))\n",
    "d = float(input(\"Enter distance d in Meters: \"))\n",
    "θ = float(input(\"Enter angle θ in degrees\"))\n",
    "W = F*d*math.cos(θ)\n",
    "print(f'The Work done by force F for distance d is found to be {W} Jouls')"
   ]
  },
  {
   "cell_type": "markdown",
   "id": "22dc0f10-9a61-46be-9775-ed1dcdcead72",
   "metadata": {},
   "source": [
    "### Question No 20:\n",
    "'''Write a Python program to calculate the amount of heat transferred. Use the formula: \n",
    "\n",
    "𝑄 = 𝑚𝑐 (∆T)\n",
    "\n",
    "where: \n",
    "Q= heat transfer \n",
    "\n",
    "m = mass \n",
    "\n",
    "c = specific heat capacity \n",
    "\n",
    "ΔT \n",
    "\n",
    "Take m, c, T as inputs from the user'''"
   ]
  },
  {
   "cell_type": "code",
   "execution_count": 155,
   "id": "238d6691-65b1-4f22-88c1-0eaea7b9a63e",
   "metadata": {},
   "outputs": [
    {
     "name": "stdin",
     "output_type": "stream",
     "text": [
      "Enter mass m in KGs:  50\n",
      "Enter Specific Heat Capacity c:  44\n",
      "Enter Temperature in Celsius:  60\n"
     ]
    },
    {
     "name": "stdout",
     "output_type": "stream",
     "text": [
      "The the amount of heat transferred Q is found to be 132000.0 \n"
     ]
    }
   ],
   "source": [
    "m = float(input(\"Enter mass m in KGs: \"))\n",
    "c = float(input(\"Enter Specific Heat Capacity c: \"))\n",
    "T = float(input(\"Enter Temperature in Celsius: \"))\n",
    "𝑄 = m*c*T\n",
    "print(f'The the amount of heat transferred Q is found to be {Q} ')"
   ]
  },
  {
   "cell_type": "code",
   "execution_count": null,
   "id": "b2a7f535-9ba5-4afd-afc8-8a0e746d5e38",
   "metadata": {},
   "outputs": [],
   "source": []
  }
 ],
 "metadata": {
  "kernelspec": {
   "display_name": "Python 3 (ipykernel)",
   "language": "python",
   "name": "python3"
  },
  "language_info": {
   "codemirror_mode": {
    "name": "ipython",
    "version": 3
   },
   "file_extension": ".py",
   "mimetype": "text/x-python",
   "name": "python",
   "nbconvert_exporter": "python",
   "pygments_lexer": "ipython3",
   "version": "3.12.7"
  }
 },
 "nbformat": 4,
 "nbformat_minor": 5
}
