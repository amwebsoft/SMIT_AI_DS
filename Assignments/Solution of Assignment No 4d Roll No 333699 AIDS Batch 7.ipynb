{
 "cells": [
  {
   "cell_type": "markdown",
   "id": "31d068ac-25b8-4020-9c5a-18f27f94b36e",
   "metadata": {},
   "source": [
    "## Solution of Assignment No 4d Roll No 333699 AIDS Batch 7"
   ]
  },
  {
   "cell_type": "markdown",
   "id": "aaf4165c-be17-4265-83d0-6e5ac92e9894",
   "metadata": {},
   "source": [
    "### 1. Write a program that accepts a string from user. Your program should count and display number of vowels in that string."
   ]
  },
  {
   "cell_type": "code",
   "execution_count": 3,
   "id": "611b423d-c852-4bef-81a7-4e5ebfbefe65",
   "metadata": {},
   "outputs": [
    {
     "name": "stdin",
     "output_type": "stream",
     "text": [
      "Enter a string:  a lazy fox jumps over a quick brown fox\n"
     ]
    },
    {
     "name": "stdout",
     "output_type": "stream",
     "text": [
      "The number of vowels in the string is: 11\n"
     ]
    }
   ],
   "source": [
    "# Program to count the number of vowels in a string\n",
    "# Accept input string from the user\n",
    "string = input(\"Enter a string: \")\n",
    "\n",
    "# Initialize a variable to count vowels\n",
    "vowels = \"aeiouAEIOU\"\n",
    "count = 0\n",
    "\n",
    "# Iterate through each character in the string\n",
    "for char in string:\n",
    "    if char in vowels:  # Check if the character is a vowel\n",
    "        count += 1\n",
    "\n",
    "# Display the count of vowels\n",
    "print(f\"The number of vowels in the string is: {count}\")\n"
   ]
  },
  {
   "cell_type": "markdown",
   "id": "6bfba964-f000-4d92-b912-e3a5fc7f0882",
   "metadata": {},
   "source": [
    "### 2. Write a program that reads a string from keyboard and display:\n",
    "    * The number of uppercase letters in the string\n",
    "    * The number of lowercase letters in the string\n",
    "    * The number of digits in the string\n",
    "    * The number of whitespace characters in the string"
   ]
  },
  {
   "cell_type": "code",
   "execution_count": 8,
   "id": "653aca73-b030-4ae0-b277-f02e9b558974",
   "metadata": {},
   "outputs": [
    {
     "name": "stdin",
     "output_type": "stream",
     "text": [
      "Enter a string:  some 45 Quick browN Fox juMpS\n"
     ]
    },
    {
     "name": "stdout",
     "output_type": "stream",
     "text": [
      "The number of uppercase letters: 5\n",
      "The number of lowercase letters: 17\n",
      "The number of digits: 2\n",
      "The number of whitespace characters: 5\n"
     ]
    }
   ],
   "source": [
    "# Program to count uppercase, lowercase, digits, and whitespace characters\n",
    "# Read input string from the user\n",
    "string = input(\"Enter a string: \")\n",
    "\n",
    "# Initialize counters for different character types\n",
    "uppercase_count = 0\n",
    "lowercase_count = 0\n",
    "digit_count = 0\n",
    "whitespace_count = 0\n",
    "\n",
    "# Iterate through each character in the string\n",
    "for char in string:\n",
    "    if char.isupper():\n",
    "        uppercase_count += 1  # Count uppercase letters\n",
    "    elif char.islower():\n",
    "        lowercase_count += 1  # Count lowercase letters\n",
    "    elif char.isdigit():\n",
    "        digit_count += 1  # Count digits\n",
    "    elif char.isspace():\n",
    "        whitespace_count += 1  # Count whitespace characters\n",
    "\n",
    "# Display the results\n",
    "print(f\"The number of uppercase letters: {uppercase_count}\")\n",
    "print(f\"The number of lowercase letters: {lowercase_count}\")\n",
    "print(f\"The number of digits: {digit_count}\")\n",
    "print(f\"The number of whitespace characters: {whitespace_count}\")\n"
   ]
  },
  {
   "cell_type": "markdown",
   "id": "6253c91a-9f6b-4251-b7a8-da5eb8b3097f",
   "metadata": {},
   "source": [
    "### 3. Write a Python program that accepts a string from user. Your program should create and display a new string where the first and last characters have been exchanged. For example if the user enters the string 'HELLO' then new string would be 'OELLH'"
   ]
  },
  {
   "cell_type": "code",
   "execution_count": 15,
   "id": "2cc93e9c-3302-4a8c-b60a-d86ed23f022a",
   "metadata": {},
   "outputs": [
    {
     "name": "stdin",
     "output_type": "stream",
     "text": [
      "Enter a string:  attractive\n"
     ]
    },
    {
     "name": "stdout",
     "output_type": "stream",
     "text": [
      "The new string is: ettractiva\n"
     ]
    }
   ],
   "source": [
    "# Program to swap first and last characters of a string\n",
    "# Accept input string from the user\n",
    "string = input(\"Enter a string: \")\n",
    "\n",
    "# Check if the string has more than one character\n",
    "if len(string) > 1:\n",
    "    # Create the new string by swapping the first and last characters\n",
    "    new_string = string[-1] + string[1:-1] + string[0]\n",
    "else:\n",
    "    # If the string has only one character, it's the same after swapping\n",
    "    new_string = string\n",
    "\n",
    "# Display the new string\n",
    "print(f\"The new string is: {new_string}\")\n"
   ]
  },
  {
   "cell_type": "markdown",
   "id": "02353aa3-be5d-42b5-9ee4-9feb3003d1de",
   "metadata": {},
   "source": [
    "### 4. Write a Python program that accepts a string from user. Your program should create a new string in reverse of first string and display it. For example if the user enters the string 'EXAM' then new string would be 'MAXE'"
   ]
  },
  {
   "cell_type": "code",
   "execution_count": 18,
   "id": "55c578b8-0954-4b2b-88ef-9b9a7fcfc32c",
   "metadata": {},
   "outputs": [
    {
     "name": "stdin",
     "output_type": "stream",
     "text": [
      "Enter a string:  explain\n"
     ]
    },
    {
     "name": "stdout",
     "output_type": "stream",
     "text": [
      "The reversed string is: nialpxe\n"
     ]
    }
   ],
   "source": [
    "# Program to reverse a string\n",
    "# Accept input string from the user\n",
    "string = input(\"Enter a string: \")\n",
    "\n",
    "# Reverse the string using slicing\n",
    "reversed_string = string[::-1]\n",
    "\n",
    "# Display the reversed string\n",
    "print(f\"The reversed string is: {reversed_string}\")\n"
   ]
  },
  {
   "cell_type": "markdown",
   "id": "a3435e29-a49b-40b5-ba17-bf7e7dd6647d",
   "metadata": {},
   "source": [
    "### 5. 5. Write a Python program that accepts a string from user. Your program should create a new string by shifting one position to left.\n",
    "    For example if the user enters the string 'examination 2021' then new string would be 'xamination\n",
    "    2021e'"
   ]
  },
  {
   "cell_type": "code",
   "execution_count": 26,
   "id": "5fe0255b-77ef-454e-93c4-a42dad211f84",
   "metadata": {},
   "outputs": [
    {
     "name": "stdin",
     "output_type": "stream",
     "text": [
      "Enter a string:  Towards East\n"
     ]
    },
    {
     "name": "stdout",
     "output_type": "stream",
     "text": [
      "The new string after shifting one position to the left is: owards EastT\n"
     ]
    }
   ],
   "source": [
    "# Program to shift characters of a string one position to the left\n",
    "# Accept input string from the user\n",
    "string = input(\"Enter a string: \")\n",
    "\n",
    "# Check if the string has more than one character\n",
    "if len(string) > 1:\n",
    "    # Shift the string one position to the left\n",
    "    shifted_string = string[1:] + string[0]\n",
    "else:\n",
    "    # If the string has only one character, it remains the same\n",
    "    shifted_string = string\n",
    "\n",
    "# Display the shifted string\n",
    "print(f\"The new string after shifting one position to the left is: {shifted_string}\")\n"
   ]
  },
  {
   "cell_type": "markdown",
   "id": "e715b320-79d9-4268-8d04-dac90ee87a43",
   "metadata": {},
   "source": [
    "### 6. Write a program that asks the user to input his name and print its initials. Assuming that the user always types first name, middle name and last name and does not include any unnecessary spaces.\n",
    "    For example, if the user enters Ajay Kumar Garg the program should display A. K. G.\n",
    "    Note:Don't use split() method"
   ]
  },
  {
   "cell_type": "code",
   "execution_count": 29,
   "id": "07e59832-851e-4bb1-a86e-1ff62b750d2e",
   "metadata": {},
   "outputs": [
    {
     "name": "stdin",
     "output_type": "stream",
     "text": [
      "Enter your full name (First Middle Last):  Asad Mahmood Ahmad\n"
     ]
    },
    {
     "name": "stdout",
     "output_type": "stream",
     "text": [
      "Your initials are: A. M. A.\n"
     ]
    }
   ],
   "source": [
    "# Program to display initials from full name without using split()\n",
    "# Accept the full name input from the user\n",
    "full_name = input(\"Enter your full name (First Middle Last): \")\n",
    "\n",
    "# Initialize variables to store the initials\n",
    "initials = \"\"\n",
    "\n",
    "# Loop through the string to pick the first letter of each word (name)\n",
    "for i in range(len(full_name)):\n",
    "    if i == 0 or (full_name[i-1] == \" \" and full_name[i] != \" \"):\n",
    "        initials += full_name[i].upper() + \". \"\n",
    "\n",
    "# Remove the trailing space and dot at the end of the initials\n",
    "initials = initials.strip()\n",
    "\n",
    "# Display the initials\n",
    "print(\"Your initials are:\", initials)\n"
   ]
  },
  {
   "cell_type": "markdown",
   "id": "c39cba21-6f5a-4374-9f6d-c75d9c1b653b",
   "metadata": {},
   "source": [
    "### 7. A palindrome is a string that reads the same backward as forward. For example, the words dad, madam and radar are all palindromes. Write a programs that determines whether the string is a palindrome.\n",
    "    Note: do not use reverse() method"
   ]
  },
  {
   "cell_type": "code",
   "execution_count": 34,
   "id": "f39dfe6f-f149-4317-86bb-d5449089b1ff",
   "metadata": {},
   "outputs": [
    {
     "name": "stdin",
     "output_type": "stream",
     "text": [
      "Enter a string:  efficacy\n"
     ]
    },
    {
     "name": "stdout",
     "output_type": "stream",
     "text": [
      "The string is not a palindrome.\n"
     ]
    }
   ],
   "source": [
    "# Program to check if a string is a palindrome\n",
    "# Accept input string from the user\n",
    "string = input(\"Enter a string: \")\n",
    "\n",
    "# Convert the string to lowercase to make the check case-insensitive\n",
    "string = string.lower()\n",
    "\n",
    "# Initialize variables for the start and end indices\n",
    "start = 0\n",
    "end = len(string) - 1\n",
    "\n",
    "# Flag to determine if the string is a palindrome\n",
    "is_palindrome = True\n",
    "\n",
    "# Loop through the string while comparing characters from start and end\n",
    "while start < end:\n",
    "    if string[start] != string[end]:\n",
    "        is_palindrome = False\n",
    "        break\n",
    "    start += 1\n",
    "    end -= 1\n",
    "\n",
    "# Display the result\n",
    "if is_palindrome:\n",
    "    print(\"The string is a palindrome.\")\n",
    "else:\n",
    "    print(\"The string is not a palindrome.\")\n"
   ]
  },
  {
   "cell_type": "markdown",
   "id": "2bb89dad-58da-4b15-b604-1d006f7c6a06",
   "metadata": {},
   "source": [
    "### 8. Write a program that display following output:\n",
    "    SHIFT\n",
    "    HIFTS\n",
    "    IFTSH\n",
    "    FTSHI\n",
    "    TSHIF\n",
    "    SHIFT"
   ]
  },
  {
   "cell_type": "code",
   "execution_count": 39,
   "id": "47d13d74-27b5-4974-914b-b72e3ca8cd56",
   "metadata": {},
   "outputs": [
    {
     "name": "stdout",
     "output_type": "stream",
     "text": [
      "SHIFT\n",
      "HIFTS\n",
      "IFTSH\n",
      "FTSHI\n",
      "TSHIF\n",
      "SHIFT\n"
     ]
    }
   ],
   "source": [
    "# Program to display the cyclic shifts of the string \"SHIFT\"\n",
    "\n",
    "# Define the string\n",
    "text = \"SHIFT\"\n",
    "\n",
    "# Loop through the length of the string to generate shifts\n",
    "for i in range(len(text)):\n",
    "    # Use slicing to create a cyclic shift\n",
    "    shifted_text = text[i:] + text[:i]\n",
    "    print(shifted_text)\n",
    "\n",
    "# Print the original string again at the end\n",
    "print(text)\n"
   ]
  },
  {
   "cell_type": "markdown",
   "id": "6e0c08e2-549f-4cc3-b942-5691f7be53ab",
   "metadata": {},
   "source": [
    "### 9. Write a program in python that accepts a string to setup a passwords. Your entered password must meet the following requirements:\n",
    "\n",
    "    The password must be at least eight characters long.\n",
    "    It must contain at least one uppercase letter.\n",
    "    It must contain at least one lowercase letter.\n",
    "    It must contain at least one numeric digit.\n",
    "    Your program should should perform this validation."
   ]
  },
  {
   "cell_type": "code",
   "execution_count": 42,
   "id": "453a9b15-9845-4a73-8313-8a1a7104a0e3",
   "metadata": {},
   "outputs": [
    {
     "name": "stdin",
     "output_type": "stream",
     "text": [
      "Enter a password:  Yosoytik@196\n"
     ]
    },
    {
     "name": "stdout",
     "output_type": "stream",
     "text": [
      "Password is valid.\n"
     ]
    }
   ],
   "source": [
    "# Program to validate a password\n",
    "\n",
    "# Function to validate the password\n",
    "def validate_password(password):\n",
    "    # Check if password meets the length requirement\n",
    "    if len(password) < 8:\n",
    "        return \"Password must be at least 8 characters long.\"\n",
    "    \n",
    "    # Initialize flags for the required criteria\n",
    "    has_upper = False\n",
    "    has_lower = False\n",
    "    has_digit = False\n",
    "\n",
    "    # Loop through each character in the password\n",
    "    for char in password:\n",
    "        if char.isupper():\n",
    "            has_upper = True\n",
    "        elif char.islower():\n",
    "            has_lower = True\n",
    "        elif char.isdigit():\n",
    "            has_digit = True\n",
    "    \n",
    "    # Check if all criteria are met\n",
    "    if not has_upper:\n",
    "        return \"Password must contain at least one uppercase letter.\"\n",
    "    if not has_lower:\n",
    "        return \"Password must contain at least one lowercase letter.\"\n",
    "    if not has_digit:\n",
    "        return \"Password must contain at least one numeric digit.\"\n",
    "    \n",
    "    # If all criteria are met, return valid\n",
    "    return \"Password is valid.\"\n",
    "\n",
    "# Prompt the user to enter a password\n",
    "password = input(\"Enter a password: \")\n",
    "\n",
    "# Validate the password and display the result\n",
    "result = validate_password(password)\n",
    "print(result)\n"
   ]
  }
 ],
 "metadata": {
  "kernelspec": {
   "display_name": "Python 3 (ipykernel)",
   "language": "python",
   "name": "python3"
  },
  "language_info": {
   "codemirror_mode": {
    "name": "ipython",
    "version": 3
   },
   "file_extension": ".py",
   "mimetype": "text/x-python",
   "name": "python",
   "nbconvert_exporter": "python",
   "pygments_lexer": "ipython3",
   "version": "3.12.7"
  }
 },
 "nbformat": 4,
 "nbformat_minor": 5
}
