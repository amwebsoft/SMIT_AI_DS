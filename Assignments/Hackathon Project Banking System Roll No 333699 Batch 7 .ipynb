{
 "cells": [
  {
   "cell_type": "code",
   "execution_count": null,
   "id": "03a96224-a7ac-44f7-8bc1-2bbe065be4f2",
   "metadata": {},
   "outputs": [
    {
     "name": "stdout",
     "output_type": "stream",
     "text": [
      "\n",
      "--- Bank Menu ---\n",
      "1. Open a new account\n",
      "2. Deposit money\n",
      "3. Withdraw money\n",
      "4. Check account balance\n",
      "5. Transfer money\n",
      "6. View transaction statement\n",
      "7. Admin: View total deposits\n",
      "8. Admin: View total accounts\n",
      "9. Exit\n"
     ]
    },
    {
     "name": "stdin",
     "output_type": "stream",
     "text": [
      "Enter your choice:  3\n",
      "Enter your account number:  56661\n",
      "Enter amount to withdraw:  5000\n"
     ]
    },
    {
     "name": "stdout",
     "output_type": "stream",
     "text": [
      "Insufficient balance or invalid input.\n",
      "\n",
      "--- Bank Menu ---\n",
      "1. Open a new account\n",
      "2. Deposit money\n",
      "3. Withdraw money\n",
      "4. Check account balance\n",
      "5. Transfer money\n",
      "6. View transaction statement\n",
      "7. Admin: View total deposits\n",
      "8. Admin: View total accounts\n",
      "9. Exit\n"
     ]
    },
    {
     "name": "stdin",
     "output_type": "stream",
     "text": [
      "Enter your choice:  1\n",
      "Enter account holder's name:  Mahmood\n"
     ]
    },
    {
     "name": "stdout",
     "output_type": "stream",
     "text": [
      "Account created successfully! Your account number is 1\n",
      "\n",
      "--- Bank Menu ---\n",
      "1. Open a new account\n",
      "2. Deposit money\n",
      "3. Withdraw money\n",
      "4. Check account balance\n",
      "5. Transfer money\n",
      "6. View transaction statement\n",
      "7. Admin: View total deposits\n",
      "8. Admin: View total accounts\n",
      "9. Exit\n"
     ]
    },
    {
     "name": "stdin",
     "output_type": "stream",
     "text": [
      "Enter your choice:  2\n",
      "Enter your account number:  1\n",
      "Enter amount to deposit:  60000\n"
     ]
    },
    {
     "name": "stdout",
     "output_type": "stream",
     "text": [
      "Deposit successful!\n",
      "\n",
      "--- Bank Menu ---\n",
      "1. Open a new account\n",
      "2. Deposit money\n",
      "3. Withdraw money\n",
      "4. Check account balance\n",
      "5. Transfer money\n",
      "6. View transaction statement\n",
      "7. Admin: View total deposits\n",
      "8. Admin: View total accounts\n",
      "9. Exit\n"
     ]
    },
    {
     "name": "stdin",
     "output_type": "stream",
     "text": [
      "Enter your choice:  3\n",
      "Enter your account number:  1\n",
      "Enter amount to withdraw:  10000\n"
     ]
    },
    {
     "name": "stdout",
     "output_type": "stream",
     "text": [
      "Withdrawal successful!\n",
      "\n",
      "--- Bank Menu ---\n",
      "1. Open a new account\n",
      "2. Deposit money\n",
      "3. Withdraw money\n",
      "4. Check account balance\n",
      "5. Transfer money\n",
      "6. View transaction statement\n",
      "7. Admin: View total deposits\n",
      "8. Admin: View total accounts\n",
      "9. Exit\n"
     ]
    },
    {
     "name": "stdin",
     "output_type": "stream",
     "text": [
      "Enter your choice:  4\n",
      "Enter your account number:  1\n"
     ]
    },
    {
     "name": "stdout",
     "output_type": "stream",
     "text": [
      "Your current balance is: $50000.0\n",
      "\n",
      "--- Bank Menu ---\n",
      "1. Open a new account\n",
      "2. Deposit money\n",
      "3. Withdraw money\n",
      "4. Check account balance\n",
      "5. Transfer money\n",
      "6. View transaction statement\n",
      "7. Admin: View total deposits\n",
      "8. Admin: View total accounts\n",
      "9. Exit\n"
     ]
    },
    {
     "name": "stdin",
     "output_type": "stream",
     "text": [
      "Enter your choice:  5\n",
      "Enter your account number:  1\n",
      "Enter receiver's account number:  2\n",
      "Enter amount to transfer:  15000\n"
     ]
    },
    {
     "name": "stdout",
     "output_type": "stream",
     "text": [
      "Transfer failed. Please check your input.\n",
      "\n",
      "--- Bank Menu ---\n",
      "1. Open a new account\n",
      "2. Deposit money\n",
      "3. Withdraw money\n",
      "4. Check account balance\n",
      "5. Transfer money\n",
      "6. View transaction statement\n",
      "7. Admin: View total deposits\n",
      "8. Admin: View total accounts\n",
      "9. Exit\n"
     ]
    },
    {
     "name": "stdin",
     "output_type": "stream",
     "text": [
      "Enter your choice:  6\n",
      "Enter your account number:  1\n"
     ]
    },
    {
     "name": "stdout",
     "output_type": "stream",
     "text": [
      "Statement for Account: 1 - Mahmood\n",
      "Deposited: $60000.0\n",
      "Withdrew: $10000.0\n",
      "\n",
      "--- Bank Menu ---\n",
      "1. Open a new account\n",
      "2. Deposit money\n",
      "3. Withdraw money\n",
      "4. Check account balance\n",
      "5. Transfer money\n",
      "6. View transaction statement\n",
      "7. Admin: View total deposits\n",
      "8. Admin: View total accounts\n",
      "9. Exit\n"
     ]
    },
    {
     "name": "stdin",
     "output_type": "stream",
     "text": [
      "Enter your choice:  7\n"
     ]
    },
    {
     "name": "stdout",
     "output_type": "stream",
     "text": [
      "Total deposits in the bank: $50000.0\n",
      "\n",
      "--- Bank Menu ---\n",
      "1. Open a new account\n",
      "2. Deposit money\n",
      "3. Withdraw money\n",
      "4. Check account balance\n",
      "5. Transfer money\n",
      "6. View transaction statement\n",
      "7. Admin: View total deposits\n",
      "8. Admin: View total accounts\n",
      "9. Exit\n"
     ]
    },
    {
     "name": "stdin",
     "output_type": "stream",
     "text": [
      "Enter your choice:  8\n"
     ]
    },
    {
     "name": "stdout",
     "output_type": "stream",
     "text": [
      "Total number of accounts in the bank: 1\n",
      "\n",
      "--- Bank Menu ---\n",
      "1. Open a new account\n",
      "2. Deposit money\n",
      "3. Withdraw money\n",
      "4. Check account balance\n",
      "5. Transfer money\n",
      "6. View transaction statement\n",
      "7. Admin: View total deposits\n",
      "8. Admin: View total accounts\n",
      "9. Exit\n"
     ]
    }
   ],
   "source": [
    "class BankAccount:\n",
    "    def __init__(self, account_number, account_holder):\n",
    "        self.account_number = account_number\n",
    "        self.account_holder = account_holder\n",
    "        self.balance = 0\n",
    "        self.transactions = []\n",
    "\n",
    "    def deposit(self, amount):\n",
    "        if amount > 0:\n",
    "            self.balance += amount\n",
    "            self.add_transaction(f\"Deposited: ${amount}\")\n",
    "            return True\n",
    "        return False\n",
    "\n",
    "    def withdraw(self, amount):\n",
    "        if 0 < amount <= self.balance:\n",
    "            self.balance -= amount\n",
    "            self.add_transaction(f\"Withdrew: ${amount}\")\n",
    "            return True\n",
    "        return False\n",
    "\n",
    "    def check_balance(self):\n",
    "        return self.balance\n",
    "\n",
    "    def add_transaction(self, description):\n",
    "        self.transactions.append(description)\n",
    "\n",
    "    def print_statement(self):\n",
    "        print(f\"Statement for Account: {self.account_number} - {self.account_holder}\")\n",
    "        for transaction in self.transactions:\n",
    "            print(transaction)\n",
    "\n",
    "\n",
    "class Bank:\n",
    "    def __init__(self):\n",
    "        self.accounts = {}\n",
    "        self.total_deposits = 0\n",
    "\n",
    "    def open_account(self, account_holder):\n",
    "        account_number = len(self.accounts) + 1\n",
    "        new_account = BankAccount(account_number, account_holder)\n",
    "        self.accounts[account_number] = new_account\n",
    "        return account_number\n",
    "\n",
    "    def get_account(self, account_number):\n",
    "        return self.accounts.get(account_number, None)\n",
    "\n",
    "    def transfer(self, sender_account_number, receiver_account_number, amount):\n",
    "        sender = self.get_account(sender_account_number)\n",
    "        receiver = self.get_account(receiver_account_number)\n",
    "\n",
    "        if sender and receiver and sender.withdraw(amount):\n",
    "            receiver.deposit(amount)\n",
    "            sender.add_transaction(f\"Transferred ${amount} to Account {receiver_account_number}\")\n",
    "            receiver.add_transaction(f\"Received ${amount} from Account {sender_account_number}\")\n",
    "            return True\n",
    "        return False\n",
    "\n",
    "    def admin_check_total_deposit(self):\n",
    "        return sum(account.check_balance() for account in self.accounts.values())\n",
    "\n",
    "    def admin_check_total_accounts(self):\n",
    "        return len(self.accounts)\n",
    "\n",
    "\n",
    "# Menu-Driven Interface\n",
    "def main():\n",
    "    bank = Bank()\n",
    "\n",
    "    while True:\n",
    "        print(\"\\n--- Bank Menu ---\")\n",
    "        print(\"1. Open a new account\")\n",
    "        print(\"2. Deposit money\")\n",
    "        print(\"3. Withdraw money\")\n",
    "        print(\"4. Check account balance\")\n",
    "        print(\"5. Transfer money\")\n",
    "        print(\"6. View transaction statement\")\n",
    "        print(\"7. Admin: View total deposits\")\n",
    "        print(\"8. Admin: View total accounts\")\n",
    "        print(\"9. Exit\")\n",
    "\n",
    "        choice = int(input(\"Enter your choice: \"))\n",
    "\n",
    "        if choice == 1:\n",
    "            name = input(\"Enter account holder's name: \")\n",
    "            account_number = bank.open_account(name)\n",
    "            print(f\"Account created successfully! Your account number is {account_number}\")\n",
    "\n",
    "        elif choice == 2:\n",
    "            account_number = int(input(\"Enter your account number: \"))\n",
    "            amount = float(input(\"Enter amount to deposit: \"))\n",
    "            account = bank.get_account(account_number)\n",
    "            if account and account.deposit(amount):\n",
    "                print(\"Deposit successful!\")\n",
    "            else:\n",
    "                print(\"Deposit failed. Please check your input.\")\n",
    "\n",
    "        elif choice == 3:\n",
    "            account_number = int(input(\"Enter your account number: \"))\n",
    "            amount = float(input(\"Enter amount to withdraw: \"))\n",
    "            account = bank.get_account(account_number)\n",
    "            if account and account.withdraw(amount):\n",
    "                print(\"Withdrawal successful!\")\n",
    "            else:\n",
    "                print(\"Insufficient balance or invalid input.\")\n",
    "\n",
    "        elif choice == 4:\n",
    "            account_number = int(input(\"Enter your account number: \"))\n",
    "            account = bank.get_account(account_number)\n",
    "            if account:\n",
    "                print(f\"Your current balance is: ${account.check_balance()}\")\n",
    "            else:\n",
    "                print(\"Invalid account number.\")\n",
    "\n",
    "        elif choice == 5:\n",
    "            sender_account_number = int(input(\"Enter your account number: \"))\n",
    "            receiver_account_number = int(input(\"Enter receiver's account number: \"))\n",
    "            amount = float(input(\"Enter amount to transfer: \"))\n",
    "            if bank.transfer(sender_account_number, receiver_account_number, amount):\n",
    "                print(\"Transfer successful!\")\n",
    "            else:\n",
    "                print(\"Transfer failed. Please check your input.\")\n",
    "\n",
    "        elif choice == 6:\n",
    "            account_number = int(input(\"Enter your account number: \"))\n",
    "            account = bank.get_account(account_number)\n",
    "            if account:\n",
    "                account.print_statement()\n",
    "            else:\n",
    "                print(\"Invalid account number.\")\n",
    "\n",
    "        elif choice == 7:\n",
    "            print(f\"Total deposits in the bank: ${bank.admin_check_total_deposit()}\")\n",
    "\n",
    "        elif choice == 8:\n",
    "            print(f\"Total number of accounts in the bank: {bank.admin_check_total_accounts()}\")\n",
    "\n",
    "        elif choice == 9:\n",
    "            print(\"Thank you for using the banking system. Goodbye!\")\n",
    "            break\n",
    "\n",
    "        else:\n",
    "            print(\"Invalid choice. Please try again.\")\n",
    "\n",
    "\n",
    "if __name__ == \"__main__\":\n",
    "    main()\n"
   ]
  },
  {
   "cell_type": "code",
   "execution_count": null,
   "id": "4c84487a-6838-4bf7-93cc-4b10f1738425",
   "metadata": {},
   "outputs": [],
   "source": []
  }
 ],
 "metadata": {
  "kernelspec": {
   "display_name": "Python 3 (ipykernel)",
   "language": "python",
   "name": "python3"
  },
  "language_info": {
   "codemirror_mode": {
    "name": "ipython",
    "version": 3
   },
   "file_extension": ".py",
   "mimetype": "text/x-python",
   "name": "python",
   "nbconvert_exporter": "python",
   "pygments_lexer": "ipython3",
   "version": "3.12.7"
  }
 },
 "nbformat": 4,
 "nbformat_minor": 5
}
