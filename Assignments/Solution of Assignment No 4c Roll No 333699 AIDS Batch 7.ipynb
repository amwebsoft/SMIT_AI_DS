{
 "cells": [
  {
   "cell_type": "markdown",
   "id": "52dca016-16a9-4e0d-8219-280de1de83b7",
   "metadata": {},
   "source": [
    "## Solution of Assignment No 4c Roll No 333699 AIDS Batch 7\n",
    "### 1. Write a Python program to print the numbers from 1 to 10 using a for loop."
   ]
  },
  {
   "cell_type": "code",
   "execution_count": 3,
   "id": "5203f1f0-cb24-493a-9b78-3c91a242ab0f",
   "metadata": {},
   "outputs": [
    {
     "name": "stdout",
     "output_type": "stream",
     "text": [
      "1\n",
      "2\n",
      "3\n",
      "4\n",
      "5\n",
      "6\n",
      "7\n",
      "8\n",
      "9\n",
      "10\n"
     ]
    }
   ],
   "source": [
    "# Program to print numbers from 1 to 10\n",
    "for number in range(1, 11):\n",
    "    print(number)\n"
   ]
  },
  {
   "cell_type": "markdown",
   "id": "147f358d-2660-4dca-ba3e-3eb023d626da",
   "metadata": {},
   "source": [
    "### 2. Write a Python program to print the numbers from 20 to 1 using a while loop."
   ]
  },
  {
   "cell_type": "code",
   "execution_count": 12,
   "id": "289dcd32-6adb-468f-a5fb-50ece3f8fd87",
   "metadata": {},
   "outputs": [
    {
     "name": "stdout",
     "output_type": "stream",
     "text": [
      "20\n",
      "19\n",
      "18\n",
      "17\n",
      "16\n",
      "15\n",
      "14\n",
      "13\n",
      "12\n",
      "11\n",
      "10\n",
      "9\n",
      "8\n",
      "7\n",
      "6\n",
      "5\n",
      "4\n",
      "3\n",
      "2\n",
      "1\n"
     ]
    }
   ],
   "source": [
    "# Start from 20\n",
    "number = 20\n",
    "\n",
    "# Loop until number reaches 1\n",
    "while number >= 1:\n",
    "    print(number)\n",
    "    number -= 1  # Decrement number by 1\n"
   ]
  },
  {
   "cell_type": "markdown",
   "id": "b7506608-d7d9-4bb3-a1c1-64dcd6ad0cf7",
   "metadata": {},
   "source": [
    "### 3. Write a program to print even numbers from 1 to 10."
   ]
  },
  {
   "cell_type": "code",
   "execution_count": 17,
   "id": "8f17c6f2-d8df-45e4-b345-a788cfa30aa2",
   "metadata": {},
   "outputs": [
    {
     "name": "stdout",
     "output_type": "stream",
     "text": [
      "2\n",
      "4\n",
      "6\n",
      "8\n",
      "10\n"
     ]
    }
   ],
   "source": [
    "# Program to print even numbers from 1 to 10\n",
    "for number in range(1, 11):\n",
    "    if number % 2 == 0:  # Check if the number is even\n",
    "        print(number)\n"
   ]
  },
  {
   "cell_type": "markdown",
   "id": "c5ac0d52-d974-4a7e-9998-651bbdbea878",
   "metadata": {},
   "source": [
    "### 4. Write a program that prompts the user to enter a number n and prints all the numbers from 1 to n."
   ]
  },
  {
   "cell_type": "code",
   "execution_count": 27,
   "id": "faed7661-c676-4751-9a2c-71fbb0a72e75",
   "metadata": {},
   "outputs": [
    {
     "name": "stdin",
     "output_type": "stream",
     "text": [
      "Enter a number (n):  8\n"
     ]
    },
    {
     "name": "stdout",
     "output_type": "stream",
     "text": [
      "1\n",
      "2\n",
      "3\n",
      "4\n",
      "5\n",
      "6\n",
      "7\n",
      "8\n"
     ]
    }
   ],
   "source": [
    "# Program to print numbers from 1 to n\n",
    "n = int(input(\"Enter a number (n): \"))\n",
    "\n",
    "# Print numbers from 1 to n\n",
    "for number in range(1, n + 1):\n",
    "    print(number)\n"
   ]
  },
  {
   "cell_type": "markdown",
   "id": "4fcf3cc2-163d-4d80-8727-10dd00bfff51",
   "metadata": {},
   "source": [
    "### 5. Write a program that prompts the user to enter a number n, and then prints all the odd numbers between 1 and n."
   ]
  },
  {
   "cell_type": "code",
   "execution_count": 31,
   "id": "83f48bdc-e664-40d2-b76e-582320370e82",
   "metadata": {},
   "outputs": [
    {
     "name": "stdin",
     "output_type": "stream",
     "text": [
      "Enter a number (n):  8\n"
     ]
    },
    {
     "name": "stdout",
     "output_type": "stream",
     "text": [
      "1\n",
      "3\n",
      "5\n",
      "7\n"
     ]
    }
   ],
   "source": [
    "n = int(input(\"Enter a number (n): \"))\n",
    "\n",
    "for num in range(1, n):\n",
    "    if num % 2 != 0:  # Check if the number is odd\n",
    "        print(num)\n"
   ]
  },
  {
   "cell_type": "markdown",
   "id": "2097af8b-4a76-40e8-a324-11b2871a5741",
   "metadata": {},
   "source": [
    "### 6. Write a program that prints 'Happy Birthday!' five times on screen."
   ]
  },
  {
   "cell_type": "code",
   "execution_count": 34,
   "id": "32e24056-dfab-497e-9a3b-5007f2e56a9e",
   "metadata": {},
   "outputs": [
    {
     "name": "stdout",
     "output_type": "stream",
     "text": [
      "Happy Birthday!\n",
      "Happy Birthday!\n",
      "Happy Birthday!\n",
      "Happy Birthday!\n",
      "Happy Birthday!\n"
     ]
    }
   ],
   "source": [
    "# Program to print 'Happy Birthday!' five times\n",
    "for _ in range(5):\n",
    "    print(\"Happy Birthday!\")\n"
   ]
  },
  {
   "cell_type": "markdown",
   "id": "74757aef-537e-41d7-aff9-48f284b18b30",
   "metadata": {},
   "source": [
    "### 7. Write a program that takes a number n as input from the user and generates the first n terms of the series formed by squaring the natural numbers. \n",
    "Sample output\n",
    "\n",
    "Enter a number: 6\n",
    "\n",
    "The first 6 terms of the series are:\n",
    "\n",
    "1   4   9   16   25   36"
   ]
  },
  {
   "cell_type": "code",
   "execution_count": 39,
   "id": "8c683200-104d-413d-8655-b3f2696a9486",
   "metadata": {},
   "outputs": [
    {
     "name": "stdin",
     "output_type": "stream",
     "text": [
      "Enter a number:  8\n"
     ]
    },
    {
     "name": "stdout",
     "output_type": "stream",
     "text": [
      "The first 8 terms of the series are:\n",
      "1 4 9 16 25 36 49 64 "
     ]
    }
   ],
   "source": [
    "# Program to generate the first n terms of the series of squares of natural numbers\n",
    "n = int(input(\"Enter a number: \"))\n",
    "\n",
    "# Generate and print the first n terms of the series (squares of natural numbers)\n",
    "print(f\"The first {n} terms of the series are:\")\n",
    "for i in range(1, n + 1):\n",
    "    print(i ** 2, end=\" \")\n"
   ]
  },
  {
   "cell_type": "markdown",
   "id": "1ef64607-32c2-4320-b113-738e6470449a",
   "metadata": {},
   "source": [
    "### 8. Write a program that prompts the user to input a number and prints its multiplication table."
   ]
  },
  {
   "cell_type": "code",
   "execution_count": 47,
   "id": "c00eb325-b369-4c2e-9548-9502580ec5cf",
   "metadata": {},
   "outputs": [
    {
     "name": "stdin",
     "output_type": "stream",
     "text": [
      "Enter a number:  9\n"
     ]
    },
    {
     "name": "stdout",
     "output_type": "stream",
     "text": [
      "Multiplication table for 9:\n",
      "9 x 1 = 9\n",
      "9 x 2 = 18\n",
      "9 x 3 = 27\n",
      "9 x 4 = 36\n",
      "9 x 5 = 45\n",
      "9 x 6 = 54\n",
      "9 x 7 = 63\n",
      "9 x 8 = 72\n",
      "9 x 9 = 81\n",
      "9 x 10 = 90\n"
     ]
    }
   ],
   "source": [
    "# Program to print the multiplication table of a number\n",
    "number = int(input(\"Enter a number: \"))\n",
    "\n",
    "# Print the multiplication table for the number\n",
    "print(f\"Multiplication table for {number}:\")\n",
    "\n",
    "for i in range(1, 11):  # Multiplying the number by numbers from 1 to 10\n",
    "    print(f\"{number} x {i} = {number * i}\")"
   ]
  },
  {
   "cell_type": "markdown",
   "id": "d3ec8769-1d96-4fd3-a0f9-4780f701cfa5",
   "metadata": {},
   "source": [
    "### 9. Write a Python program to print the first 8 terms of an arithmetic progression starting with 3 and having a common difference of 4. The program should output the following sequence: 3 7 11 15 19 23 27 31"
   ]
  },
  {
   "cell_type": "code",
   "execution_count": 49,
   "id": "51e1a779-83cd-4613-be87-59ddb6c5d327",
   "metadata": {},
   "outputs": [
    {
     "name": "stdout",
     "output_type": "stream",
     "text": [
      "3 7 11 15 19 23 27 31 "
     ]
    }
   ],
   "source": [
    "# Program to print the first 8 terms of an arithmetic progression\n",
    "first_term = 3  # First term of the AP\n",
    "common_difference = 4  # Common difference\n",
    "num_terms = 8  # Number of terms to print\n",
    "\n",
    "# Print the terms of the arithmetic progression\n",
    "for i in range(num_terms):\n",
    "    term = first_term + i * common_difference\n",
    "    print(term, end=\" \")\n"
   ]
  },
  {
   "cell_type": "markdown",
   "id": "6a3617f1-c694-4527-955b-2c55fc145174",
   "metadata": {},
   "source": [
    "### 10. Write a Python program to print the first 6 terms of a geometric sequence starting with 2 and having a common ratio of 3. The program should output the following sequence: 2 6 18 54 162 486"
   ]
  },
  {
   "cell_type": "code",
   "execution_count": 62,
   "id": "0ea29db9-ed0b-40e7-9a9d-b8a774cec38f",
   "metadata": {},
   "outputs": [
    {
     "name": "stdout",
     "output_type": "stream",
     "text": [
      "2 6 18 54 162 486 "
     ]
    }
   ],
   "source": [
    "# Program to print the first 6 terms of a geometric sequence\n",
    "first_term = 2  # First term of the sequence\n",
    "common_ratio = 3  # Common ratio\n",
    "num_terms = 6  # Number of terms to print\n",
    "\n",
    "# Print the terms of the geometric sequence\n",
    "for i in range(num_terms):\n",
    "    term = first_term * (common_ratio ** i)  # nth term of the geometric sequence\n",
    "    print(term, end=\" \")\n"
   ]
  },
  {
   "cell_type": "markdown",
   "id": "99cb80de-d8a6-4666-9705-e080fec5e1f5",
   "metadata": {},
   "source": [
    "### 11. Write a program that asks the user for a positive integer value. The program should calculate the sum of all the integers from 1 up to the number entered. For example, if the user enters 20, the loop will find the sum of 1, 2, 3, 4, ... 20."
   ]
  },
  {
   "cell_type": "code",
   "execution_count": 65,
   "id": "897c1946-ba2c-4400-8dbb-f417a6889d15",
   "metadata": {},
   "outputs": [
    {
     "name": "stdin",
     "output_type": "stream",
     "text": [
      "Enter a positive integer:  8\n"
     ]
    },
    {
     "name": "stdout",
     "output_type": "stream",
     "text": [
      "The sum of all integers from 1 to 8 is: 36\n"
     ]
    }
   ],
   "source": [
    "# Program to calculate the sum of integers from 1 to a user-entered number\n",
    "n = int(input(\"Enter a positive integer: \"))\n",
    "\n",
    "# Calculate the sum using a loop\n",
    "sum_of_numbers = 0\n",
    "for i in range(1, n + 1):\n",
    "    sum_of_numbers += i  # Add each number to the sum\n",
    "\n",
    "# Output the result\n",
    "print(f\"The sum of all integers from 1 to {n} is: {sum_of_numbers}\")\n"
   ]
  },
  {
   "cell_type": "code",
   "execution_count": 67,
   "id": "81f8f503-94a8-4b2c-96c9-539499a0fcd1",
   "metadata": {},
   "outputs": [
    {
     "name": "stdin",
     "output_type": "stream",
     "text": [
      "Enter a positive integer:  8\n"
     ]
    },
    {
     "name": "stdout",
     "output_type": "stream",
     "text": [
      "The sum of all integers from 1 to 8 is: 36\n"
     ]
    }
   ],
   "source": [
    "n = int(input(\"Enter a positive integer: \"))\n",
    "\n",
    "# Calculate the sum using the formula\n",
    "sum_of_numbers = n * (n + 1) // 2\n",
    "\n",
    "print(f\"The sum of all integers from 1 to {n} is: {sum_of_numbers}\")\n"
   ]
  },
  {
   "cell_type": "markdown",
   "id": "0554d995-b52b-486d-aa9c-972530ebeb55",
   "metadata": {},
   "source": [
    "### 12. write a program that takes a positive integer N as input and calculates the sum of the reciprocals of all numbers from 1 up to N. The program should display the final sum."
   ]
  },
  {
   "cell_type": "code",
   "execution_count": 72,
   "id": "b9d096a6-fc55-49c8-beef-2a3f608dede3",
   "metadata": {},
   "outputs": [
    {
     "name": "stdin",
     "output_type": "stream",
     "text": [
      "Enter a positive integer:  5\n"
     ]
    },
    {
     "name": "stdout",
     "output_type": "stream",
     "text": [
      "The sum of reciprocals from 1 to 5 is: 2.28\n"
     ]
    }
   ],
   "source": [
    "# Program to calculate the sum of reciprocals of numbers from 1 to N\n",
    "N = int(input(\"Enter a positive integer: \"))\n",
    "\n",
    "# Calculate the sum of reciprocals\n",
    "sum_of_reciprocals = 0\n",
    "for i in range(1, N + 1):\n",
    "    sum_of_reciprocals += 1 / i  # Add the reciprocal of i\n",
    "\n",
    "# Output the result rounded to two decimal places\n",
    "print(f\"The sum of reciprocals from 1 to {N} is: {sum_of_reciprocals:.2f}\")\n"
   ]
  },
  {
   "cell_type": "markdown",
   "id": "c27f5817-b1aa-424a-a7ca-a42ffdc9fc20",
   "metadata": {},
   "source": [
    "### 13. Write a program that prompts the user to enter a number and repeats this process 5 times. The program should accumulate the numbers entered and then display the final running total.\n",
    "    Sample Output:\n",
    "    Enter a number: 10\n",
    "    Enter a number: 15\n",
    "    Enter a number: 35\n",
    "    Enter a number: 40\n",
    "    Enter a number: 50\n",
    "    The final running total is: 150"
   ]
  },
  {
   "cell_type": "code",
   "execution_count": 82,
   "id": "3751aba7-5270-4ea9-a6fc-e592df32ef21",
   "metadata": {},
   "outputs": [
    {
     "name": "stdin",
     "output_type": "stream",
     "text": [
      "Enter first number 10\n",
      "Enter 2nd number 15\n",
      "Enter third number 35\n",
      "Enter fourth number 40\n",
      "Enter fifth number 50\n"
     ]
    },
    {
     "name": "stdout",
     "output_type": "stream",
     "text": [
      "the final running total is 150: \n"
     ]
    }
   ],
   "source": [
    "num1 = int(input(\"Enter first number\"))\n",
    "num2 = int(input(\"Enter 2nd number\"))\n",
    "num3 = int(input(\"Enter third number\"))\n",
    "num4 = int(input(\"Enter fourth number\"))\n",
    "num5 = int(input(\"Enter fifth number\"))\n",
    "running_total = num1+num2+num3+num4+num5\n",
    "print(f\"the final running total is {running_total}: \")"
   ]
  },
  {
   "cell_type": "code",
   "execution_count": 85,
   "id": "3c84cfe2-3a94-488c-b205-123eb4ce96f0",
   "metadata": {},
   "outputs": [
    {
     "name": "stdin",
     "output_type": "stream",
     "text": [
      "Enter a number:  10\n",
      "Enter a number:  15\n",
      "Enter a number:  35\n",
      "Enter a number:  40\n",
      "Enter a number:  50\n"
     ]
    },
    {
     "name": "stdout",
     "output_type": "stream",
     "text": [
      "The final running total is: 150\n"
     ]
    }
   ],
   "source": [
    "# Program to accumulate numbers entered by the user and display the total\n",
    "total = 0  # Initialize the running total\n",
    "\n",
    "# Repeat the process 5 times\n",
    "for _ in range(5):\n",
    "    number = int(input(\"Enter a number: \"))  # Prompt the user to enter a number\n",
    "    total += number  # Add the entered number to the total\n",
    "\n",
    "# Output the final running total\n",
    "print(f\"The final running total is: {total}\")\n"
   ]
  },
  {
   "cell_type": "markdown",
   "id": "992c292f-4b1f-4a16-9b45-35bdd9944b0f",
   "metadata": {},
   "source": [
    "### 14. Write a program that prompts the user to enter a positive integer and calculates its factorial. The factorial of a positive integer 'n' is denoted as 'n!' and is calculated by multiplying all the integers from 1 to 'n' together. For example, the factorial of 5 (denoted as 5!) is calculated as 1 x 2 x 3 x 4 x 5."
   ]
  },
  {
   "cell_type": "code",
   "execution_count": 97,
   "id": "7ffa6ce9-b091-45fa-9770-05d62198c586",
   "metadata": {},
   "outputs": [
    {
     "name": "stdin",
     "output_type": "stream",
     "text": [
      "Enter a positive integer:  5\n"
     ]
    },
    {
     "name": "stdout",
     "output_type": "stream",
     "text": [
      "The factorial of 5 is: 120\n"
     ]
    }
   ],
   "source": [
    "# Program to calculate the factorial of a number\n",
    "n = int(input(\"Enter a positive integer: \"))\n",
    "\n",
    "# Check if the number is negative\n",
    "if n < 0:\n",
    "    print(\"Factorial does not exist for negative numbers.\")\n",
    "# Check if the number is zero\n",
    "elif n == 0:\n",
    "    print(\"The factorial of 0 is: 1\")\n",
    "# Calculate the factorial for positive integers\n",
    "else:\n",
    "    factorial = 1\n",
    "    for i in range(1, n + 1):\n",
    "        factorial *= i  # Multiply each number from 1 to n\n",
    "    print(f\"The factorial of {n} is: {factorial}\")\n",
    "\n"
   ]
  },
  {
   "cell_type": "markdown",
   "id": "b700316c-b8e4-488b-9b6b-d64b6b107396",
   "metadata": {},
   "source": [
    "### 15. Write a Python program that prompts the user to enter a base number and an exponent, and then calculates the power of the base to the exponent. The program should not use the exponentiation operator (**) or the math.pow() function. The program should handle both positive and negative exponents."
   ]
  },
  {
   "cell_type": "code",
   "execution_count": 100,
   "id": "60613bcd-4bdd-4e8f-baae-a14a50a722ae",
   "metadata": {},
   "outputs": [
    {
     "name": "stdin",
     "output_type": "stream",
     "text": [
      "Enter the base number:  2\n",
      "Enter the exponent:  4\n"
     ]
    },
    {
     "name": "stdout",
     "output_type": "stream",
     "text": [
      "The result of 2.0 raised to the power 4 is: 16.0\n"
     ]
    }
   ],
   "source": [
    "# Program to calculate power without using ** or math.pow()\n",
    "base = float(input(\"Enter the base number: \"))\n",
    "exponent = int(input(\"Enter the exponent: \"))\n",
    "\n",
    "# Handle positive exponents\n",
    "if exponent >= 0:\n",
    "    result = 1\n",
    "    for _ in range(abs(exponent)):  # Multiply base 'exponent' times\n",
    "        result *= base\n",
    "    print(f\"The result of {base} raised to the power {exponent} is: {result}\")\n",
    "\n",
    "# Handle negative exponents\n",
    "else:\n",
    "    result = 1\n",
    "    for _ in range(abs(exponent)):  # Multiply base 'abs(exponent)' times\n",
    "        result *= base\n",
    "    result = 1 / result  # Take the reciprocal for negative exponent\n",
    "    print(f\"The result of {base} raised to the power {exponent} is: {result}\")\n"
   ]
  }
 ],
 "metadata": {
  "kernelspec": {
   "display_name": "Python 3 (ipykernel)",
   "language": "python",
   "name": "python3"
  },
  "language_info": {
   "codemirror_mode": {
    "name": "ipython",
    "version": 3
   },
   "file_extension": ".py",
   "mimetype": "text/x-python",
   "name": "python",
   "nbconvert_exporter": "python",
   "pygments_lexer": "ipython3",
   "version": "3.12.7"
  }
 },
 "nbformat": 4,
 "nbformat_minor": 5
}
