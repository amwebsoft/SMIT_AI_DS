{
 "cells": [
  {
   "cell_type": "markdown",
   "id": "de0d0cec-a8f3-4c93-8938-077af8049299",
   "metadata": {},
   "source": [
    "### 1. Write a Python program to create a class called \"Person\" with properties for name, age and country. Include a method to display the person's details. Create two instances of the 'Person' class and display their details. "
   ]
  },
  {
   "cell_type": "code",
   "execution_count": 4,
   "id": "a749e279-d6ed-4b81-ad0d-b15a874dac8e",
   "metadata": {},
   "outputs": [
    {
     "name": "stdout",
     "output_type": "stream",
     "text": [
      "Details of Person 1:\n",
      "Name: Alice\n",
      "Age: 30\n",
      "Country: USA\n",
      "\n",
      "Details of Person 2:\n",
      "Name: Bob\n",
      "Age: 25\n",
      "Country: UK\n",
      "\n"
     ]
    }
   ],
   "source": [
    "class Person:\n",
    "    def __init__(self, name, age, country):\n",
    "        \"\"\"Initialize the properties of the Person class.\"\"\"\n",
    "        self.name = name\n",
    "        self.age = age\n",
    "        self.country = country\n",
    "\n",
    "    def display_details(self):\n",
    "        \"\"\"Display the details of the person.\"\"\"\n",
    "        print(f\"Name: {self.name}\\nAge: {self.age}\\nCountry: {self.country}\\n\")\n",
    "\n",
    "# Create two instances of the Person class\n",
    "person1 = Person(\"Alice\", 30, \"USA\")\n",
    "person2 = Person(\"Bob\", 25, \"UK\")\n",
    "\n",
    "# Display details of each person\n",
    "print(\"Details of Person 1:\")\n",
    "person1.display_details()\n",
    "\n",
    "print(\"Details of Person 2:\")\n",
    "person2.display_details()\n"
   ]
  },
  {
   "cell_type": "markdown",
   "id": "257f5b9a-4d58-4186-b321-db0e9dae7579",
   "metadata": {},
   "source": [
    "### 2. Write a Python program to create a class called 'Rectangle' with properties for width and height. Include two methods to calculate rectangle area and perimeter. Create an instance of the 'Rectangle' class and calculate its area and perimeter. "
   ]
  },
  {
   "cell_type": "code",
   "execution_count": 7,
   "id": "0c584978-fee6-4b14-acdb-3111a2475b46",
   "metadata": {},
   "outputs": [
    {
     "name": "stdout",
     "output_type": "stream",
     "text": [
      "Rectangle Width: 5\n",
      "Rectangle Height: 10\n",
      "Area of Rectangle: 50\n",
      "Perimeter of Rectangle: 30\n"
     ]
    }
   ],
   "source": [
    "class Rectangle:\n",
    "    def __init__(self, width, height):\n",
    "        \"\"\"Initialize the properties of the Rectangle class.\"\"\"\n",
    "        self.width = width\n",
    "        self.height = height\n",
    "\n",
    "    def calculate_area(self):\n",
    "        \"\"\"Calculate and return the area of the rectangle.\"\"\"\n",
    "        return self.width * self.height\n",
    "\n",
    "    def calculate_perimeter(self):\n",
    "        \"\"\"Calculate and return the perimeter of the rectangle.\"\"\"\n",
    "        return 2 * (self.width + self.height)\n",
    "\n",
    "# Create an instance of the Rectangle class\n",
    "rectangle = Rectangle(5, 10)\n",
    "\n",
    "# Calculate and display the area and perimeter of the rectangle\n",
    "area = rectangle.calculate_area()\n",
    "perimeter = rectangle.calculate_perimeter()\n",
    "\n",
    "print(f\"Rectangle Width: {rectangle.width}\")\n",
    "print(f\"Rectangle Height: {rectangle.height}\")\n",
    "print(f\"Area of Rectangle: {area}\")\n",
    "print(f\"Perimeter of Rectangle: {perimeter}\")\n"
   ]
  },
  {
   "cell_type": "markdown",
   "id": "39159225-049c-4ec5-8c1b-6073b6da9764",
   "metadata": {},
   "source": [
    "### 3. Write a Python program that creates a class called 'Vehicle' with properties for  make, model, and year. Include a method to display vehicle details. Create a subclass called 'Car' that inherits from the 'Vehicle' class and includes an additional property for the number of doors. Override the display method to include the number of doors. "
   ]
  },
  {
   "cell_type": "code",
   "execution_count": 10,
   "id": "1306e89e-e178-483b-bbca-beafc9265d18",
   "metadata": {},
   "outputs": [
    {
     "name": "stdout",
     "output_type": "stream",
     "text": [
      "Make: Toyota\n",
      "Model: Corolla\n",
      "Year: 2021\n",
      "Number of Doors: 4\n"
     ]
    }
   ],
   "source": [
    "class Vehicle:\n",
    "    def __init__(self, make, model, year):\n",
    "        \"\"\"Initialize the properties of the Vehicle class.\"\"\"\n",
    "        self.make = make\n",
    "        self.model = model\n",
    "        self.year = year\n",
    "\n",
    "    def display_details(self):\n",
    "        \"\"\"Display the details of the vehicle.\"\"\"\n",
    "        print(f\"Make: {self.make}\\nModel: {self.model}\\nYear: {self.year}\")\n",
    "\n",
    "class Car(Vehicle):\n",
    "    def __init__(self, make, model, year, number_of_doors):\n",
    "        \"\"\"Initialize the properties of the Car class, inheriting from Vehicle.\"\"\"\n",
    "        super().__init__(make, model, year)\n",
    "        self.number_of_doors = number_of_doors\n",
    "\n",
    "    def display_details(self):\n",
    "        \"\"\"Display the details of the car, including the number of doors.\"\"\"\n",
    "        super().display_details()\n",
    "        print(f\"Number of Doors: {self.number_of_doors}\")\n",
    "\n",
    "# Create an instance of the Car class\n",
    "car = Car(\"Toyota\", \"Corolla\", 2021, 4)\n",
    "\n",
    "# Display the details of the car\n",
    "car.display_details()\n"
   ]
  },
  {
   "cell_type": "markdown",
   "id": "c7c5496d-b8e6-408a-9048-0e07d8bdeeb9",
   "metadata": {},
   "source": [
    "### 4. Write a Python program that creates a class called \"BankAccount\" with properties for account number and balance. Include methods to deposit and withdraw money from the account. Create some instances of the \"BankAccount\" class, deposit some money, and withdraw a portion of it. \n"
   ]
  },
  {
   "cell_type": "code",
   "execution_count": 15,
   "id": "9c1376f4-ac8a-4d7f-a794-118650472fc2",
   "metadata": {},
   "outputs": [
    {
     "name": "stdout",
     "output_type": "stream",
     "text": [
      "--- Account 1 ---\n",
      "Deposited PKR 200.00. New balance: PKR 1200.00\n",
      "Withdrew PKR 150.00. New balance: PKR 1050.00\n",
      "Account 123456789 Balance: PKR 1050.00\n",
      "--- Account 2 ---\n",
      "Deposited PKR 300.00. New balance: PKR 800.00\n",
      "Withdrew PKR 800.00. New balance: PKR 0.00\n",
      "Account 987654321 Balance: PKR 0.00\n"
     ]
    }
   ],
   "source": [
    "class BankAccount:\n",
    "    def __init__(self, account_number, balance=0):\n",
    "        \"\"\"Initialize the BankAccount with an account number and balance.\"\"\"\n",
    "        self.account_number = account_number\n",
    "        self.balance = balance\n",
    "\n",
    "    def deposit(self, amount):\n",
    "        \"\"\"Deposit a specified amount into the account.\"\"\"\n",
    "        if amount > 0:\n",
    "            self.balance += amount\n",
    "            print(f\"Deposited PKR {amount:.2f}. New balance: PKR {self.balance:.2f}\")\n",
    "        else:\n",
    "            print(\"Deposit amount must be positive.\")\n",
    "\n",
    "    def withdraw(self, amount):\n",
    "        \"\"\"Withdraw a specified amount from the account if sufficient balance is available.\"\"\"\n",
    "        if amount > 0:\n",
    "            if amount <= self.balance:\n",
    "                self.balance -= amount\n",
    "                print(f\"Withdrew PKR {amount:.2f}. New balance: PKR {self.balance:.2f}\")\n",
    "            else:\n",
    "                print(\"Insufficient balance for this withdrawal.\")\n",
    "        else:\n",
    "            print(\"Withdrawal amount must be positive.\")\n",
    "\n",
    "    def display_balance(self):\n",
    "        \"\"\"Display the current account balance.\"\"\"\n",
    "        print(f\"Account {self.account_number} Balance: PKR {self.balance:.2f}\")\n",
    "\n",
    "# Create instances of the BankAccount class\n",
    "account1 = BankAccount(\"123456789\", 1000)\n",
    "account2 = BankAccount(\"987654321\", 500)\n",
    "\n",
    "# Perform operations on the accounts\n",
    "print(\"--- Account 1 ---\")\n",
    "account1.deposit(200)\n",
    "account1.withdraw(150)\n",
    "account1.display_balance()\n",
    "\n",
    "print(\"--- Account 2 ---\")\n",
    "account2.deposit(300)\n",
    "account2.withdraw(800)\n",
    "account2.display_balance()\n"
   ]
  },
  {
   "cell_type": "markdown",
   "id": "9e21a087-761b-4f21-95d9-512ac7292991",
   "metadata": {},
   "source": [
    "### 5. Write a Python program that creates a class called 'Shape' with a method to calculate the area. Create two subclasses, 'Circle' and 'Triangle', that inherit from the 'Shape' class and override the area calculation method. Create an instance of the 'Circle' class and calculate its area. Similarly, do the same for the 'Triangle' class. "
   ]
  },
  {
   "cell_type": "code",
   "execution_count": 18,
   "id": "79dec6d3-552c-4bbf-a899-99c5762b0d0b",
   "metadata": {},
   "outputs": [
    {
     "name": "stdout",
     "output_type": "stream",
     "text": [
      "Area of Circle with radius 5: 78.54\n",
      "Area of Triangle with base 10 and height 6: 30.00\n"
     ]
    }
   ],
   "source": [
    "import math\n",
    "\n",
    "class Shape:\n",
    "    def calculate_area(self):\n",
    "        \"\"\"Method to calculate area, to be overridden by subclasses.\"\"\"\n",
    "        raise NotImplementedError(\"Subclasses must override calculate_area()\")\n",
    "\n",
    "class Circle(Shape):\n",
    "    def __init__(self, radius):\n",
    "        \"\"\"Initialize the Circle with a radius.\"\"\"\n",
    "        self.radius = radius\n",
    "\n",
    "    def calculate_area(self):\n",
    "        \"\"\"Calculate and return the area of the circle.\"\"\"\n",
    "        return math.pi * self.radius ** 2\n",
    "\n",
    "class Triangle(Shape):\n",
    "    def __init__(self, base, height):\n",
    "        \"\"\"Initialize the Triangle with a base and height.\"\"\"\n",
    "        self.base = base\n",
    "        self.height = height\n",
    "\n",
    "    def calculate_area(self):\n",
    "        \"\"\"Calculate and return the area of the triangle.\"\"\"\n",
    "        return 0.5 * self.base * self.height\n",
    "\n",
    "# Create an instance of the Circle class\n",
    "circle = Circle(5)\n",
    "circle_area = circle.calculate_area()\n",
    "print(f\"Area of Circle with radius {circle.radius}: {circle_area:.2f}\")\n",
    "\n",
    "# Create an instance of the Triangle class\n",
    "triangle = Triangle(10, 6)\n",
    "triangle_area = triangle.calculate_area()\n",
    "print(f\"Area of Triangle with base {triangle.base} and height {triangle.height}: {triangle_area:.2f}\")\n"
   ]
  },
  {
   "cell_type": "markdown",
   "id": "78af1dd6-5262-4eb6-8c6d-a7f6c99022d8",
   "metadata": {},
   "source": [
    "### 6. Write a Python program that creates a class called 'Employee' with properties \n",
    "    for name and salary. Include a method to calculate annual salary. Create a \n",
    "    subclass called 'Manager' that inherits from the 'Employee' class and adds an \n",
    "    additional property for department. Override the annual salary calculation method \n",
    "    to include bonuses for managers. Create two instances of the 'Manager' class \n",
    "    and calculate their annual salary. "
   ]
  },
  {
   "cell_type": "code",
   "execution_count": 21,
   "id": "12aa8102-b340-4489-880a-cf7c734f741f",
   "metadata": {},
   "outputs": [
    {
     "name": "stdout",
     "output_type": "stream",
     "text": [
      "Manager: Alice, Department: IT, Annual Salary: PKR 970,000.00\n",
      "Manager: Bob, Department: HR, Annual Salary: PKR 1,095,000.00\n"
     ]
    }
   ],
   "source": [
    "class Employee:\n",
    "    def __init__(self, name, salary):\n",
    "        \"\"\"Initialize the Employee with a name and salary.\"\"\"\n",
    "        self.name = name\n",
    "        self.salary = salary\n",
    "\n",
    "    def calculate_annual_salary(self):\n",
    "        \"\"\"Calculate and return the annual salary of the employee.\"\"\"\n",
    "        return self.salary * 12\n",
    "\n",
    "class Manager(Employee):\n",
    "    def __init__(self, name, salary, department, bonus):\n",
    "        \"\"\"Initialize the Manager with name, salary, department, and bonus.\"\"\"\n",
    "        super().__init__(name, salary)\n",
    "        self.department = department\n",
    "        self.bonus = bonus\n",
    "\n",
    "    def calculate_annual_salary(self):\n",
    "        \"\"\"Calculate and return the annual salary of the manager, including bonuses.\"\"\"\n",
    "        base_annual_salary = super().calculate_annual_salary()\n",
    "        return base_annual_salary + self.bonus\n",
    "\n",
    "# Create instances of the Manager class\n",
    "manager1 = Manager(\"Alice\", 80000, \"IT\", 10000)\n",
    "manager2 = Manager(\"Bob\", 90000, \"HR\", 15000)\n",
    "\n",
    "# Calculate and display the annual salary for each manager\n",
    "print(f\"Manager: {manager1.name}, Department: {manager1.department}, Annual Salary: PKR {manager1.calculate_annual_salary():,.2f}\")\n",
    "print(f\"Manager: {manager2.name}, Department: {manager2.department}, Annual Salary: PKR {manager2.calculate_annual_salary():,.2f}\")\n"
   ]
  },
  {
   "cell_type": "markdown",
   "id": "95a60676-c629-45c2-8986-742a3c7c3cf8",
   "metadata": {},
   "source": [
    "### 7. Write a Python program that creates a class `Book` with properties for title, \n",
    "    author, and publication year. Include a method to display book details. Create a \n",
    "    subclass called 'Ebook' that inherits from the 'Book' class and includes an \n",
    "    additional property for book price. Override the display method to include the \n",
    "    book price. Create an instance of the 'Ebook' class and display its details."
   ]
  },
  {
   "cell_type": "code",
   "execution_count": 24,
   "id": "2f222397-a24e-4e2f-8565-5cb0cec929d2",
   "metadata": {},
   "outputs": [
    {
     "name": "stdout",
     "output_type": "stream",
     "text": [
      "Title: The Python Journey\n",
      "Author: John Doe\n",
      "Publication Year: 2023\n",
      "Price: PKR 1500.00\n"
     ]
    }
   ],
   "source": [
    "class Book:\n",
    "    def __init__(self, title, author, publication_year):\n",
    "        \"\"\"Initialize the Book with title, author, and publication year.\"\"\"\n",
    "        self.title = title\n",
    "        self.author = author\n",
    "        self.publication_year = publication_year\n",
    "\n",
    "    def display_details(self):\n",
    "        \"\"\"Display the details of the book.\"\"\"\n",
    "        print(f\"Title: {self.title}\\nAuthor: {self.author}\\nPublication Year: {self.publication_year}\")\n",
    "\n",
    "class Ebook(Book):\n",
    "    def __init__(self, title, author, publication_year, price):\n",
    "        \"\"\"Initialize the Ebook with title, author, publication year, and price.\"\"\"\n",
    "        super().__init__(title, author, publication_year)\n",
    "        self.price = price\n",
    "\n",
    "    def display_details(self):\n",
    "        \"\"\"Display the details of the ebook, including the price.\"\"\"\n",
    "        super().display_details()\n",
    "        print(f\"Price: PKR {self.price:.2f}\")\n",
    "\n",
    "# Create an instance of the Ebook class\n",
    "ebook = Ebook(\"The Python Journey\", \"John Doe\", 2023, 1500.00)\n",
    "\n",
    "# Display the details of the ebook\n",
    "ebook.display_details()\n"
   ]
  },
  {
   "cell_type": "markdown",
   "id": "8f6c77d7-f1a4-4c7d-a1a0-3b1b62d4d046",
   "metadata": {},
   "source": [
    "### 8. Write a Python program that creates a class called 'Animal' with properties for \n",
    "    species and sound. Include a method to make the animal's sound. Create a \n",
    "    subclass called 'Dog' that inherits from the 'Animal' class and adds an additional \n",
    "    property for color. Override the make sound method to include the dog's color. \n",
    "    Create an instance of the 'Dog' class and make it make its sound. \n"
   ]
  },
  {
   "cell_type": "code",
   "execution_count": 27,
   "id": "3d380e25-19f8-4569-84bf-0f77e1f0fdb1",
   "metadata": {},
   "outputs": [
    {
     "name": "stdout",
     "output_type": "stream",
     "text": [
      "The brown dog says 'woof'\n"
     ]
    }
   ],
   "source": [
    "class Animal:\n",
    "    def __init__(self, species, sound):\n",
    "        \"\"\"Initialize the Animal with species and sound.\"\"\"\n",
    "        self.species = species\n",
    "        self.sound = sound\n",
    "\n",
    "    def make_sound(self):\n",
    "        \"\"\"Make the animal's sound.\"\"\"\n",
    "        print(f\"The {self.species} says '{self.sound}'\")\n",
    "\n",
    "class Dog(Animal):\n",
    "    def __init__(self, species, sound, color):\n",
    "        \"\"\"Initialize the Dog with species, sound, and color.\"\"\"\n",
    "        super().__init__(species, sound)\n",
    "        self.color = color\n",
    "\n",
    "    def make_sound(self):\n",
    "        \"\"\"Make the dog's sound, including its color.\"\"\"\n",
    "        print(f\"The {self.color} {self.species} says '{self.sound}'\")\n",
    "\n",
    "# Create an instance of the Dog class\n",
    "dog = Dog(\"dog\", \"woof\", \"brown\")\n",
    "\n",
    "# Make the dog make its sound\n",
    "dog.make_sound()\n"
   ]
  },
  {
   "cell_type": "markdown",
   "id": "2df99ab0-8659-4980-a0a9-bedbe08341c5",
   "metadata": {},
   "source": [
    "### 9. Write a Python program that creates a class called Bank with properties for \n",
    "    bank names and branches. Include methods to add a branch, remove a branch, \n",
    "    and display all branches. Create an instance of the Bank class and perform \n",
    "    operations to add and remove branches. "
   ]
  },
  {
   "cell_type": "code",
   "execution_count": 30,
   "id": "e3761c07-974a-4f40-92e5-0259a5687591",
   "metadata": {},
   "outputs": [
    {
     "name": "stdout",
     "output_type": "stream",
     "text": [
      "Branch 'Downtown' added to National Bank.\n",
      "Branch 'Uptown' added to National Bank.\n",
      "Branch 'Downtown' already exists in National Bank.\n",
      "Branches of National Bank: Downtown, Uptown\n",
      "Branch 'Uptown' removed from National Bank.\n",
      "Branch 'Suburb' does not exist in National Bank.\n",
      "Branches of National Bank: Downtown\n"
     ]
    }
   ],
   "source": [
    "class Bank:\n",
    "    def __init__(self, name):\n",
    "        \"\"\"Initialize the Bank with a name and an empty list of branches.\"\"\"\n",
    "        self.name = name\n",
    "        self.branches = []\n",
    "\n",
    "    def add_branch(self, branch_name):\n",
    "        \"\"\"Add a branch to the bank.\"\"\"\n",
    "        if branch_name not in self.branches:\n",
    "            self.branches.append(branch_name)\n",
    "            print(f\"Branch '{branch_name}' added to {self.name}.\")\n",
    "        else:\n",
    "            print(f\"Branch '{branch_name}' already exists in {self.name}.\")\n",
    "\n",
    "    def remove_branch(self, branch_name):\n",
    "        \"\"\"Remove a branch from the bank.\"\"\"\n",
    "        if branch_name in self.branches:\n",
    "            self.branches.remove(branch_name)\n",
    "            print(f\"Branch '{branch_name}' removed from {self.name}.\")\n",
    "        else:\n",
    "            print(f\"Branch '{branch_name}' does not exist in {self.name}.\")\n",
    "\n",
    "    def display_branches(self):\n",
    "        \"\"\"Display all branches of the bank.\"\"\"\n",
    "        if self.branches:\n",
    "            print(f\"Branches of {self.name}: {', '.join(self.branches)}\")\n",
    "        else:\n",
    "            print(f\"No branches available for {self.name}.\")\n",
    "\n",
    "# Create an instance of the Bank class\n",
    "bank = Bank(\"National Bank\")\n",
    "\n",
    "# Perform operations to add and remove branches\n",
    "bank.add_branch(\"Downtown\")\n",
    "bank.add_branch(\"Uptown\")\n",
    "bank.add_branch(\"Downtown\")  # Attempt to add a duplicate branch\n",
    "bank.display_branches()\n",
    "\n",
    "bank.remove_branch(\"Uptown\")\n",
    "bank.remove_branch(\"Suburb\")  # Attempt to remove a non-existent branch\n",
    "bank.display_branches()\n"
   ]
  },
  {
   "cell_type": "markdown",
   "id": "14b49a70-e590-404e-8852-64d965bccb57",
   "metadata": {},
   "source": [
    "### 10. Write a Python program that creates a class called Product with properties for \n",
    "    product ID, name, and price. Include a method to calculate the total price by \n",
    "    multiplying the price by the quantity. Create a subclass called \n",
    "    PersonalCareProduct that inherits from the Product class and adds an additional \n",
    "    property for the warranty period. Override the total price calculation method to \n",
    "    include the warranty period. Create an instance of the PersonalCareProduct \n",
    "    class and calculate its total price. "
   ]
  },
  {
   "cell_type": "code",
   "execution_count": 33,
   "id": "dfc419f3-e05a-4397-8398-c2bb0970d52d",
   "metadata": {},
   "outputs": [
    {
     "name": "stdout",
     "output_type": "stream",
     "text": [
      "The total price for 3 units of Shampoo is: $55\n"
     ]
    }
   ],
   "source": [
    "# Base class for Product\n",
    "class Product:\n",
    "    def __init__(self, product_id, name, price):\n",
    "        self.product_id = product_id\n",
    "        self.name = name\n",
    "        self.price = price\n",
    "\n",
    "    def calculate_total_price(self, quantity):\n",
    "        return self.price * quantity\n",
    "\n",
    "# Subclass for PersonalCareProduct inheriting from Product\n",
    "class PersonalCareProduct(Product):\n",
    "    def __init__(self, product_id, name, price, warranty_period):\n",
    "        # Initialize the base class\n",
    "        super().__init__(product_id, name, price)\n",
    "        self.warranty_period = warranty_period\n",
    "\n",
    "    # Overriding the calculate_total_price method to include warranty period\n",
    "    def calculate_total_price(self, quantity):\n",
    "        # Call the base class method and add warranty cost\n",
    "        base_price = super().calculate_total_price(quantity)\n",
    "        warranty_cost = self.warranty_period * 5  # Let's assume each year of warranty adds $5 to the cost\n",
    "        return base_price + warranty_cost\n",
    "\n",
    "# Creating an instance of PersonalCareProduct\n",
    "personal_care_product = PersonalCareProduct(101, \"Shampoo\", 15, 2)\n",
    "\n",
    "# Calculating the total price for a quantity of 3\n",
    "total_price = personal_care_product.calculate_total_price(3)\n",
    "\n",
    "# Printing the total price\n",
    "print(f\"The total price for 3 units of {personal_care_product.name} is: ${total_price}\")\n"
   ]
  },
  {
   "cell_type": "markdown",
   "id": "da9e1ca9-a3d7-43b3-ba06-f38c1cb927d6",
   "metadata": {},
   "source": [
    "### 11. Write a Python program that creates a class called BankAccount with \n",
    "    properties for account number, account holder name, and balance. Include \n",
    "    methods to deposit, withdraw, and transfer money between accounts. Create \n",
    "    multiple instances of the BankAccount class and perform operations such as \n",
    "    depositing, withdrawing, and transferring money. "
   ]
  },
  {
   "cell_type": "code",
   "execution_count": 36,
   "id": "203eb233-637a-4a20-b516-c8ec065ea043",
   "metadata": {},
   "outputs": [
    {
     "name": "stdout",
     "output_type": "stream",
     "text": [
      "Deposited $200. New balance: $700\n",
      "Withdrew $100. New balance: $600\n",
      "Transferred $150 to account 1002.\n",
      "Your new balance: $450\n",
      "Target account balance: $450\n",
      "Alice's balance: $450\n",
      "Bob's balance: $450\n"
     ]
    }
   ],
   "source": [
    "# BankAccount class with methods for deposit, withdraw, and transfer\n",
    "class BankAccount:\n",
    "    def __init__(self, account_number, account_holder, balance=0):\n",
    "        self.account_number = account_number\n",
    "        self.account_holder = account_holder\n",
    "        self.balance = balance\n",
    "\n",
    "    def deposit(self, amount):\n",
    "        if amount > 0:\n",
    "            self.balance += amount\n",
    "            print(f\"Deposited ${amount}. New balance: ${self.balance}\")\n",
    "        else:\n",
    "            print(\"Deposit amount must be positive.\")\n",
    "\n",
    "    def withdraw(self, amount):\n",
    "        if amount > 0 and amount <= self.balance:\n",
    "            self.balance -= amount\n",
    "            print(f\"Withdrew ${amount}. New balance: ${self.balance}\")\n",
    "        elif amount > self.balance:\n",
    "            print(\"Insufficient funds.\")\n",
    "        else:\n",
    "            print(\"Withdrawal amount must be positive.\")\n",
    "\n",
    "    def transfer(self, amount, target_account):\n",
    "        if amount > 0 and amount <= self.balance:\n",
    "            self.balance -= amount\n",
    "            target_account.balance += amount\n",
    "            print(f\"Transferred ${amount} to account {target_account.account_number}.\")\n",
    "            print(f\"Your new balance: ${self.balance}\")\n",
    "            print(f\"Target account balance: ${target_account.balance}\")\n",
    "        else:\n",
    "            print(\"Insufficient funds or invalid transfer amount.\")\n",
    "\n",
    "# Create multiple instances of BankAccount\n",
    "account1 = BankAccount(1001, \"Alice\", 500)\n",
    "account2 = BankAccount(1002, \"Bob\", 300)\n",
    "\n",
    "# Perform operations\n",
    "account1.deposit(200)        # Alice deposits $200\n",
    "account1.withdraw(100)       # Alice withdraws $100\n",
    "account1.transfer(150, account2)  # Alice transfers $150 to Bob\n",
    "\n",
    "# Output balances after operations\n",
    "print(f\"Alice's balance: ${account1.balance}\")\n",
    "print(f\"Bob's balance: ${account2.balance}\")\n"
   ]
  },
  {
   "cell_type": "code",
   "execution_count": null,
   "id": "c077f854-51e1-45ac-8ed6-84314624647e",
   "metadata": {},
   "outputs": [],
   "source": []
  }
 ],
 "metadata": {
  "kernelspec": {
   "display_name": "Python 3 (ipykernel)",
   "language": "python",
   "name": "python3"
  },
  "language_info": {
   "codemirror_mode": {
    "name": "ipython",
    "version": 3
   },
   "file_extension": ".py",
   "mimetype": "text/x-python",
   "name": "python",
   "nbconvert_exporter": "python",
   "pygments_lexer": "ipython3",
   "version": "3.12.7"
  }
 },
 "nbformat": 4,
 "nbformat_minor": 5
}
