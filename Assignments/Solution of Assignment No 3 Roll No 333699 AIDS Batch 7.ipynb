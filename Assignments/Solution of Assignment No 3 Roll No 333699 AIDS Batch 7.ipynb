{
 "cells": [
  {
   "cell_type": "markdown",
   "id": "3ed255ac-c2d8-48b7-8e2c-af063ceb1313",
   "metadata": {},
   "source": [
    "### 1. Check Discount Eligibility\n",
    "Write a program to check if a customer is eligible for a discount. If the total purchase is\n",
    "more than $100, apply a 10% discount and display the final price. Otherwise, display the\n",
    "total price as it is"
   ]
  },
  {
   "cell_type": "code",
   "execution_count": 24,
   "id": "69e36cc6-1776-491e-8c5b-9191d5836b85",
   "metadata": {},
   "outputs": [
    {
     "name": "stdin",
     "output_type": "stream",
     "text": [
      "please enter the total purchase amount 102\n"
     ]
    },
    {
     "name": "stdout",
     "output_type": "stream",
     "text": [
      "The discount applied is $10.20\n",
      "The final price after discount is $91.80\n"
     ]
    }
   ],
   "source": [
    "#Solution\n",
    "total_purchase = float (input (\"please enter the total purchase amount\"))\n",
    "if total_purchase > 100:\n",
    "    discount = total_purchase * 0.1\n",
    "    final_price = total_purchase - discount\n",
    "    print(f\"The discount applied is ${discount:0.2f}\")\n",
    "else: final_price = total_purchase\n",
    "print(f\"The final price after discount is ${final_price:0.2f}\")"
   ]
  },
  {
   "cell_type": "markdown",
   "id": "cbd942e6-99b2-4e55-bd41-71352eda7f5f",
   "metadata": {},
   "source": [
    "### 2. Calculate Bulk Discount\n",
    "If a customer buys more than 5 items, apply a 15% discount on the total price. Otherwise,\n",
    "no discount is applied. Display the total price.\n"
   ]
  },
  {
   "cell_type": "code",
   "execution_count": 30,
   "id": "83d11ee2-2306-4898-a2b0-057347757313",
   "metadata": {},
   "outputs": [
    {
     "name": "stdin",
     "output_type": "stream",
     "text": [
      "please enter total no of items 6\n"
     ]
    },
    {
     "name": "stdout",
     "output_type": "stream",
     "text": [
      "The discount applied no is $  15.30\n",
      "The final price after discount is $ 86.70\n"
     ]
    }
   ],
   "source": [
    "total_items = int(input(\"please enter total no of items\"))\n",
    "if total_items > 5:\n",
    "    discount = total_purchase * 0.15\n",
    "    final_price = total_purchase - discount\n",
    "    print(f\"The discount applied no is $ {discount: 0.2f}\")\n",
    "else: final_price = total_purchase\n",
    "print(f\"The final price after discount is $ {final_price:0.2f}\")"
   ]
  },
  {
   "cell_type": "markdown",
   "id": "d53a3f2c-06c6-40cf-b242-9e1dc159e429",
   "metadata": {},
   "source": [
    "### 3. Membership Discount\n",
    "Check if the customer is a member (is_member = True). Members get a 20% discount;\n",
    "non-members get a 5% discount. Calculate and print the discounted price."
   ]
  },
  {
   "cell_type": "code",
   "execution_count": 17,
   "id": "e27b9bba-2036-4b90-9516-6aaa7e8972f1",
   "metadata": {},
   "outputs": [
    {
     "name": "stdin",
     "output_type": "stream",
     "text": [
      "Please enter the total purchase amount:  120\n",
      "Is the customer a member? (yes/no):  yes\n"
     ]
    },
    {
     "name": "stdout",
     "output_type": "stream",
     "text": [
      "The discount applied is $ 24.00\n",
      "The discount applied is $ 24.00\n",
      "The final price is $ 96.00\n"
     ]
    }
   ],
   "source": [
    "total_purchase = float(input(\"Please enter the total purchase amount: \"))\n",
    "is_member = input(\"Is the customer a member? (yes/no): \").strip().lower()\n",
    "if is_member == \"yes\":    \n",
    "    discount = total_purchase * 0.2\n",
    "    print(f\"The discount applied is ${discount: 0.2f}\")\n",
    "else: \n",
    "    discount = total_purchase * 0.05\n",
    "final_price = total_purchase - discount\n",
    "print(f\"The discount applied is ${discount: 0.2f}\")\n",
    "print(f\"The final price is ${final_price: 0.2f}\")"
   ]
  },
  {
   "cell_type": "markdown",
   "id": "9d976b26-09d7-4c29-b22d-0946ea25d9fe",
   "metadata": {},
   "source": [
    "### 4. Seasonal Sale\n",
    "If today is a holiday (is_holiday = True), apply a 25% discount; otherwise, apply a 10%\n",
    "discount. Calculate the price after discount."
   ]
  },
  {
   "cell_type": "code",
   "execution_count": 20,
   "id": "9e4d73f0-1ecb-48ad-927f-40af52af2446",
   "metadata": {},
   "outputs": [
    {
     "name": "stdin",
     "output_type": "stream",
     "text": [
      "Please enter the total purchase amount:  120\n",
      "Is today a holiday? (true/false):  true\n"
     ]
    },
    {
     "name": "stdout",
     "output_type": "stream",
     "text": [
      "The discount applied is $ 30.00\n",
      "The final price is $ 90.00\n"
     ]
    }
   ],
   "source": [
    "total_purchase = float(input(\"Please enter the total purchase amount: \"))\n",
    "is_holiday = input(\"Is today a holiday? (true/false): \").strip().lower()\n",
    "if is_holiday == \"true\":\n",
    "    discount = total_purchase * 0.25\n",
    "    final_price = total_purchase - discount\n",
    "else:\n",
    "    discount = total_purchase * 0.10\n",
    "print(f\"The discount applied is ${discount: 0.2f}\")\n",
    "print(f\"The final price is ${final_price: 0.2f}\")"
   ]
  },
  {
   "cell_type": "markdown",
   "id": "810338b1-fcfc-49af-bdde-59953240bdcd",
   "metadata": {},
   "source": [
    "### 5. Buy-One-Get-One-Free\n",
    "If a customer buys an even number of items, they get half of them for free. Otherwise,\n",
    "they pay for all. Calculate the number of items the customer has to pay for."
   ]
  },
  {
   "cell_type": "code",
   "execution_count": 35,
   "id": "3e3a90ee-fff3-443f-a22a-ce81b7d7bb37",
   "metadata": {},
   "outputs": [
    {
     "name": "stdin",
     "output_type": "stream",
     "text": [
      "please enter total no of items 6\n"
     ]
    },
    {
     "name": "stdout",
     "output_type": "stream",
     "text": [
      "The Customer has to pay for 3\n"
     ]
    }
   ],
   "source": [
    "total_items = int(input(\"please enter total no of items\"))\n",
    "if total_items % 2 == 0:\n",
    "    items_to_pay_for = total_items//2\n",
    "else: \n",
    "    items_to_pay_for = total_items\n",
    "print(f\"The Customer has to pay for {items_to_pay_for}\")"
   ]
  },
  {
   "cell_type": "markdown",
   "id": "e4f253f3-4c0e-451a-ae37-83a26ee8e107",
   "metadata": {},
   "source": [
    "### 6. Sales Tax\n",
    "If the price of an item is greater than $500, apply a luxury tax of 15%. Otherwise, apply a\n",
    "standard tax of 8%. Display the total price after tax.\n"
   ]
  },
  {
   "cell_type": "code",
   "execution_count": 49,
   "id": "46e34263-021b-4af2-8fd8-6f763fa97d6e",
   "metadata": {},
   "outputs": [
    {
     "name": "stdin",
     "output_type": "stream",
     "text": [
      "please enter item price 501\n"
     ]
    },
    {
     "name": "stdout",
     "output_type": "stream",
     "text": [
      "The total price to be paid is $576.15 \n"
     ]
    }
   ],
   "source": [
    "item_price = int(input(\"please enter item price\"))\n",
    "if item_price > 500:\n",
    "    tax_deductible = item_price * 0.15\n",
    "else:\n",
    "    tax_deductible = item_price * 0.08\n",
    "total_price = item_price + tax_deductible\n",
    "print(f\"The total price to be paid is ${total_price} \")"
   ]
  },
  {
   "cell_type": "markdown",
   "id": "a17c280f-385d-4d63-a470-58ec45c72c38",
   "metadata": {},
   "source": [
    "### 7. Income Tax\n",
    "If a person's annual income is above $50,000, they pay 20% tax. Otherwise, they pay\n",
    "10%. Calculate and display the tax amount."
   ]
  },
  {
   "cell_type": "code",
   "execution_count": 57,
   "id": "4be94d92-0ac0-4d59-bcbe-baf7ba9da9b0",
   "metadata": {},
   "outputs": [
    {
     "name": "stdin",
     "output_type": "stream",
     "text": [
      "please enter annual income 55000\n"
     ]
    },
    {
     "name": "stdout",
     "output_type": "stream",
     "text": [
      "The total tax deductible tax amount is 11000.0\n"
     ]
    }
   ],
   "source": [
    "annual_income = int(input(\"please enter annual income\"))\n",
    "if annual_income > 50000:\n",
    "    tax_deductible = annual_income * 0.20\n",
    "else:\n",
    "    tax_deductible = annual_income * 0.10\n",
    "print(f\"The total tax deductible tax amount is {tax_deductible}\")"
   ]
  },
  {
   "cell_type": "markdown",
   "id": "14adb7bb-60d4-43ff-97a7-85424bbf6371",
   "metadata": {},
   "source": [
    "### 8. Tax Bracket\n",
    "'''Write a program to categorize a person into tax brackets:\n",
    "\n",
    "Income < $30,000: \"Low Tax\"\n",
    "\n",
    "$30,000 ≤ Income < $100,000: \"Medium Tax\"\n",
    "\n",
    "Income ≥ $100,000: \"High Tax\" '''"
   ]
  },
  {
   "cell_type": "code",
   "execution_count": 74,
   "id": "886e6644-3688-4db3-a70c-58d29fae9ea9",
   "metadata": {},
   "outputs": [
    {
     "name": "stdin",
     "output_type": "stream",
     "text": [
      "please enter individual's annual income 55000\n"
     ]
    },
    {
     "name": "stdout",
     "output_type": "stream",
     "text": [
      "the tax bracket of the person is Medium Tax\n"
     ]
    }
   ],
   "source": [
    "income = int(input(\"please enter individual's annual income\"))\n",
    "if income <30000:\n",
    "    tax_bracket = \"Low Tax\"\n",
    "elif 30000 <= income < 100000:\n",
    "    tax_bracket = \"Medium Tax\"\n",
    "else:\n",
    "    tax_bracket = \"High Tax\"\n",
    "print(f\"the tax bracket of the person is {tax_bracket}\")"
   ]
  },
  {
   "cell_type": "markdown",
   "id": "7d91b76b-0f42-497b-abc6-1757ee87e60e",
   "metadata": {},
   "source": [
    "### 9. VAT Calculation\n",
    "If the item is marked as essential (is_essential = True), apply a VAT of 5%. Otherwise,\n",
    "apply a VAT of 12%. Display the final price."
   ]
  },
  {
   "cell_type": "code",
   "execution_count": 87,
   "id": "4368adbd-915b-491d-adab-1b9ae4a99d75",
   "metadata": {},
   "outputs": [
    {
     "name": "stdin",
     "output_type": "stream",
     "text": [
      "is the item an essential item? (true/false): true\n"
     ]
    },
    {
     "name": "stdout",
     "output_type": "stream",
     "text": [
      "the final price is $526.05\n"
     ]
    }
   ],
   "source": [
    "is_essential = input(\"is the item an essential item? (true/false):\").strip().lower()\n",
    "if is_essential == \"true\":\n",
    "    VAT = item_price * 0.05\n",
    "else:\n",
    "    VAT = item_price * 0.12\n",
    "final_price = item_price + VAT\n",
    "print(f\"the final price is ${final_price}\")"
   ]
  },
  {
   "cell_type": "markdown",
   "id": "520e4159-e8f7-431a-b8a1-38b3a7688a33",
   "metadata": {},
   "source": [
    "### 10. Tax-Free Day\n",
    "'''If today is a tax-free day (tax_free = True), display the original price. Otherwise, add a\n",
    "7% tax.'''\n"
   ]
  },
  {
   "cell_type": "code",
   "execution_count": 145,
   "id": "3a988340-0de9-4910-892c-145b991fa33a",
   "metadata": {},
   "outputs": [
    {
     "name": "stdin",
     "output_type": "stream",
     "text": [
      "Is today a tax free day? (yes/no): no\n"
     ]
    },
    {
     "name": "stdout",
     "output_type": "stream",
     "text": [
      "the final price is $536.07\n"
     ]
    }
   ],
   "source": [
    "tax_free_day = input(\"Is today a tax free day? (yes/no):\").strip().lower()\n",
    "if tax_free_day == \"yes\":\n",
    "    final_price = item_price\n",
    "else:\n",
    "    tax_deductible = item_price * 0.07\n",
    "    final_price = item_price + tax_deductible\n",
    "print(f\"the final price is ${final_price}\")"
   ]
  },
  {
   "cell_type": "markdown",
   "id": "c3ba271a-ad2d-4b0d-b66a-5d032c80aaa7",
   "metadata": {},
   "source": [
    "### 11. Free Shipping\n",
    "'''If the total purchase amount is more than $50, offer free shipping; otherwise, charge $5\n",
    "for shipping. Display the total amount including shipping. '''"
   ]
  },
  {
   "cell_type": "code",
   "execution_count": 12,
   "id": "6b459247-b396-4620-814e-478776409d17",
   "metadata": {},
   "outputs": [
    {
     "name": "stdin",
     "output_type": "stream",
     "text": [
      "Enter the total purchase amount:$ 55\n"
     ]
    },
    {
     "name": "stdout",
     "output_type": "stream",
     "text": [
      "the total amount is found to be $55\n"
     ]
    }
   ],
   "source": [
    "total_purchase_amount = int(input(\"Enter the total purchase amount:$\"))\n",
    "if total_purchase_amount > 50:\n",
    "    shipping_charges = 0\n",
    "else:\n",
    "    shipping_charges = 5\n",
    "total_amount = total_purchase_amount + shipping_charges\n",
    "print(f\"the total amount is found to be ${total_amount}\")"
   ]
  },
  {
   "cell_type": "markdown",
   "id": "23e0dc71-221c-4978-aa94-622323af2cf0",
   "metadata": {},
   "source": [
    "### 12. Discount Code\n",
    "'''If a customer enters the correct discount code (DISCOUNT10), apply a 10% discount.\n",
    "Otherwise, charge the full amount.'''"
   ]
  },
  {
   "cell_type": "code",
   "execution_count": 20,
   "id": "322afafb-556b-4726-8445-d89f307a84f6",
   "metadata": {},
   "outputs": [
    {
     "name": "stdin",
     "output_type": "stream",
     "text": [
      "Please enter the correct discount code DISCOUNT10\n"
     ]
    },
    {
     "name": "stdout",
     "output_type": "stream",
     "text": [
      "the total amount is found to be $49.5\n"
     ]
    }
   ],
   "source": [
    "discount_code = input(\"Please enter the correct discount code\")\n",
    "if discount_code == \"DISCOUNT10\":\n",
    "    discount = total_purchase_amount * 0.1\n",
    "else:\n",
    "    discount = 0\n",
    "total_amount = total_purchase_amount - discount\n",
    "print (f\"the total amount is found to be ${total_amount}\")"
   ]
  },
  {
   "cell_type": "markdown",
   "id": "5c7e64d3-ce9c-4fbc-9bb2-99ef32f32e4c",
   "metadata": {},
   "source": [
    "### 13. Tiered Discounts\n",
    "'''Apply discounts based on the total price:\n",
    "\n",
    "$0–$50: No discount.\n",
    "\n",
    "$50–$100: 10% discount\n",
    "\n",
    "Over $100: 20% discount.'''"
   ]
  },
  {
   "cell_type": "code",
   "execution_count": 30,
   "id": "4fad81bf-4cf5-4ac4-bff0-8e01db0a6b17",
   "metadata": {},
   "outputs": [
    {
     "name": "stdin",
     "output_type": "stream",
     "text": [
      "please enter the total price 110\n"
     ]
    },
    {
     "name": "stdout",
     "output_type": "stream",
     "text": [
      "the final price is found to be $88.0\n"
     ]
    }
   ],
   "source": [
    "total_price = float(input(\"please enter the total price\"))\n",
    "if 0 <= total_price < 50:\n",
    "    discount = 0\n",
    "elif 50 <= total_price < 100:\n",
    "    discount = total_price * 0.10\n",
    "else:\n",
    "    discount = total_price * 0.20\n",
    "final_price = total_price - discount\n",
    "print (f\"the final price is found to be ${final_price}\")"
   ]
  },
  {
   "cell_type": "markdown",
   "id": "f696ad04-a457-4d55-b9e4-b872146850c8",
   "metadata": {},
   "source": [
    "### 14. Minimum Purchase Requirement\n",
    "''' If the total amount is less than $20, display a message: \"Minimum purchase of $20 is\n",
    "required.\" Otherwise, display the total amount.'''"
   ]
  },
  {
   "cell_type": "code",
   "execution_count": 42,
   "id": "72885864-0e0c-4b0f-875b-9089d3451d40",
   "metadata": {},
   "outputs": [
    {
     "name": "stdin",
     "output_type": "stream",
     "text": [
      "please ener the total amount 25\n"
     ]
    },
    {
     "name": "stdout",
     "output_type": "stream",
     "text": [
      "the total amount is found to be $25\n"
     ]
    }
   ],
   "source": [
    "total_amount = int(input(\"please ener the total amount\"))\n",
    "if total_amount < 20:\n",
    "    message = \"Minimum Purchase of 20 is required\"\n",
    "    print(message)\n",
    "else:\n",
    "    print(f\"the total amount is found to be ${total_amount}\")"
   ]
  },
  {
   "cell_type": "markdown",
   "id": "5139da46-bc7b-4033-b272-0b77bc8aaa53",
   "metadata": {},
   "source": [
    "### 15. Loyalty Points\n",
    "''' If a customer is a loyal member (is_loyal = True), they earn double loyalty points for\n",
    "their purchase. Otherwise, they earn standard points.'''"
   ]
  },
  {
   "cell_type": "code",
   "execution_count": 54,
   "id": "15763745-419b-414f-a676-d5d8db3eb067",
   "metadata": {},
   "outputs": [
    {
     "name": "stdin",
     "output_type": "stream",
     "text": [
      "Are you a loyal member? (yes/no): no\n"
     ]
    },
    {
     "name": "stdout",
     "output_type": "stream",
     "text": [
      "You have standard loyalty points\n"
     ]
    }
   ],
   "source": [
    "is_loyal = input(\"Are you a loyal member? (yes/no):\").strip().lower()\n",
    "if is_loyal == \"yes\":\n",
    "    message = \"Your loyalty points are doubled\"\n",
    "    print(message)\n",
    "else:\n",
    "    print(f\"You have standard loyalty points\")"
   ]
  },
  {
   "cell_type": "markdown",
   "id": "08f33961-4bb6-4448-98a8-81a63ff16970",
   "metadata": {},
   "source": [
    "### 16. Travel Discount\n",
    "''' If a person is traveling more than 500 miles, offer a 20% discount on ticket price.\n",
    "Otherwise, charge the full amount.'''"
   ]
  },
  {
   "cell_type": "code",
   "execution_count": 64,
   "id": "53bc265c-5042-40e4-aa81-1bcf23ba1d63",
   "metadata": {},
   "outputs": [
    {
     "name": "stdin",
     "output_type": "stream",
     "text": [
      "please the ticket price $ 56\n",
      "How much miles do you travel? 520\n"
     ]
    },
    {
     "name": "stdout",
     "output_type": "stream",
     "text": [
      "the price you have to pay is 44.8\n"
     ]
    }
   ],
   "source": [
    "ticket_price = int (input(\"please the ticket price $\"))\n",
    "traveling = int(input(\"How much miles do you travel?\"))\n",
    "if traveling > 500:\n",
    "    discount = ticket_price * 0.20\n",
    "    price_tobe_paid = ticket_price - discount\n",
    "else:\n",
    "    price_tobe_paid = ticket_price\n",
    "print(f\"the price you have to pay is {price_tobe_paid}\")"
   ]
  },
  {
   "cell_type": "markdown",
   "id": "1ab86ebd-6748-404c-8d8d-4fc456d3e508",
   "metadata": {},
   "source": [
    "### 17. Child or Senior Discount\n",
    "'''If a passenger is under 12 or over 60 years old, apply a 15% discount on the ticket price.\n",
    "Otherwise, charge the full price.'''"
   ]
  },
  {
   "cell_type": "code",
   "execution_count": 76,
   "id": "fc41e8f2-1998-42cb-bd0e-c3cf474cde0d",
   "metadata": {},
   "outputs": [
    {
     "name": "stdin",
     "output_type": "stream",
     "text": [
      "please enter the ticket price $ 50\n",
      "please enter your age (Years) 14\n"
     ]
    },
    {
     "name": "stdout",
     "output_type": "stream",
     "text": [
      "You have to pay $50\n"
     ]
    }
   ],
   "source": [
    "ticket_price = int (input(\"please enter the ticket price $\"))\n",
    "age = int (input(\"please enter your age (Years)\"))\n",
    "if age <= 12 or age > 60:\n",
    "    discount = ticket_price * 0.15\n",
    "    price_tobe_paid = ticket_price - discount\n",
    "else:\n",
    "    price_tobe_paid = ticket_price\n",
    "print(f\"You have to pay ${price_tobe_paid}\")"
   ]
  },
  {
   "cell_type": "markdown",
   "id": "9fbe3915-cba1-4ed0-96b2-23dd094ee356",
   "metadata": {},
   "source": [
    "### 18. Ticket Type Pricing\n",
    "If the ticket is for a weekend (is_weekend = True), add a 10% surcharge. Otherwise,\n",
    "charge the standard price'''"
   ]
  },
  {
   "cell_type": "code",
   "execution_count": 84,
   "id": "6c3f55b0-14c4-452a-9ef2-f7f3b2a42f66",
   "metadata": {},
   "outputs": [
    {
     "name": "stdin",
     "output_type": "stream",
     "text": [
      "please enter the ticket price $ 600\n",
      "Is the ticket for a weekend? (yes/no): yes\n"
     ]
    },
    {
     "name": "stdout",
     "output_type": "stream",
     "text": [
      "Your have to pay $660.0\n"
     ]
    }
   ],
   "source": [
    "ticket_price = int (input(\"please enter the ticket price $\"))\n",
    "is_weekend = input(\"Is the ticket for a weekend? (yes/no):\").strip().lower()\n",
    "if is_weekend == \"yes\":\n",
    "    surcharge = ticket_price * 0.10\n",
    "    price_tobe_paid = ticket_price + surcharge\n",
    "else:\n",
    "    price_tobe_paid = ticket_price\n",
    "print(f\"Your have to pay ${price_tobe_paid}\")"
   ]
  },
  {
   "cell_type": "markdown",
   "id": "80af8e25-17ed-4687-9b3e-201207a75f46",
   "metadata": {},
   "source": [
    "### 19. Baggage Fee\n",
    "'''If the total baggage weight is over 20kg, charge $10 per extra kilogram. Otherwise, no\n",
    "extra fee.'''"
   ]
  },
  {
   "cell_type": "code",
   "execution_count": 90,
   "id": "23d4ceff-0b01-43d6-a1fa-f912fd464461",
   "metadata": {},
   "outputs": [
    {
     "name": "stdin",
     "output_type": "stream",
     "text": [
      "please enter the ticket price 100\n",
      "please enter your baggage weight: kg 25\n"
     ]
    },
    {
     "name": "stdout",
     "output_type": "stream",
     "text": [
      "Your ticket price to be paid is 150.0\n"
     ]
    }
   ],
   "source": [
    "ticket_price = int(input(\"please enter the ticket price\"))\n",
    "baggage_weight = float(input(\"please enter your baggage weight: kg\"))\n",
    "extra_weight = baggage_weight-20\n",
    "if baggage_weight > 20:\n",
    "    extra_charge = extra_weight * 10\n",
    "    final_ticket_price = ticket_price + extra_charge\n",
    "else:\n",
    "    final_ticket_price = ticket_price\n",
    "print(f\"Your ticket price to be paid is {final_ticket_price}\")"
   ]
  },
  {
   "cell_type": "markdown",
   "id": "9511e715-edd0-485a-83c4-c11a260edaf8",
   "metadata": {},
   "source": [
    "### 20. Early Bird Discount\n",
    "'''If a ticket is booked more than 30 days in advance, apply a 10% discount. Otherwise,\n",
    "charge the full price.'''"
   ]
  },
  {
   "cell_type": "code",
   "execution_count": 94,
   "id": "fb893941-ec28-4c12-88ad-cf91620be5a1",
   "metadata": {},
   "outputs": [
    {
     "name": "stdin",
     "output_type": "stream",
     "text": [
      "please enter the ticket price 50\n",
      "How many days in advance is the ticket booked?  29\n"
     ]
    },
    {
     "name": "stdout",
     "output_type": "stream",
     "text": [
      "Your ticket price would be $50\n"
     ]
    }
   ],
   "source": [
    "ticket_price = int(input(\"please enter the ticket price\"))\n",
    "days_in_advance = int(input(\"How many days in advance is the ticket booked? \"))\n",
    "if days_in_advance > 30:\n",
    "    discount = ticket_price * 0.1\n",
    "    price = ticket_price - discount\n",
    "else:\n",
    "    price = ticket_price\n",
    "print(f\"Your ticket price would be ${price}\")"
   ]
  },
  {
   "cell_type": "markdown",
   "id": "dee77266-9ab0-4803-a114-c6f21fa80397",
   "metadata": {},
   "source": [
    "### 21. Pass or Fail\n",
    "'''If a student scores 40 or more, print \"Pass\". Otherwise, print \"Fail\".'''"
   ]
  },
  {
   "cell_type": "code",
   "execution_count": 100,
   "id": "67da15ba-495d-4a8d-b9e7-ee0482a5c33e",
   "metadata": {},
   "outputs": [
    {
     "name": "stdin",
     "output_type": "stream",
     "text": [
      "please enter student score 45\n"
     ]
    },
    {
     "name": "stdout",
     "output_type": "stream",
     "text": [
      "pass\n"
     ]
    }
   ],
   "source": [
    "score = int(input(\"please enter student score\"))\n",
    "if score >= 40:\n",
    "    print(\"pass\")\n",
    "else:\n",
    "    print(\"fail\")"
   ]
  },
  {
   "cell_type": "markdown",
   "id": "53c0e8ff-8dfb-40fb-b414-50fda2395153",
   "metadata": {},
   "source": [
    "### 22. Grade Assignment\n",
    "\n",
    "''' Based on a student's score, assign grades:\n",
    "\n",
    "90 and above: \"A\"\n",
    "\n",
    "75–89: \"B\"\n",
    "\n",
    "50–74: \"C\"\n",
    "\n",
    "Below 50: \"F\"\n",
    "'''"
   ]
  },
  {
   "cell_type": "code",
   "execution_count": 115,
   "id": "0548a4d8-345f-4dca-a36e-fcb3c092a900",
   "metadata": {},
   "outputs": [
    {
     "name": "stdin",
     "output_type": "stream",
     "text": [
      "please enter student score between 0 and 100: 78\n"
     ]
    },
    {
     "name": "stdout",
     "output_type": "stream",
     "text": [
      "Your grade is B\n"
     ]
    }
   ],
   "source": [
    "student_score = int(input(\"please enter student score between 0 and 100:\"))\n",
    "if student_score > 90:\n",
    "    print(\"Your grade is A\")\n",
    "elif 75 <= student_score < 90:\n",
    "    print(\"Your grade is B\")\n",
    "elif 50 <= student_score < 75:\n",
    "    print(\"Your grade is C\")\n",
    "else:\n",
    "    print(\"Your grade F\")"
   ]
  },
  {
   "cell_type": "markdown",
   "id": "d964d169-327c-46e4-b26b-7aa6b88fc899",
   "metadata": {},
   "source": [
    "### 23. Bonus Marks\n",
    "''' If a student completes all assignments, add 5 bonus marks to their score. Otherwise, no\n",
    "bonus marks.'''"
   ]
  },
  {
   "cell_type": "code",
   "execution_count": 127,
   "id": "f5ad5678-75aa-4759-8213-6e6e1d180cbc",
   "metadata": {},
   "outputs": [
    {
     "name": "stdin",
     "output_type": "stream",
     "text": [
      "please enter student marks 100\n",
      "Have you completed all the assignemnts? (yes/no): yes\n"
     ]
    },
    {
     "name": "stdout",
     "output_type": "stream",
     "text": [
      "the student's total marks are 105\n"
     ]
    }
   ],
   "source": [
    "student_marks = int(input(\"please enter student marks\"))\n",
    "is_complete = input(\"Have you completed all the assignemnts? (yes/no):\").strip().lower()\n",
    "if is_complete == \"yes\":\n",
    "    bonus_marks = 5\n",
    "    total_marks = student_marks + bonus_marks\n",
    "else:\n",
    "    total_marks = student_marks\n",
    "print(f\"the student's total marks are {total_marks}\")"
   ]
  },
  {
   "cell_type": "markdown",
   "id": "331eb4ac-156f-4a92-9dcc-03672781afe8",
   "metadata": {},
   "source": [
    "### 24. Attendance Eligibility\n",
    "If a student's attendance is 75% or more, they are eligible to take the exam. Otherwise,\n",
    "they are not."
   ]
  },
  {
   "cell_type": "code",
   "execution_count": 133,
   "id": "2f6c459c-aafe-47bc-b8e0-8953f985b0fb",
   "metadata": {},
   "outputs": [
    {
     "name": "stdin",
     "output_type": "stream",
     "text": [
      "please enter student attendance (%): 76\n"
     ]
    },
    {
     "name": "stdout",
     "output_type": "stream",
     "text": [
      "You are eligible to take the exams\n"
     ]
    }
   ],
   "source": [
    "st_attendance = int(input(\"please enter student attendance (%):\"))\n",
    "if st_attendance >= 75:\n",
    "    print(\"You are eligible to take the exams\")\n",
    "else:\n",
    "    print(\"Your are not eligible to take the exams\")"
   ]
  },
  {
   "cell_type": "markdown",
   "id": "4948c09e-00b6-4cf5-9186-8b53872b42fb",
   "metadata": {},
   "source": [
    "### 25. Scholarship Eligibility\n",
    "If a student's grade is \"A\" and their annual family income is below $30,000, they are\n",
    "eligible for a scholarship. Otherwise, they are not. '''"
   ]
  },
  {
   "cell_type": "code",
   "execution_count": 25,
   "id": "761bb70c-6610-420f-a72c-a3b12b5f131c",
   "metadata": {},
   "outputs": [
    {
     "name": "stdin",
     "output_type": "stream",
     "text": [
      "Please student's Grade(A to F):  a\n",
      "please enter your family total income $: 20000\n"
     ]
    },
    {
     "name": "stdout",
     "output_type": "stream",
     "text": [
      "You are eligible for scholarship\n"
     ]
    }
   ],
   "source": [
    "st_grade = input(\"Please student's Grade(A to F): \").strip().upper()\n",
    "fam_income = int(input(\"please enter your family total income $:\"))\n",
    "if st_grade ==\"A\": \n",
    "    if fam_income < 30000:\n",
    "        print(\"You are eligible for scholarship\")\n",
    "    else:\n",
    "        print(\"You are not eligible for a scholarship\")\n",
    "else:\n",
    "    print(\"You are not eligible for a scholarship\")"
   ]
  }
 ],
 "metadata": {
  "kernelspec": {
   "display_name": "Python 3 (ipykernel)",
   "language": "python",
   "name": "python3"
  },
  "language_info": {
   "codemirror_mode": {
    "name": "ipython",
    "version": 3
   },
   "file_extension": ".py",
   "mimetype": "text/x-python",
   "name": "python",
   "nbconvert_exporter": "python",
   "pygments_lexer": "ipython3",
   "version": "3.12.7"
  }
 },
 "nbformat": 4,
 "nbformat_minor": 5
}
