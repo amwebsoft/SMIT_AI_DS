{
 "cells": [
  {
   "cell_type": "markdown",
   "id": "45809474-b30a-4a59-9580-1cbae6890f5f",
   "metadata": {},
   "source": [
    "## Assignment No 4 (a)"
   ]
  },
  {
   "cell_type": "markdown",
   "id": "8aadce66-4545-4795-ae51-f47b5d4af2e9",
   "metadata": {},
   "source": [
    "### 1. Write a program that prompts the user to input a number and display if the number is even or odd."
   ]
  },
  {
   "cell_type": "code",
   "execution_count": 6,
   "id": "c749748f-a4b4-482b-9635-ea4a31b55e79",
   "metadata": {},
   "outputs": [
    {
     "name": "stdin",
     "output_type": "stream",
     "text": [
      "Please enter a number to check whether it is even or odd? 7\n"
     ]
    },
    {
     "name": "stdout",
     "output_type": "stream",
     "text": [
      "The number is an Odd Number\n"
     ]
    }
   ],
   "source": [
    "check_num = int(input(\"Please enter a number to check whether it is even or odd?\"))\n",
    "if check_num%2 ==0:\n",
    "    print (\"The number is an Even Number\")\n",
    "else:\n",
    "    print(\"The number is an Odd Number\")"
   ]
  },
  {
   "cell_type": "markdown",
   "id": "d8f3dab7-f94c-4c43-bf16-255c7d9d0a48",
   "metadata": {},
   "source": [
    "### 2. Write a Python program that takes an age as input and determines whether a person is eligible to vote. If the age is 18 or above, print \"You are eligible to vote.\" Otherwise, print \"You are not eligible to vote yet.\"."
   ]
  },
  {
   "cell_type": "code",
   "execution_count": 28,
   "id": "1c4acfb2-b760-48e8-9136-bbc073db6c12",
   "metadata": {},
   "outputs": [
    {
     "name": "stdin",
     "output_type": "stream",
     "text": [
      "please enter your age 18\n"
     ]
    },
    {
     "name": "stdout",
     "output_type": "stream",
     "text": [
      "You are eligible to vote\n"
     ]
    }
   ],
   "source": [
    "age = int(input(\"please enter your age\"))\n",
    "if age >= 18:\n",
    "    print(\"You are eligible to vote\")\n",
    "else:\n",
    "    print(\"You are not eligible to vote\")"
   ]
  },
  {
   "cell_type": "markdown",
   "id": "84c47a2e-0d6c-493b-b01d-f76d0dc37356",
   "metadata": {},
   "source": [
    "### 3. Write a program that prompts the user to input two integers and outputs the largest.\n"
   ]
  },
  {
   "cell_type": "code",
   "execution_count": 35,
   "id": "c1721b4d-3d19-487e-98c3-3c5369a6b9e2",
   "metadata": {},
   "outputs": [
    {
     "name": "stdin",
     "output_type": "stream",
     "text": [
      "please enter first integer 5\n",
      "please enter second integer 6\n"
     ]
    },
    {
     "name": "stdout",
     "output_type": "stream",
     "text": [
      " the 6 is the largest\n"
     ]
    }
   ],
   "source": [
    "integer1 = int(input(\"please enter first integer\"))\n",
    "integer2 = int(input(\"please enter second integer\"))\n",
    "if integer1 > integer2:\n",
    "    print(f\"the {integer1} is the largest\")\n",
    "else:\n",
    "    print(f\" the {integer2} is the largest\")"
   ]
  },
  {
   "cell_type": "markdown",
   "id": "4457959a-de7e-461c-a461-3a2570242a90",
   "metadata": {},
   "source": [
    "### 4. Write a program that prompts the user to enter a number and determines whether it is positive, negative, or zero. The program should print \"Positive\" if the number is greater than 0, \"Negative\" if the number is less than 0, and \"Zero\" if the number is 0.\n"
   ]
  },
  {
   "cell_type": "code",
   "execution_count": 52,
   "id": "5fc1fb41-4f16-4fbc-9ffa-30240101ecca",
   "metadata": {},
   "outputs": [
    {
     "name": "stdin",
     "output_type": "stream",
     "text": [
      "please enter a number to check whether positive or negative or a zero 0\n"
     ]
    },
    {
     "name": "stdout",
     "output_type": "stream",
     "text": [
      "the number is zero\n"
     ]
    }
   ],
   "source": [
    "num = int(input(\"please enter a number to check whether positive or negative or a zero\"))\n",
    "if num < 0:\n",
    "    print(\"the number is negative\")\n",
    "elif num > 0:\n",
    "    print(\"the number is positive\")\n",
    "else:\n",
    "    print(\"the number is zero\")"
   ]
  },
  {
   "cell_type": "markdown",
   "id": "c21e0bfc-1269-407f-b37e-066219680b8f",
   "metadata": {},
   "source": [
    "### 5. Write a program that prompts the user to enter their age and prints the corresponding age group. The program should use the following age groups: \n",
    "#### 0-12: Child\n",
    "#### 13-19: Teenager\n",
    "#### 20-59: Adult\n",
    "#### 60 and above: Senior Citizen"
   ]
  },
  {
   "cell_type": "code",
   "execution_count": 74,
   "id": "c9f830e8-5631-4610-813a-b0775d7fc933",
   "metadata": {},
   "outputs": [
    {
     "name": "stdin",
     "output_type": "stream",
     "text": [
      "please enter your age 38\n"
     ]
    },
    {
     "name": "stdout",
     "output_type": "stream",
     "text": [
      "You are an Adult\n"
     ]
    }
   ],
   "source": [
    "age = int(input(\"please enter your age\"))\n",
    "if 1<= age <= 12:\n",
    "    print (\"You are a Child\")\n",
    "elif 13 <= age <= 19:\n",
    "    print(\"You are a Teenager\")\n",
    "elif 20 <= age <= 59:\n",
    "    print(\"You are an Adult\")\n",
    "else:\n",
    "    print(\"You are a Senior Citizen\")"
   ]
  },
  {
   "cell_type": "markdown",
   "id": "1fe239c3-5260-42d6-962d-714267f5a6b4",
   "metadata": {},
   "source": [
    "### 6. Write a program that prompts the user to input a number from 1 to 7. The program should display the corresponding day for the given number. For example, if the user types 1, the output should be Sunday. If the user types 7, the output should be Saturday. If the number is not between 1 to 7 user should get error message as shown in sample output."
   ]
  },
  {
   "cell_type": "code",
   "execution_count": 81,
   "id": "4e47ee8e-9d65-4d23-8ed9-aaeea6c5fba9",
   "metadata": {},
   "outputs": [
    {
     "name": "stdin",
     "output_type": "stream",
     "text": [
      "please enter a valid number between 1 to 7:  9\n"
     ]
    },
    {
     "name": "stdout",
     "output_type": "stream",
     "text": [
      "You have not entered a valid number\n"
     ]
    }
   ],
   "source": [
    "day = int(input(\"please enter a valid number between 1 to 7: \"))\n",
    "if day == 1:\n",
    "    print(\"The day is Sunday\")\n",
    "elif day == 2:\n",
    "    print(\"The day is Monday\")\n",
    "elif day == 3:\n",
    "    print(\"The day is Tuesday\")\n",
    "elif day == 4:\n",
    "    print(\"The day is Wednesday\")\n",
    "elif day == 5:\n",
    "    print(\"The day is Thursday\")\n",
    "elif day == 6:\n",
    "    print(\"The day is Friday\")\n",
    "elif day == 7:\n",
    "    print(\"The day is Saturday\")\n",
    "else:\n",
    "    print(\"You have not entered a valid number\")"
   ]
  },
  {
   "cell_type": "markdown",
   "id": "2ac9168b-398e-42a9-b98a-eb4d0cb85d5b",
   "metadata": {},
   "source": [
    "### 7. Write a program that prompts the user to enter their weight (in kilograms) and height\n",
    "#### (in meters). The program should calculate the Body Mass Index (BMI) using the formula:\n",
    "#### BMI = weight / (height * height). The program should then classify the BMI into one of\n",
    "#### the following categories:\n",
    "#### less than 18.5 - Underweight\n",
    "#### BMI between 18.5 and 24.9 - Normal weight\n",
    "#### BMI between 25 and 29.9 - Overweight\n",
    "#### BMI 30 or greater - Obesity"
   ]
  },
  {
   "cell_type": "code",
   "execution_count": 98,
   "id": "b36db308-c484-4f94-a1b4-097972ad186c",
   "metadata": {},
   "outputs": [
    {
     "name": "stdin",
     "output_type": "stream",
     "text": [
      "please enter your weight in KG:  80\n",
      "please enter your height in m:  1.78\n"
     ]
    },
    {
     "name": "stdout",
     "output_type": "stream",
     "text": [
      "Overweight\n"
     ]
    }
   ],
   "source": [
    "weight = float(input(\"please enter your weight in KG: \"))\n",
    "height = float(input(\"please enter your height in m: \"))\n",
    "BMI = weight/(height*height)\n",
    "if BMI < 18.5:\n",
    "    print(\"Underweight\")\n",
    "elif 18.5 < BMI < 24.9:\n",
    "    print(\"Normal Weight\")\n",
    "elif 25 < BMI < 29.9:\n",
    "    print(\"Overweight\")\n",
    "else:\n",
    "    print(\"Obesity\")"
   ]
  },
  {
   "cell_type": "markdown",
   "id": "241f41fa-d8fb-4ce5-883a-4c5f236e8f3c",
   "metadata": {},
   "source": [
    "### 8. The marks obtained by a student in 3 different subjects are input by the user. Your\n",
    "#### program should calculate the average of subjects and display the grade. The student\n",
    "#### gets a grade as per the following rules:\n",
    "#### Average Grade\n",
    "#### 90-100 A\n",
    "#### 80-89 B\n",
    "#### 70-79 C\n",
    "#### 60-69 D\n",
    "#### 0-59 F"
   ]
  },
  {
   "cell_type": "code",
   "execution_count": 101,
   "id": "80c59fd8-f649-4241-8bd3-9bbfaa06d3b4",
   "metadata": {},
   "outputs": [
    {
     "name": "stdin",
     "output_type": "stream",
     "text": [
      "please enter subject 1 marks:  85\n",
      "please enter subject 2 marks:  84\n",
      "please enter subject 3 marks:  75\n"
     ]
    },
    {
     "name": "stdout",
     "output_type": "stream",
     "text": [
      "Your grade is B\n"
     ]
    }
   ],
   "source": [
    "sub_1 = float(input(\"please enter subject 1 marks: \"))\n",
    "sub_2 = float(input(\"please enter subject 2 marks: \"))\n",
    "sub_3 = float(input(\"please enter subject 3 marks: \"))\n",
    "average = (sub_1 + sub_2 + sub_3) / 3\n",
    "if 90 <= average <= 100:\n",
    "    print(\"Your grade is A\")\n",
    "elif 80 <= average <= 89:\n",
    "    print(\"Your grade is B\")\n",
    "elif 70 <= average <= 79:\n",
    "    print(\" Your grade is C\")\n",
    "elif 60 <= average <= 69:\n",
    "    print(\"Your grade is D\")\n",
    "else:\n",
    "    print(\"Your grade is F\")"
   ]
  },
  {
   "cell_type": "markdown",
   "id": "374b9a25-7832-4a6e-bc8e-1e1ea6bb1cdd",
   "metadata": {},
   "source": [
    "### 9. The roots of the quadratic equation ax2 + bx + c = 0, a ≠ 0 are given by the following formula:\n",
    " -b±√b²-4ac / 2a\n",
    "### In this formula, the term b²-4ac is called the discriminant. If b²-4ac = 0, then the equation has two equal roots. If b²-4ac > 0, the equation has two real roots. If b² - 4ac < 0, the equation has two complex roots. Write a program that prompts the user to input the value of a (the coefficient of x²), b (the coefficient of x), and c (the constant term) and outputs the roots of the quadratic equation."
   ]
  },
  {
   "cell_type": "code",
   "execution_count": 4,
   "id": "53d0b0a5-aa8c-4147-8913-5000268813bd",
   "metadata": {},
   "outputs": [
    {
     "name": "stdout",
     "output_type": "stream",
     "text": [
      "Enter the coefficients of the quadratic equation (ax² + bx + c = 0):\n"
     ]
    },
    {
     "name": "stdin",
     "output_type": "stream",
     "text": [
      "a (coefficient of x²):  2\n",
      "b (coefficient of x):  8\n",
      "c (constant term):  3\n"
     ]
    },
    {
     "name": "stdout",
     "output_type": "stream",
     "text": [
      "The equation has two distinct real roots.\n",
      "The roots of the quadratic equation are: (-0.41886116991581024+0j) and (-3.58113883008419+0j)\n"
     ]
    }
   ],
   "source": [
    "import cmath\n",
    "\n",
    "# Prompt user to input coefficients a, b, and c\n",
    "print(\"Enter the coefficients of the quadratic equation (ax² + bx + c = 0):\")\n",
    "a = float(input(\"a (coefficient of x²): \"))\n",
    "b = float(input(\"b (coefficient of x): \"))\n",
    "c = float(input(\"c (constant term): \"))\n",
    "\n",
    "# Check if a is zero (not a quadratic equation)\n",
    "if a == 0:\n",
    "    print(\"The value of 'a' cannot be zero for a quadratic equation.\")\n",
    "else:\n",
    "    # Calculate the discriminant\n",
    "    discriminant = b**2 - 4*a*c\n",
    "\n",
    "    # Determine the nature of the roots\n",
    "    if discriminant > 0:\n",
    "        print(\"The equation has two distinct real roots.\")\n",
    "    elif discriminant == 0:\n",
    "        print(\"The equation has two equal real roots.\")\n",
    "    else:\n",
    "        print(\"The equation has two complex roots.\")\n",
    "\n",
    "    # Calculate the roots\n",
    "    root1 = (-b + cmath.sqrt(discriminant)) / (2 * a)\n",
    "    root2 = (-b - cmath.sqrt(discriminant)) / (2 * a)\n",
    "\n",
    "    # Display the roots\n",
    "    print(f\"The roots of the quadratic equation are: {root1} and {root2}\")\n"
   ]
  },
  {
   "cell_type": "markdown",
   "id": "b8958c5f-2409-4666-b483-a0eac5a62591",
   "metadata": {},
   "source": [
    "### 10. Write a program that prompts the user to enter three numbers and sorts them in ascending order. The program should print the sorted numbers."
   ]
  },
  {
   "cell_type": "code",
   "execution_count": 16,
   "id": "47fd6207-3033-42a2-850c-3e9dc5e26d70",
   "metadata": {},
   "outputs": [
    {
     "name": "stdin",
     "output_type": "stream",
     "text": [
      "please enter first number 659\n",
      "please enter 2nd number 589\n",
      "please enter third number 652\n"
     ]
    },
    {
     "name": "stdout",
     "output_type": "stream",
     "text": [
      "The numbers in ascending order are: \n",
      "589.0 652.0 659.0\n"
     ]
    }
   ],
   "source": [
    "num1 = float(input(\"please enter first number\"))\n",
    "num2 = float(input(\"please enter 2nd number\"))\n",
    "num3 = float(input(\"please enter third number\"))\n",
    "\n",
    "numbers = [num1, num2, num3]\n",
    "numbers.sort()\n",
    "print(\"The numbers in ascending order are: \")\n",
    "print(numbers[0], numbers[1], numbers[2])"
   ]
  },
  {
   "cell_type": "markdown",
   "id": "2c884cec-02f1-44fb-b315-e0389c8be2aa",
   "metadata": {},
   "source": [
    "### 11. Write a program that prompts the user to input three integers and outputs the largest."
   ]
  },
  {
   "cell_type": "code",
   "execution_count": 20,
   "id": "f79ed4ca-2916-4298-b31d-fb1b96020923",
   "metadata": {},
   "outputs": [
    {
     "name": "stdin",
     "output_type": "stream",
     "text": [
      "please enter 1st number 985\n",
      "please enter 2nd number 655\n",
      "please enter 3rd number 256\n"
     ]
    },
    {
     "name": "stdout",
     "output_type": "stream",
     "text": [
      "the largest number is 985\n"
     ]
    }
   ],
   "source": [
    "# prompts the user to enter the threer numbers\n",
    "num1 = int(input(\"please enter 1st number\"))\n",
    "num2 = int(input(\"please enter 2nd number\"))\n",
    "num3 = int(input(\"please enter 3rd number\"))\n",
    "\n",
    "# max function to find the largest number\n",
    "largest = max (num1, num2, num3)\n",
    "\n",
    "#output the largest number\n",
    "print(f\"the largest number is {largest}\")"
   ]
  },
  {
   "cell_type": "markdown",
   "id": "1350b37d-085c-4d35-b044-1d113d6594dc",
   "metadata": {},
   "source": [
    "### 12. Write a program that prompts the user to input a character and determine the character is vowel or consonant."
   ]
  },
  {
   "cell_type": "code",
   "execution_count": 32,
   "id": "61fb6074-5833-490b-842f-06cd08a5aa89",
   "metadata": {},
   "outputs": [
    {
     "name": "stdin",
     "output_type": "stream",
     "text": [
      "input a single character E\n"
     ]
    },
    {
     "name": "stdout",
     "output_type": "stream",
     "text": [
      " The character e is a vowel\n"
     ]
    }
   ],
   "source": [
    "#prompt the user to enter a charcter\n",
    "char = input(\"input a single character\").lower()\n",
    "\n",
    "# check if the character is a single alphanumeric character\n",
    "if len(char) == 1 and char.isalpha():\n",
    "# Check if the characer is a vowel\n",
    "    if char in \"aeiou\":\n",
    "        print(f\" The character {char} is a vowel\")\n",
    "    else:\n",
    "        print(f\"The character {char} is a consonant\")\n",
    "else: \n",
    "    print(\"Invalid input! Please enter a single alphanumeri character\")"
   ]
  },
  {
   "cell_type": "markdown",
   "id": "d6577a8b-160d-449d-97b1-1632c3ce74b2",
   "metadata": {},
   "source": [
    "### 13. Write a program that prompts the user to input a year and determine whether the year is a leap year or not. Leap Years are any year that can be evenly divided by 4. A year that is evenly divisible by 100 is a leap year only if it is also evenly divisible by 400. Example:\n",
    "    1992 Leap Year\n",
    "    2000 Leap Year\n",
    "    1900 NOT a Leap Year\n",
    "    1995 NOT a Leap Year"
   ]
  },
  {
   "cell_type": "code",
   "execution_count": 44,
   "id": "02cad98e-0d46-49a3-9221-8f4d5bebda54",
   "metadata": {},
   "outputs": [
    {
     "name": "stdin",
     "output_type": "stream",
     "text": [
      "Enter a year:  1900\n"
     ]
    },
    {
     "name": "stdout",
     "output_type": "stream",
     "text": [
      "1900 is not a leap year.\n"
     ]
    }
   ],
   "source": [
    "# Program to determine whether a year is a leap year\n",
    "\n",
    "# Prompt the user to input a year\n",
    "year = int(input(\"Enter a year: \"))\n",
    "\n",
    "# Check if the year is a leap year\n",
    "if (year % 4 == 0 and year % 100 != 0) or (year % 400 == 0):\n",
    "    print(f\"{year} is a leap year.\")\n",
    "else:\n",
    "    print(f\"{year} is not a leap year.\")\n"
   ]
  },
  {
   "cell_type": "markdown",
   "id": "f202f2cd-6219-496f-ac93-4a7d4c979811",
   "metadata": {},
   "source": [
    "### 14. Write a program that prompts the user to input number of calls and calculate the\n",
    "    monthly telephone bills as per the following rule:\n",
    "    Minimum Rs. 200 for up to 100 calls.\n",
    "    Plus Rs. 0.60 per call for next 50 calls.\n",
    "    Plus Rs. 0.50 per call for next 50 calls.\n",
    "    Plus Rs. 0.40 per call for any call beyond 200 calls."
   ]
  },
  {
   "cell_type": "code",
   "execution_count": 56,
   "id": "f5b51bb8-5e0e-4f52-8ef5-ec5da5e48e67",
   "metadata": {},
   "outputs": [
    {
     "name": "stdin",
     "output_type": "stream",
     "text": [
      "Enter the number of calles to calculate bill:  500\n"
     ]
    },
    {
     "name": "stdout",
     "output_type": "stream",
     "text": [
      "The monthly bill is 375.0: \n"
     ]
    }
   ],
   "source": [
    "calls = int(input(\"Enter the number of calles to calculate bill: \"))\n",
    "if calls <= 100:\n",
    "    bill = 200\n",
    "elif calls <= 150:\n",
    "    bill = 200 + (calls-100) * 0.60\n",
    "elif calls <= 200:\n",
    "    bill = 200 + 50 * 0.60 + (calls - 150) * 0.50\n",
    "else:\n",
    "    bill = 200 + 50 * 0.60 + 50 * 0.50 + (calls-200) * 0.40\n",
    "\n",
    "print(f\"The monthly bill is {bill}: \")"
   ]
  }
 ],
 "metadata": {
  "kernelspec": {
   "display_name": "Python 3 (ipykernel)",
   "language": "python",
   "name": "python3"
  },
  "language_info": {
   "codemirror_mode": {
    "name": "ipython",
    "version": 3
   },
   "file_extension": ".py",
   "mimetype": "text/x-python",
   "name": "python",
   "nbconvert_exporter": "python",
   "pygments_lexer": "ipython3",
   "version": "3.12.7"
  }
 },
 "nbformat": 4,
 "nbformat_minor": 5
}
