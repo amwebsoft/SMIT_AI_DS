{
 "cells": [
  {
   "cell_type": "markdown",
   "id": "8731ff12-371f-4a4d-8154-113deffd9989",
   "metadata": {},
   "source": [
    "# Functions Assignment 4-1"
   ]
  },
  {
   "cell_type": "markdown",
   "id": "56353034-b2bf-4791-a7d0-ae8d5cccc87b",
   "metadata": {},
   "source": [
    "### 1. Write a Python function to find the maximum of three numbers."
   ]
  },
  {
   "cell_type": "code",
   "execution_count": 2,
   "id": "9c9ccfbc-52bd-44ca-bb48-176f82b780b4",
   "metadata": {},
   "outputs": [
    {
     "name": "stdout",
     "output_type": "stream",
     "text": [
      "The maximum of 5, 12, and 7 is 12\n"
     ]
    }
   ],
   "source": [
    "def find_maximum(num1, num2, num3):\n",
    "    \"\"\"\n",
    "    Returns the maximum of three numbers.\n",
    "\n",
    "    Parameters:\n",
    "        num1 (float or int): The first number.\n",
    "        num2 (float or int): The second number.\n",
    "        num3 (float or int): The third number.\n",
    "\n",
    "    Returns:\n",
    "        float or int: The largest of the three numbers.\n",
    "    \"\"\"\n",
    "    return max(num1, num2, num3)\n",
    "\n",
    "# Example usage:\n",
    "number1 = 5\n",
    "number2 = 12\n",
    "number3 = 7\n",
    "print(f\"The maximum of {number1}, {number2}, and {number3} is {find_maximum(number1, number2, number3)}\")"
   ]
  },
  {
   "cell_type": "markdown",
   "id": "8d5f8c90-2c1d-475e-9a74-01ded121160d",
   "metadata": {},
   "source": [
    "### 2. Write a Python function to sum all the numbers in a list.\n",
    "    Sample List : (8, 2, 3, 0, 7)\n",
    "    Expected Output : 20"
   ]
  },
  {
   "cell_type": "code",
   "execution_count": 7,
   "id": "37dbe366-6b2e-42ba-9973-63df40440914",
   "metadata": {},
   "outputs": [
    {
     "name": "stdout",
     "output_type": "stream",
     "text": [
      "The sum of the numbers in the list [8, 2, 3, 0, 7] is 20\n"
     ]
    }
   ],
   "source": [
    "def sum_numbers(numbers):\n",
    "    \"\"\"\n",
    "    Returns the sum of all the numbers in a list.\n",
    "\n",
    "    Parameters:\n",
    "        numbers (list): A list of numbers.\n",
    "\n",
    "    Returns:\n",
    "        int or float: The sum of the numbers.\n",
    "    \"\"\"\n",
    "    return sum(numbers)\n",
    "\n",
    "# Example usage:\n",
    "sample_list = [8, 2, 3, 0, 7]\n",
    "print(f\"The sum of the numbers in the list {sample_list} is {sum_numbers(sample_list)}\")"
   ]
  },
  {
   "cell_type": "markdown",
   "id": "ebac6c63-2ea9-4ee0-90aa-78698c8680d4",
   "metadata": {},
   "source": [
    "#### If you’d like a custom implementation without using Python’s built-in sum() function, here’s an alternative:"
   ]
  },
  {
   "cell_type": "code",
   "execution_count": 10,
   "id": "08d6c6ad-e59a-4181-a18d-614dede73cb2",
   "metadata": {},
   "outputs": [
    {
     "name": "stdout",
     "output_type": "stream",
     "text": [
      "The sum of the numbers in the list [8, 2, 3, 0, 7] is 20\n"
     ]
    }
   ],
   "source": [
    "def sum_numbers(numbers):\n",
    "    \"\"\"\n",
    "    Returns the sum of all the numbers in a list.\n",
    "\n",
    "    Parameters:\n",
    "        numbers (list): A list of numbers.\n",
    "\n",
    "    Returns:\n",
    "        int or float: The sum of the numbers.\n",
    "    \"\"\"\n",
    "    total = 0\n",
    "    for num in numbers:\n",
    "        total += num\n",
    "    return total\n",
    "\n",
    "# Example usage:\n",
    "sample_list = [8, 2, 3, 0, 7]\n",
    "print(f\"The sum of the numbers in the list {sample_list} is {sum_numbers(sample_list)}\")"
   ]
  },
  {
   "cell_type": "markdown",
   "id": "27735a41-3a2e-49d3-b84f-dd1e0f2324d4",
   "metadata": {},
   "source": [
    "### 3. Write a Python function to multiply all the numbers in a list.\n",
    "    Sample List : (8, 2, 3, -1, 7)\n",
    "    Expected Output : -336"
   ]
  },
  {
   "cell_type": "code",
   "execution_count": 17,
   "id": "b1ab2884-e971-4a4a-ad25-2586c6954602",
   "metadata": {},
   "outputs": [
    {
     "name": "stdout",
     "output_type": "stream",
     "text": [
      "The multiplication of the numbers in the list [8, 2, 3, -1, 7] is -336\n"
     ]
    }
   ],
   "source": [
    "def multiply_numbers(numbers):\n",
    "    '''\n",
    "    Returns the multiplication of all the numbers in a list\n",
    "    '''\n",
    "    total = 1\n",
    "    for num in numbers:\n",
    "        total *= num\n",
    "    return total\n",
    "# example usage:\n",
    "sample_list = [8, 2, 3, -1, 7]\n",
    "print(f\"The multiplication of the numbers in the list {sample_list} is {multiply_numbers(sample_list)}\")"
   ]
  },
  {
   "cell_type": "markdown",
   "id": "d4d10ce0-4f7a-4b67-b546-18c1cd3603e8",
   "metadata": {},
   "source": [
    "### 4. Write a Python program to reverse a string.\n",
    "    Sample String : \"1234abcd\"\n",
    "    Expected Output : \"dcba4321\""
   ]
  },
  {
   "cell_type": "code",
   "execution_count": 29,
   "id": "23028bd1-9d71-4e0c-a3d5-cc75d567cd4b",
   "metadata": {},
   "outputs": [
    {
     "name": "stdout",
     "output_type": "stream",
     "text": [
      "The reversed string of '1234abcd' is 'dcba4321'\n"
     ]
    }
   ],
   "source": [
    "def reverse_string(s):\n",
    "    \"\"\"\n",
    "    Returns the reversed version of the input string.\n",
    "\n",
    "    Parameters:\n",
    "        s (str): The string to be reversed.\n",
    "\n",
    "    Returns:\n",
    "        str: The reversed string.\n",
    "    \"\"\"\n",
    "    return s[::-1]\n",
    "\n",
    "# Example usage:\n",
    "sample_string = \"1234abcd\"\n",
    "print(f\"The reversed string of '{sample_string}' is '{reverse_string(sample_string)}'\")\n"
   ]
  },
  {
   "cell_type": "markdown",
   "id": "04c5cb6e-29ce-4a54-9286-8ace7c106525",
   "metadata": {},
   "source": [
    "### 5. Write a Python function to calculate the factorial of a number (a non-negative integer). The function accepts the number as an argument."
   ]
  },
  {
   "cell_type": "code",
   "execution_count": 2,
   "id": "c3204942-96c1-44c1-b6b8-b161d3430e67",
   "metadata": {},
   "outputs": [
    {
     "name": "stdout",
     "output_type": "stream",
     "text": [
      "The factorial of 5 is 120\n"
     ]
    }
   ],
   "source": [
    "def factorial(n):\n",
    "    \"\"\"\n",
    "    Calculate the factorial of a non-negative integer.\n",
    "\n",
    "    Args:\n",
    "        n (int): The number to calculate the factorial for.\n",
    "\n",
    "    Returns:\n",
    "        int: The factorial of the number.\n",
    "\n",
    "    Raises:\n",
    "        ValueError: If n is negative.\n",
    "    \"\"\"\n",
    "    if n < 0:\n",
    "        raise ValueError(\"The number must be a non-negative integer.\")\n",
    "    if n == 0 or n == 1:\n",
    "        return 1\n",
    "    result = 1\n",
    "    for i in range(2, n + 1):\n",
    "        result *= i\n",
    "    return result\n",
    "\n",
    "# Example usage\n",
    "number = 5\n",
    "print(f\"The factorial of {number} is {factorial(number)}\")\n"
   ]
  },
  {
   "cell_type": "markdown",
   "id": "9fdb5047-d812-4d54-8949-53a7af92e761",
   "metadata": {},
   "source": [
    "### 6. Write a Python function to check whether a number falls within a given range."
   ]
  },
  {
   "cell_type": "code",
   "execution_count": 6,
   "id": "e23bcda2-3c8a-4a4c-b351-6231d47cc283",
   "metadata": {},
   "outputs": [
    {
     "name": "stdout",
     "output_type": "stream",
     "text": [
      "Is 10 in the range 5 to 15? True\n"
     ]
    }
   ],
   "source": [
    "def is_in_range(number, start, end):\n",
    "    \"\"\"\n",
    "    Check if a number is within a given range (inclusive).\n",
    "\n",
    "    Args:\n",
    "        number (float or int): The number to check.\n",
    "        start (float or int): The start of the range.\n",
    "        end (float or int): The end of the range.\n",
    "\n",
    "    Returns:\n",
    "        bool: True if the number is within the range, False otherwise.\n",
    "    \"\"\"\n",
    "    return start <= number <= end\n",
    "\n",
    "# Example usage\n",
    "num = 10\n",
    "range_start = 5\n",
    "range_end = 15\n",
    "print(f\"Is {num} in the range {range_start} to {range_end}? {is_in_range(num, range_start, range_end)}\")\n"
   ]
  },
  {
   "cell_type": "markdown",
   "id": "180cb297-a72f-40fd-9590-e4e4df8c7095",
   "metadata": {},
   "source": [
    "### 7. Write a Python function that accepts a string and counts the number of upper\n",
    "and lower case letters.\n",
    "Sample String : 'The quick Brow Fox'\n",
    "Expected Output :\n",
    "No. of Upper case characters : 3\n",
    "No. of Lower case Characters : 12"
   ]
  },
  {
   "cell_type": "code",
   "execution_count": 9,
   "id": "78b6fec3-bef2-4328-a4bb-8297b6bcb933",
   "metadata": {},
   "outputs": [
    {
     "name": "stdout",
     "output_type": "stream",
     "text": [
      "Sample String: 'The quick Brow Fox'\n",
      "No. of Upper case characters: 3\n",
      "No. of Lower case Characters: 12\n"
     ]
    }
   ],
   "source": [
    "def count_case_letters(s):\n",
    "    \"\"\"\n",
    "    Count the number of uppercase and lowercase letters in a string.\n",
    "\n",
    "    Args:\n",
    "        s (str): The input string.\n",
    "\n",
    "    Returns:\n",
    "        tuple: A tuple containing the count of uppercase and lowercase letters.\n",
    "    \"\"\"\n",
    "    upper_count = sum(1 for char in s if char.isupper())\n",
    "    lower_count = sum(1 for char in s if char.islower())\n",
    "    return upper_count, lower_count\n",
    "\n",
    "# Example usage\n",
    "sample_string = 'The quick Brow Fox'\n",
    "upper, lower = count_case_letters(sample_string)\n",
    "print(f\"Sample String: '{sample_string}'\")\n",
    "print(f\"No. of Upper case characters: {upper}\")\n",
    "print(f\"No. of Lower case Characters: {lower}\")\n"
   ]
  },
  {
   "cell_type": "markdown",
   "id": "760cf7c0-3cb3-45a2-9642-32d2a45decff",
   "metadata": {},
   "source": [
    "### 8. Write a Python function that takes a list and returns a new list with distinct\n",
    "    elements from the first list.\n",
    "    Sample List : [1,2,3,3,3,3,4,5]\n",
    "    Unique List : [1, 2, 3, 4, 5]"
   ]
  },
  {
   "cell_type": "markdown",
   "id": "c759a6da-2e56-4474-8f74-aa392b6a7e03",
   "metadata": {},
   "source": [
    "### 9. Write a Python function that takes a number as a parameter and checks\n",
    "    whether the number is prime or not.\n",
    "    Note : A prime number (or a prime) is a natural number greater than 1 and that\n",
    "    has no positive divisors other than 1 and itself."
   ]
  },
  {
   "cell_type": "code",
   "execution_count": 13,
   "id": "a77542cb-21d4-4e08-90eb-b8b812c6981a",
   "metadata": {},
   "outputs": [
    {
     "name": "stdout",
     "output_type": "stream",
     "text": [
      "29 is a prime number.\n"
     ]
    }
   ],
   "source": [
    "def is_prime(number):\n",
    "    \"\"\"\n",
    "    Check whether a number is prime.\n",
    "\n",
    "    Args:\n",
    "        number (int): The number to check.\n",
    "\n",
    "    Returns:\n",
    "        bool: True if the number is prime, False otherwise.\n",
    "    \"\"\"\n",
    "    if number <= 1:\n",
    "        return False\n",
    "    if number == 2:\n",
    "        return True  # 2 is the smallest prime number\n",
    "    if number % 2 == 0:\n",
    "        return False  # Even numbers greater than 2 are not prime\n",
    "    for i in range(3, int(number ** 0.5) + 1, 2):  # Check odd divisors up to sqrt(number)\n",
    "        if number % i == 0:\n",
    "            return False\n",
    "    return True\n",
    "\n",
    "# Example usage\n",
    "num = 29\n",
    "if is_prime(num):\n",
    "    print(f\"{num} is a prime number.\")\n",
    "else:\n",
    "    print(f\"{num} is not a prime number.\")\n"
   ]
  },
  {
   "cell_type": "markdown",
   "id": "03050c3c-3ca8-42f6-97da-91c5d84c2f35",
   "metadata": {},
   "source": [
    "### 10. Write a Python program to print the even numbers from a given list.\n",
    "    Sample List : [1, 2, 3, 4, 5, 6, 7, 8, 9]\n",
    "    Expected Result : [2, 4, 6, 8]"
   ]
  },
  {
   "cell_type": "code",
   "execution_count": 16,
   "id": "c400a747-81e8-404f-b8b2-ad2282c63243",
   "metadata": {},
   "outputs": [
    {
     "name": "stdout",
     "output_type": "stream",
     "text": [
      "Sample List: [1, 2, 3, 4, 5, 6, 7, 8, 9]\n",
      "Even Numbers: [2, 4, 6, 8]\n"
     ]
    }
   ],
   "source": [
    "def get_even_numbers(numbers):\n",
    "    \"\"\"\n",
    "    Extract even numbers from a given list.\n",
    "\n",
    "    Args:\n",
    "        numbers (list): The list of numbers.\n",
    "\n",
    "    Returns:\n",
    "        list: A list containing the even numbers from the input list.\n",
    "    \"\"\"\n",
    "    return [num for num in numbers if num % 2 == 0]\n",
    "\n",
    "# Example usage\n",
    "sample_list = [1, 2, 3, 4, 5, 6, 7, 8, 9]\n",
    "even_numbers = get_even_numbers(sample_list)\n",
    "print(f\"Sample List: {sample_list}\")\n",
    "print(f\"Even Numbers: {even_numbers}\")\n"
   ]
  },
  {
   "cell_type": "markdown",
   "id": "233fc723-81f6-42f9-8f30-5bf8e7467cab",
   "metadata": {},
   "source": [
    "### 11. Write a Python function to check whether a number is \"Perfect\" or not.\n",
    "    According to Wikipedia : In number theory, a perfect number is a positive integer\n",
    "    that is equal to the sum of its proper positive divisors, that is, the sum of its\n",
    "    positive divisors excluding the number itself (also known as its aliquot sum).\n",
    "    Equivalently, a perfect number is a number that is half the sum of all of its\n",
    "    positive divisors (including itself).\n",
    "    Example : The first perfect number is 6, because 1, 2, and 3 are its proper positive\n",
    "    divisors, and 1 + 2 + 3 = 6. Equivalently, the number 6 is equal to half the sum of\n",
    "    all its positive divisors: ( 1 + 2 + 3 + 6 ) / 2 = 6. The next perfect number is 28 = 1 +\n",
    "    2 + 4 + 7 + 14. This is followed by the perfect numbers 496 and 8128."
   ]
  },
  {
   "cell_type": "code",
   "execution_count": 19,
   "id": "4f257038-e984-4d2d-82dd-25eff7d8a093",
   "metadata": {},
   "outputs": [
    {
     "name": "stdout",
     "output_type": "stream",
     "text": [
      "6 is a perfect number.\n",
      "28 is a perfect number.\n",
      "496 is a perfect number.\n",
      "8128 is a perfect number.\n",
      "10 is not a perfect number.\n"
     ]
    }
   ],
   "source": [
    "def is_perfect_number(n):\n",
    "    \"\"\"\n",
    "    Check whether a number is a perfect number.\n",
    "\n",
    "    Args:\n",
    "        n (int): The number to check.\n",
    "\n",
    "    Returns:\n",
    "        bool: True if the number is perfect, False otherwise.\n",
    "    \"\"\"\n",
    "    if n <= 1:\n",
    "        return False\n",
    "\n",
    "    # Calculate the sum of proper divisors\n",
    "    divisors_sum = sum(i for i in range(1, n // 2 + 1) if n % i == 0)\n",
    "    return divisors_sum == n\n",
    "\n",
    "# Example usage\n",
    "for number in [6, 28, 496, 8128, 10]:\n",
    "    result = \"is\" if is_perfect_number(number) else \"is not\"\n",
    "    print(f\"{number} {result} a perfect number.\")\n"
   ]
  },
  {
   "cell_type": "markdown",
   "id": "3240d587-ce93-4ede-92c8-0e712b418923",
   "metadata": {},
   "source": [
    "### 12. Write a Python function that checks whether a passed string is a palindrome or not.\n",
    "    Note: A palindrome is a word, phrase, or sequence that reads the same backward\n",
    "    as forward, e.g., madam or nurses run."
   ]
  },
  {
   "cell_type": "code",
   "execution_count": 22,
   "id": "da767c62-ffc4-4307-a680-2887643dcbf7",
   "metadata": {},
   "outputs": [
    {
     "name": "stdout",
     "output_type": "stream",
     "text": [
      "'madam' is a palindrome.\n",
      "'nurses run' is a palindrome.\n",
      "'hello' is not a palindrome.\n",
      "'A man, a plan, a canal: Panama' is a palindrome.\n"
     ]
    }
   ],
   "source": [
    "def is_palindrome(s):\n",
    "    \"\"\"\n",
    "    Check whether a passed string is a palindrome.\n",
    "\n",
    "    Args:\n",
    "        s (str): The string to check.\n",
    "\n",
    "    Returns:\n",
    "        bool: True if the string is a palindrome, False otherwise.\n",
    "    \"\"\"\n",
    "    # Normalize the string: remove spaces and convert to lowercase\n",
    "    normalized_str = ''.join(char.lower() for char in s if char.isalnum())\n",
    "    # Check if the normalized string is equal to its reverse\n",
    "    return normalized_str == normalized_str[::-1]\n",
    "\n",
    "# Example usage\n",
    "sample_strings = [\"madam\", \"nurses run\", \"hello\", \"A man, a plan, a canal: Panama\"]\n",
    "for string in sample_strings:\n",
    "    result = \"is\" if is_palindrome(string) else \"is not\"\n",
    "    print(f\"'{string}' {result} a palindrome.\")\n"
   ]
  },
  {
   "cell_type": "code",
   "execution_count": null,
   "id": "77c516fd-7595-4468-ba77-c43d42f831a3",
   "metadata": {},
   "outputs": [],
   "source": []
  }
 ],
 "metadata": {
  "kernelspec": {
   "display_name": "Python 3 (ipykernel)",
   "language": "python",
   "name": "python3"
  },
  "language_info": {
   "codemirror_mode": {
    "name": "ipython",
    "version": 3
   },
   "file_extension": ".py",
   "mimetype": "text/x-python",
   "name": "python",
   "nbconvert_exporter": "python",
   "pygments_lexer": "ipython3",
   "version": "3.12.7"
  }
 },
 "nbformat": 4,
 "nbformat_minor": 5
}
